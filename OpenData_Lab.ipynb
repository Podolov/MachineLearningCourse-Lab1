{
 "cells": [
  {
   "cell_type": "markdown",
   "metadata": {},
   "source": [
    "## 2015 Open Data"
   ]
  },
  {
   "cell_type": "markdown",
   "metadata": {},
   "source": [
    "В данном датасете исследуется принадлежность открытых данных к одной из четырнадцати категорий, такие как результаты выборов, бюджет правильства, загрязнение воздуха и т.д."
   ]
  },
  {
   "cell_type": "markdown",
   "metadata": {},
   "source": [
    "### Описание данных:"
   ]
  },
  {
   "cell_type": "markdown",
   "metadata": {},
   "source": [
    "- Country Name и Country Code: название и код страны, в которой представлены открые данные\n",
    "- Year: год представления открых данных\n",
    "- Category: категория октрытых данных \n",
    "- Rank и Score: текущее место и количество наборов(очков) страны по открытым данным в заданной категории\n",
    "- Open Data: открытые данные\n",
    "- Existent: существование\n",
    "- Current: действительность\n",
    "- Public: публичность\n",
    "- Free: свободные\n",
    "- Digital: цифровые\n",
    "- Online: в интернете\n",
    "- Machine Readable: машиночитаемые\n",
    "- Downloadable: доступные для загрузки\n",
    "- Open License: с открытой лицензией"
   ]
  },
  {
   "cell_type": "code",
   "execution_count": 1,
   "metadata": {
    "collapsed": true
   },
   "outputs": [],
   "source": [
    "import numpy as np\n",
    "import matplotlib.pyplot as plt\n",
    "import pandas as pd\n",
    "%matplotlib inline"
   ]
  },
  {
   "cell_type": "code",
   "execution_count": 2,
   "metadata": {
    "collapsed": true
   },
   "outputs": [],
   "source": [
    "data = pd.read_csv('scores.csv', sep = ',', engine = 'python')"
   ]
  },
  {
   "cell_type": "code",
   "execution_count": 3,
   "metadata": {},
   "outputs": [
    {
     "data": {
      "text/plain": [
       "pandas.core.frame.DataFrame"
      ]
     },
     "execution_count": 3,
     "metadata": {},
     "output_type": "execute_result"
    }
   ],
   "source": [
    "type(data)"
   ]
  },
  {
   "cell_type": "code",
   "execution_count": 4,
   "metadata": {},
   "outputs": [
    {
     "data": {
      "text/html": [
       "<div>\n",
       "<style>\n",
       "    .dataframe thead tr:only-child th {\n",
       "        text-align: right;\n",
       "    }\n",
       "\n",
       "    .dataframe thead th {\n",
       "        text-align: left;\n",
       "    }\n",
       "\n",
       "    .dataframe tbody tr th {\n",
       "        vertical-align: top;\n",
       "    }\n",
       "</style>\n",
       "<table border=\"1\" class=\"dataframe\">\n",
       "  <thead>\n",
       "    <tr style=\"text-align: right;\">\n",
       "      <th></th>\n",
       "      <th>Country Code</th>\n",
       "      <th>Country Name</th>\n",
       "      <th>Year</th>\n",
       "      <th>Category</th>\n",
       "      <th>Rank</th>\n",
       "      <th>Score</th>\n",
       "      <th>Open Data</th>\n",
       "      <th>Existent</th>\n",
       "      <th>Current</th>\n",
       "      <th>Public</th>\n",
       "      <th>Free</th>\n",
       "      <th>Digital</th>\n",
       "      <th>Online</th>\n",
       "      <th>Machine Readable</th>\n",
       "      <th>Downloadable</th>\n",
       "      <th>Open License</th>\n",
       "    </tr>\n",
       "  </thead>\n",
       "  <tbody>\n",
       "    <tr>\n",
       "      <th>0</th>\n",
       "      <td>AL</td>\n",
       "      <td>Albania</td>\n",
       "      <td>2015</td>\n",
       "      <td>Air Pollution</td>\n",
       "      <td>54</td>\n",
       "      <td>35</td>\n",
       "      <td>No</td>\n",
       "      <td>Yes</td>\n",
       "      <td>No</td>\n",
       "      <td>Yes</td>\n",
       "      <td>Yes</td>\n",
       "      <td>Yes</td>\n",
       "      <td>Yes</td>\n",
       "      <td>No</td>\n",
       "      <td>No</td>\n",
       "      <td>No</td>\n",
       "    </tr>\n",
       "    <tr>\n",
       "      <th>1</th>\n",
       "      <td>AL</td>\n",
       "      <td>Albania</td>\n",
       "      <td>2015</td>\n",
       "      <td>Company Registrations</td>\n",
       "      <td>33</td>\n",
       "      <td>35</td>\n",
       "      <td>No</td>\n",
       "      <td>Yes</td>\n",
       "      <td>No</td>\n",
       "      <td>Yes</td>\n",
       "      <td>Yes</td>\n",
       "      <td>Yes</td>\n",
       "      <td>Yes</td>\n",
       "      <td>No</td>\n",
       "      <td>No</td>\n",
       "      <td>No</td>\n",
       "    </tr>\n",
       "    <tr>\n",
       "      <th>2</th>\n",
       "      <td>AL</td>\n",
       "      <td>Albania</td>\n",
       "      <td>2015</td>\n",
       "      <td>Election Results</td>\n",
       "      <td>45</td>\n",
       "      <td>45</td>\n",
       "      <td>No</td>\n",
       "      <td>Yes</td>\n",
       "      <td>Yes</td>\n",
       "      <td>Yes</td>\n",
       "      <td>Yes</td>\n",
       "      <td>Yes</td>\n",
       "      <td>Yes</td>\n",
       "      <td>No</td>\n",
       "      <td>No</td>\n",
       "      <td>No</td>\n",
       "    </tr>\n",
       "    <tr>\n",
       "      <th>3</th>\n",
       "      <td>AL</td>\n",
       "      <td>Albania</td>\n",
       "      <td>2015</td>\n",
       "      <td>Government Budget</td>\n",
       "      <td>45</td>\n",
       "      <td>60</td>\n",
       "      <td>No</td>\n",
       "      <td>Yes</td>\n",
       "      <td>Yes</td>\n",
       "      <td>Yes</td>\n",
       "      <td>Yes</td>\n",
       "      <td>Yes</td>\n",
       "      <td>Yes</td>\n",
       "      <td>Yes</td>\n",
       "      <td>No</td>\n",
       "      <td>No</td>\n",
       "    </tr>\n",
       "    <tr>\n",
       "      <th>4</th>\n",
       "      <td>AL</td>\n",
       "      <td>Albania</td>\n",
       "      <td>2015</td>\n",
       "      <td>Government Expenditures</td>\n",
       "      <td>4</td>\n",
       "      <td>60</td>\n",
       "      <td>No</td>\n",
       "      <td>Yes</td>\n",
       "      <td>Yes</td>\n",
       "      <td>Yes</td>\n",
       "      <td>Yes</td>\n",
       "      <td>Yes</td>\n",
       "      <td>Yes</td>\n",
       "      <td>Yes</td>\n",
       "      <td>No</td>\n",
       "      <td>No</td>\n",
       "    </tr>\n",
       "    <tr>\n",
       "      <th>5</th>\n",
       "      <td>AL</td>\n",
       "      <td>Albania</td>\n",
       "      <td>2015</td>\n",
       "      <td>Government Procurement</td>\n",
       "      <td>36</td>\n",
       "      <td>45</td>\n",
       "      <td>No</td>\n",
       "      <td>Yes</td>\n",
       "      <td>Yes</td>\n",
       "      <td>Yes</td>\n",
       "      <td>Yes</td>\n",
       "      <td>Yes</td>\n",
       "      <td>Yes</td>\n",
       "      <td>No</td>\n",
       "      <td>No</td>\n",
       "      <td>No</td>\n",
       "    </tr>\n",
       "    <tr>\n",
       "      <th>6</th>\n",
       "      <td>AL</td>\n",
       "      <td>Albania</td>\n",
       "      <td>2015</td>\n",
       "      <td>Land Ownership</td>\n",
       "      <td>34</td>\n",
       "      <td>25</td>\n",
       "      <td>No</td>\n",
       "      <td>Yes</td>\n",
       "      <td>Yes</td>\n",
       "      <td>No</td>\n",
       "      <td>No</td>\n",
       "      <td>Yes</td>\n",
       "      <td>Yes</td>\n",
       "      <td>Unknown</td>\n",
       "      <td>Unknown</td>\n",
       "      <td>No</td>\n",
       "    </tr>\n",
       "    <tr>\n",
       "      <th>7</th>\n",
       "      <td>AL</td>\n",
       "      <td>Albania</td>\n",
       "      <td>2015</td>\n",
       "      <td>Legislation</td>\n",
       "      <td>92</td>\n",
       "      <td>35</td>\n",
       "      <td>No</td>\n",
       "      <td>Yes</td>\n",
       "      <td>No</td>\n",
       "      <td>Yes</td>\n",
       "      <td>Yes</td>\n",
       "      <td>Yes</td>\n",
       "      <td>Yes</td>\n",
       "      <td>No</td>\n",
       "      <td>No</td>\n",
       "      <td>No</td>\n",
       "    </tr>\n",
       "    <tr>\n",
       "      <th>8</th>\n",
       "      <td>AL</td>\n",
       "      <td>Albania</td>\n",
       "      <td>2015</td>\n",
       "      <td>National Map</td>\n",
       "      <td>21</td>\n",
       "      <td>60</td>\n",
       "      <td>No</td>\n",
       "      <td>Yes</td>\n",
       "      <td>Yes</td>\n",
       "      <td>Yes</td>\n",
       "      <td>Yes</td>\n",
       "      <td>Yes</td>\n",
       "      <td>Yes</td>\n",
       "      <td>Yes</td>\n",
       "      <td>No</td>\n",
       "      <td>No</td>\n",
       "    </tr>\n",
       "    <tr>\n",
       "      <th>9</th>\n",
       "      <td>AL</td>\n",
       "      <td>Albania</td>\n",
       "      <td>2015</td>\n",
       "      <td>National Boundaries</td>\n",
       "      <td>14</td>\n",
       "      <td>70</td>\n",
       "      <td>No</td>\n",
       "      <td>Yes</td>\n",
       "      <td>Yes</td>\n",
       "      <td>Yes</td>\n",
       "      <td>Yes</td>\n",
       "      <td>Yes</td>\n",
       "      <td>Yes</td>\n",
       "      <td>Yes</td>\n",
       "      <td>Yes</td>\n",
       "      <td>No</td>\n",
       "    </tr>\n",
       "    <tr>\n",
       "      <th>10</th>\n",
       "      <td>AL</td>\n",
       "      <td>Albania</td>\n",
       "      <td>2015</td>\n",
       "      <td>National Statistics</td>\n",
       "      <td>48</td>\n",
       "      <td>60</td>\n",
       "      <td>No</td>\n",
       "      <td>Yes</td>\n",
       "      <td>No</td>\n",
       "      <td>Yes</td>\n",
       "      <td>Yes</td>\n",
       "      <td>Yes</td>\n",
       "      <td>Yes</td>\n",
       "      <td>Yes</td>\n",
       "      <td>Yes</td>\n",
       "      <td>No</td>\n",
       "    </tr>\n",
       "    <tr>\n",
       "      <th>11</th>\n",
       "      <td>AL</td>\n",
       "      <td>Albania</td>\n",
       "      <td>2015</td>\n",
       "      <td>Water Quality</td>\n",
       "      <td>46</td>\n",
       "      <td>10</td>\n",
       "      <td>No</td>\n",
       "      <td>Yes</td>\n",
       "      <td>No</td>\n",
       "      <td>No</td>\n",
       "      <td>No</td>\n",
       "      <td>No</td>\n",
       "      <td>Yes</td>\n",
       "      <td>No</td>\n",
       "      <td>No</td>\n",
       "      <td>No</td>\n",
       "    </tr>\n",
       "    <tr>\n",
       "      <th>12</th>\n",
       "      <td>AL</td>\n",
       "      <td>Albania</td>\n",
       "      <td>2015</td>\n",
       "      <td>Weather Forecasts</td>\n",
       "      <td>80</td>\n",
       "      <td>0</td>\n",
       "      <td>No</td>\n",
       "      <td>No</td>\n",
       "      <td>No</td>\n",
       "      <td>No</td>\n",
       "      <td>No</td>\n",
       "      <td>No</td>\n",
       "      <td>No</td>\n",
       "      <td>No</td>\n",
       "      <td>No</td>\n",
       "      <td>No</td>\n",
       "    </tr>\n",
       "    <tr>\n",
       "      <th>13</th>\n",
       "      <td>DZ</td>\n",
       "      <td>Algeria</td>\n",
       "      <td>2015</td>\n",
       "      <td>Air Pollution</td>\n",
       "      <td>79</td>\n",
       "      <td>0</td>\n",
       "      <td>No</td>\n",
       "      <td>No</td>\n",
       "      <td>No</td>\n",
       "      <td>No</td>\n",
       "      <td>No</td>\n",
       "      <td>No</td>\n",
       "      <td>No</td>\n",
       "      <td>No</td>\n",
       "      <td>No</td>\n",
       "      <td>No</td>\n",
       "    </tr>\n",
       "    <tr>\n",
       "      <th>14</th>\n",
       "      <td>DZ</td>\n",
       "      <td>Algeria</td>\n",
       "      <td>2015</td>\n",
       "      <td>Company Registrations</td>\n",
       "      <td>84</td>\n",
       "      <td>0</td>\n",
       "      <td>No</td>\n",
       "      <td>Unknown</td>\n",
       "      <td>Unknown</td>\n",
       "      <td>Unknown</td>\n",
       "      <td>Unknown</td>\n",
       "      <td>Unknown</td>\n",
       "      <td>Unknown</td>\n",
       "      <td>Unknown</td>\n",
       "      <td>Unknown</td>\n",
       "      <td>Unknown</td>\n",
       "    </tr>\n",
       "    <tr>\n",
       "      <th>15</th>\n",
       "      <td>DZ</td>\n",
       "      <td>Algeria</td>\n",
       "      <td>2015</td>\n",
       "      <td>Election Results</td>\n",
       "      <td>87</td>\n",
       "      <td>0</td>\n",
       "      <td>No</td>\n",
       "      <td>No</td>\n",
       "      <td>No</td>\n",
       "      <td>No</td>\n",
       "      <td>No</td>\n",
       "      <td>No</td>\n",
       "      <td>No</td>\n",
       "      <td>No</td>\n",
       "      <td>No</td>\n",
       "      <td>No</td>\n",
       "    </tr>\n",
       "    <tr>\n",
       "      <th>16</th>\n",
       "      <td>DZ</td>\n",
       "      <td>Algeria</td>\n",
       "      <td>2015</td>\n",
       "      <td>Government Budget</td>\n",
       "      <td>100</td>\n",
       "      <td>20</td>\n",
       "      <td>No</td>\n",
       "      <td>Yes</td>\n",
       "      <td>Yes</td>\n",
       "      <td>No</td>\n",
       "      <td>No</td>\n",
       "      <td>Yes</td>\n",
       "      <td>No</td>\n",
       "      <td>No</td>\n",
       "      <td>No</td>\n",
       "      <td>No</td>\n",
       "    </tr>\n",
       "    <tr>\n",
       "      <th>17</th>\n",
       "      <td>DZ</td>\n",
       "      <td>Algeria</td>\n",
       "      <td>2015</td>\n",
       "      <td>Government Expenditures</td>\n",
       "      <td>99</td>\n",
       "      <td>0</td>\n",
       "      <td>No</td>\n",
       "      <td>No</td>\n",
       "      <td>No</td>\n",
       "      <td>No</td>\n",
       "      <td>No</td>\n",
       "      <td>No</td>\n",
       "      <td>No</td>\n",
       "      <td>No</td>\n",
       "      <td>No</td>\n",
       "      <td>No</td>\n",
       "    </tr>\n",
       "    <tr>\n",
       "      <th>18</th>\n",
       "      <td>DZ</td>\n",
       "      <td>Algeria</td>\n",
       "      <td>2015</td>\n",
       "      <td>Government Procurement</td>\n",
       "      <td>96</td>\n",
       "      <td>0</td>\n",
       "      <td>No</td>\n",
       "      <td>No</td>\n",
       "      <td>No</td>\n",
       "      <td>No</td>\n",
       "      <td>No</td>\n",
       "      <td>No</td>\n",
       "      <td>No</td>\n",
       "      <td>No</td>\n",
       "      <td>No</td>\n",
       "      <td>No</td>\n",
       "    </tr>\n",
       "    <tr>\n",
       "      <th>19</th>\n",
       "      <td>DZ</td>\n",
       "      <td>Algeria</td>\n",
       "      <td>2015</td>\n",
       "      <td>Land Ownership</td>\n",
       "      <td>85</td>\n",
       "      <td>0</td>\n",
       "      <td>No</td>\n",
       "      <td>Unknown</td>\n",
       "      <td>Unknown</td>\n",
       "      <td>Unknown</td>\n",
       "      <td>Unknown</td>\n",
       "      <td>Unknown</td>\n",
       "      <td>Unknown</td>\n",
       "      <td>Unknown</td>\n",
       "      <td>Unknown</td>\n",
       "      <td>Unknown</td>\n",
       "    </tr>\n",
       "    <tr>\n",
       "      <th>20</th>\n",
       "      <td>DZ</td>\n",
       "      <td>Algeria</td>\n",
       "      <td>2015</td>\n",
       "      <td>Legislation</td>\n",
       "      <td>92</td>\n",
       "      <td>35</td>\n",
       "      <td>No</td>\n",
       "      <td>Yes</td>\n",
       "      <td>Unknown</td>\n",
       "      <td>Yes</td>\n",
       "      <td>Yes</td>\n",
       "      <td>Yes</td>\n",
       "      <td>Yes</td>\n",
       "      <td>No</td>\n",
       "      <td>No</td>\n",
       "      <td>No</td>\n",
       "    </tr>\n",
       "    <tr>\n",
       "      <th>21</th>\n",
       "      <td>DZ</td>\n",
       "      <td>Algeria</td>\n",
       "      <td>2015</td>\n",
       "      <td>National Map</td>\n",
       "      <td>88</td>\n",
       "      <td>5</td>\n",
       "      <td>No</td>\n",
       "      <td>Yes</td>\n",
       "      <td>Unknown</td>\n",
       "      <td>No</td>\n",
       "      <td>No</td>\n",
       "      <td>No</td>\n",
       "      <td>No</td>\n",
       "      <td>No</td>\n",
       "      <td>No</td>\n",
       "      <td>No</td>\n",
       "    </tr>\n",
       "    <tr>\n",
       "      <th>22</th>\n",
       "      <td>DZ</td>\n",
       "      <td>Algeria</td>\n",
       "      <td>2015</td>\n",
       "      <td>National Boundaries</td>\n",
       "      <td>61</td>\n",
       "      <td>0</td>\n",
       "      <td>No</td>\n",
       "      <td>No</td>\n",
       "      <td>No</td>\n",
       "      <td>No</td>\n",
       "      <td>No</td>\n",
       "      <td>No</td>\n",
       "      <td>No</td>\n",
       "      <td>No</td>\n",
       "      <td>No</td>\n",
       "      <td>No</td>\n",
       "    </tr>\n",
       "    <tr>\n",
       "      <th>23</th>\n",
       "      <td>DZ</td>\n",
       "      <td>Algeria</td>\n",
       "      <td>2015</td>\n",
       "      <td>National Statistics</td>\n",
       "      <td>87</td>\n",
       "      <td>35</td>\n",
       "      <td>No</td>\n",
       "      <td>Yes</td>\n",
       "      <td>No</td>\n",
       "      <td>Yes</td>\n",
       "      <td>Yes</td>\n",
       "      <td>Yes</td>\n",
       "      <td>Yes</td>\n",
       "      <td>No</td>\n",
       "      <td>No</td>\n",
       "      <td>No</td>\n",
       "    </tr>\n",
       "    <tr>\n",
       "      <th>24</th>\n",
       "      <td>DZ</td>\n",
       "      <td>Algeria</td>\n",
       "      <td>2015</td>\n",
       "      <td>Water Quality</td>\n",
       "      <td>74</td>\n",
       "      <td>0</td>\n",
       "      <td>No</td>\n",
       "      <td>Unknown</td>\n",
       "      <td>Unknown</td>\n",
       "      <td>Unknown</td>\n",
       "      <td>Unknown</td>\n",
       "      <td>Unknown</td>\n",
       "      <td>Unknown</td>\n",
       "      <td>Unknown</td>\n",
       "      <td>Unknown</td>\n",
       "      <td>Unknown</td>\n",
       "    </tr>\n",
       "    <tr>\n",
       "      <th>25</th>\n",
       "      <td>DZ</td>\n",
       "      <td>Algeria</td>\n",
       "      <td>2015</td>\n",
       "      <td>Weather Forecasts</td>\n",
       "      <td>80</td>\n",
       "      <td>0</td>\n",
       "      <td>No</td>\n",
       "      <td>No</td>\n",
       "      <td>No</td>\n",
       "      <td>No</td>\n",
       "      <td>No</td>\n",
       "      <td>No</td>\n",
       "      <td>No</td>\n",
       "      <td>No</td>\n",
       "      <td>No</td>\n",
       "      <td>No</td>\n",
       "    </tr>\n",
       "    <tr>\n",
       "      <th>26</th>\n",
       "      <td>AG</td>\n",
       "      <td>Antigua and Barbuda</td>\n",
       "      <td>2015</td>\n",
       "      <td>Air Pollution</td>\n",
       "      <td>79</td>\n",
       "      <td>0</td>\n",
       "      <td>No</td>\n",
       "      <td>No</td>\n",
       "      <td>No</td>\n",
       "      <td>No</td>\n",
       "      <td>No</td>\n",
       "      <td>No</td>\n",
       "      <td>No</td>\n",
       "      <td>No</td>\n",
       "      <td>No</td>\n",
       "      <td>No</td>\n",
       "    </tr>\n",
       "    <tr>\n",
       "      <th>27</th>\n",
       "      <td>AG</td>\n",
       "      <td>Antigua and Barbuda</td>\n",
       "      <td>2015</td>\n",
       "      <td>Company Registrations</td>\n",
       "      <td>84</td>\n",
       "      <td>0</td>\n",
       "      <td>No</td>\n",
       "      <td>No</td>\n",
       "      <td>No</td>\n",
       "      <td>No</td>\n",
       "      <td>No</td>\n",
       "      <td>No</td>\n",
       "      <td>No</td>\n",
       "      <td>No</td>\n",
       "      <td>No</td>\n",
       "      <td>No</td>\n",
       "    </tr>\n",
       "    <tr>\n",
       "      <th>28</th>\n",
       "      <td>AG</td>\n",
       "      <td>Antigua and Barbuda</td>\n",
       "      <td>2015</td>\n",
       "      <td>Election Results</td>\n",
       "      <td>45</td>\n",
       "      <td>45</td>\n",
       "      <td>No</td>\n",
       "      <td>Yes</td>\n",
       "      <td>Yes</td>\n",
       "      <td>Yes</td>\n",
       "      <td>Yes</td>\n",
       "      <td>Yes</td>\n",
       "      <td>Yes</td>\n",
       "      <td>No</td>\n",
       "      <td>No</td>\n",
       "      <td>No</td>\n",
       "    </tr>\n",
       "    <tr>\n",
       "      <th>29</th>\n",
       "      <td>AG</td>\n",
       "      <td>Antigua and Barbuda</td>\n",
       "      <td>2015</td>\n",
       "      <td>Government Budget</td>\n",
       "      <td>105</td>\n",
       "      <td>10</td>\n",
       "      <td>No</td>\n",
       "      <td>Yes</td>\n",
       "      <td>No</td>\n",
       "      <td>No</td>\n",
       "      <td>No</td>\n",
       "      <td>Yes</td>\n",
       "      <td>No</td>\n",
       "      <td>No</td>\n",
       "      <td>No</td>\n",
       "      <td>No</td>\n",
       "    </tr>\n",
       "    <tr>\n",
       "      <th>...</th>\n",
       "      <td>...</td>\n",
       "      <td>...</td>\n",
       "      <td>...</td>\n",
       "      <td>...</td>\n",
       "      <td>...</td>\n",
       "      <td>...</td>\n",
       "      <td>...</td>\n",
       "      <td>...</td>\n",
       "      <td>...</td>\n",
       "      <td>...</td>\n",
       "      <td>...</td>\n",
       "      <td>...</td>\n",
       "      <td>...</td>\n",
       "      <td>...</td>\n",
       "      <td>...</td>\n",
       "      <td>...</td>\n",
       "    </tr>\n",
       "    <tr>\n",
       "      <th>3123</th>\n",
       "      <td>TW</td>\n",
       "      <td>Taiwan</td>\n",
       "      <td>2013</td>\n",
       "      <td>Transportation Schedules</td>\n",
       "      <td>52</td>\n",
       "      <td>10</td>\n",
       "      <td>No</td>\n",
       "      <td>Yes</td>\n",
       "      <td>No</td>\n",
       "      <td>No</td>\n",
       "      <td>No</td>\n",
       "      <td>Yes</td>\n",
       "      <td>No</td>\n",
       "      <td>No</td>\n",
       "      <td>No</td>\n",
       "      <td>No</td>\n",
       "    </tr>\n",
       "    <tr>\n",
       "      <th>3124</th>\n",
       "      <td>TN</td>\n",
       "      <td>Tunisia</td>\n",
       "      <td>2013</td>\n",
       "      <td>Air Pollution</td>\n",
       "      <td>35</td>\n",
       "      <td>35</td>\n",
       "      <td>No</td>\n",
       "      <td>Yes</td>\n",
       "      <td>No</td>\n",
       "      <td>Yes</td>\n",
       "      <td>Yes</td>\n",
       "      <td>Yes</td>\n",
       "      <td>Yes</td>\n",
       "      <td>No</td>\n",
       "      <td>No</td>\n",
       "      <td>No</td>\n",
       "    </tr>\n",
       "    <tr>\n",
       "      <th>3125</th>\n",
       "      <td>TN</td>\n",
       "      <td>Tunisia</td>\n",
       "      <td>2013</td>\n",
       "      <td>Company Registrations</td>\n",
       "      <td>16</td>\n",
       "      <td>45</td>\n",
       "      <td>No</td>\n",
       "      <td>Yes</td>\n",
       "      <td>Yes</td>\n",
       "      <td>Yes</td>\n",
       "      <td>Yes</td>\n",
       "      <td>Yes</td>\n",
       "      <td>Yes</td>\n",
       "      <td>No</td>\n",
       "      <td>No</td>\n",
       "      <td>No</td>\n",
       "    </tr>\n",
       "    <tr>\n",
       "      <th>3126</th>\n",
       "      <td>TN</td>\n",
       "      <td>Tunisia</td>\n",
       "      <td>2013</td>\n",
       "      <td>Election Results</td>\n",
       "      <td>35</td>\n",
       "      <td>45</td>\n",
       "      <td>No</td>\n",
       "      <td>Yes</td>\n",
       "      <td>Yes</td>\n",
       "      <td>Yes</td>\n",
       "      <td>Yes</td>\n",
       "      <td>Yes</td>\n",
       "      <td>Yes</td>\n",
       "      <td>No</td>\n",
       "      <td>No</td>\n",
       "      <td>No</td>\n",
       "    </tr>\n",
       "    <tr>\n",
       "      <th>3127</th>\n",
       "      <td>TN</td>\n",
       "      <td>Tunisia</td>\n",
       "      <td>2013</td>\n",
       "      <td>Government Budget</td>\n",
       "      <td>58</td>\n",
       "      <td>35</td>\n",
       "      <td>No</td>\n",
       "      <td>Yes</td>\n",
       "      <td>Unknown</td>\n",
       "      <td>Yes</td>\n",
       "      <td>Yes</td>\n",
       "      <td>Yes</td>\n",
       "      <td>Yes</td>\n",
       "      <td>No</td>\n",
       "      <td>No</td>\n",
       "      <td>No</td>\n",
       "    </tr>\n",
       "    <tr>\n",
       "      <th>3128</th>\n",
       "      <td>TN</td>\n",
       "      <td>Tunisia</td>\n",
       "      <td>2013</td>\n",
       "      <td>Government Expenditures</td>\n",
       "      <td>40</td>\n",
       "      <td>0</td>\n",
       "      <td>No</td>\n",
       "      <td>Unknown</td>\n",
       "      <td>No</td>\n",
       "      <td>Unknown</td>\n",
       "      <td>Unknown</td>\n",
       "      <td>Unknown</td>\n",
       "      <td>No</td>\n",
       "      <td>No</td>\n",
       "      <td>No</td>\n",
       "      <td>No</td>\n",
       "    </tr>\n",
       "    <tr>\n",
       "      <th>3129</th>\n",
       "      <td>TN</td>\n",
       "      <td>Tunisia</td>\n",
       "      <td>2013</td>\n",
       "      <td>Legislation</td>\n",
       "      <td>51</td>\n",
       "      <td>35</td>\n",
       "      <td>No</td>\n",
       "      <td>Yes</td>\n",
       "      <td>No</td>\n",
       "      <td>Yes</td>\n",
       "      <td>Yes</td>\n",
       "      <td>Yes</td>\n",
       "      <td>Yes</td>\n",
       "      <td>No</td>\n",
       "      <td>No</td>\n",
       "      <td>No</td>\n",
       "    </tr>\n",
       "    <tr>\n",
       "      <th>3130</th>\n",
       "      <td>TN</td>\n",
       "      <td>Tunisia</td>\n",
       "      <td>2013</td>\n",
       "      <td>National Boundaries</td>\n",
       "      <td>35</td>\n",
       "      <td>35</td>\n",
       "      <td>No</td>\n",
       "      <td>Yes</td>\n",
       "      <td>Unknown</td>\n",
       "      <td>Yes</td>\n",
       "      <td>Yes</td>\n",
       "      <td>Yes</td>\n",
       "      <td>Yes</td>\n",
       "      <td>No</td>\n",
       "      <td>No</td>\n",
       "      <td>No</td>\n",
       "    </tr>\n",
       "    <tr>\n",
       "      <th>3131</th>\n",
       "      <td>TN</td>\n",
       "      <td>Tunisia</td>\n",
       "      <td>2013</td>\n",
       "      <td>National Statistics</td>\n",
       "      <td>58</td>\n",
       "      <td>35</td>\n",
       "      <td>No</td>\n",
       "      <td>Yes</td>\n",
       "      <td>Unknown</td>\n",
       "      <td>Yes</td>\n",
       "      <td>Yes</td>\n",
       "      <td>Yes</td>\n",
       "      <td>Yes</td>\n",
       "      <td>No</td>\n",
       "      <td>No</td>\n",
       "      <td>No</td>\n",
       "    </tr>\n",
       "    <tr>\n",
       "      <th>3132</th>\n",
       "      <td>TN</td>\n",
       "      <td>Tunisia</td>\n",
       "      <td>2013</td>\n",
       "      <td>Transportation Schedules</td>\n",
       "      <td>36</td>\n",
       "      <td>35</td>\n",
       "      <td>No</td>\n",
       "      <td>Yes</td>\n",
       "      <td>Unknown</td>\n",
       "      <td>Yes</td>\n",
       "      <td>Yes</td>\n",
       "      <td>Yes</td>\n",
       "      <td>Yes</td>\n",
       "      <td>No</td>\n",
       "      <td>No</td>\n",
       "      <td>No</td>\n",
       "    </tr>\n",
       "    <tr>\n",
       "      <th>3133</th>\n",
       "      <td>GB</td>\n",
       "      <td>United Kingdom</td>\n",
       "      <td>2013</td>\n",
       "      <td>Air Pollution</td>\n",
       "      <td>5</td>\n",
       "      <td>90</td>\n",
       "      <td>Yes</td>\n",
       "      <td>Yes</td>\n",
       "      <td>Yes</td>\n",
       "      <td>Yes</td>\n",
       "      <td>Yes</td>\n",
       "      <td>Yes</td>\n",
       "      <td>Yes</td>\n",
       "      <td>Yes</td>\n",
       "      <td>No</td>\n",
       "      <td>Yes</td>\n",
       "    </tr>\n",
       "    <tr>\n",
       "      <th>3134</th>\n",
       "      <td>GB</td>\n",
       "      <td>United Kingdom</td>\n",
       "      <td>2013</td>\n",
       "      <td>Company Registrations</td>\n",
       "      <td>1</td>\n",
       "      <td>100</td>\n",
       "      <td>Yes</td>\n",
       "      <td>Yes</td>\n",
       "      <td>Yes</td>\n",
       "      <td>Yes</td>\n",
       "      <td>Yes</td>\n",
       "      <td>Yes</td>\n",
       "      <td>Yes</td>\n",
       "      <td>Yes</td>\n",
       "      <td>Yes</td>\n",
       "      <td>Yes</td>\n",
       "    </tr>\n",
       "    <tr>\n",
       "      <th>3135</th>\n",
       "      <td>GB</td>\n",
       "      <td>United Kingdom</td>\n",
       "      <td>2013</td>\n",
       "      <td>Election Results</td>\n",
       "      <td>19</td>\n",
       "      <td>70</td>\n",
       "      <td>No</td>\n",
       "      <td>Yes</td>\n",
       "      <td>Yes</td>\n",
       "      <td>Yes</td>\n",
       "      <td>Yes</td>\n",
       "      <td>Yes</td>\n",
       "      <td>Yes</td>\n",
       "      <td>Yes</td>\n",
       "      <td>Yes</td>\n",
       "      <td>No</td>\n",
       "    </tr>\n",
       "    <tr>\n",
       "      <th>3136</th>\n",
       "      <td>GB</td>\n",
       "      <td>United Kingdom</td>\n",
       "      <td>2013</td>\n",
       "      <td>Government Budget</td>\n",
       "      <td>11</td>\n",
       "      <td>90</td>\n",
       "      <td>Yes</td>\n",
       "      <td>Yes</td>\n",
       "      <td>No</td>\n",
       "      <td>Yes</td>\n",
       "      <td>Yes</td>\n",
       "      <td>Yes</td>\n",
       "      <td>Yes</td>\n",
       "      <td>Yes</td>\n",
       "      <td>Yes</td>\n",
       "      <td>Yes</td>\n",
       "    </tr>\n",
       "    <tr>\n",
       "      <th>3137</th>\n",
       "      <td>GB</td>\n",
       "      <td>United Kingdom</td>\n",
       "      <td>2013</td>\n",
       "      <td>Government Expenditures</td>\n",
       "      <td>1</td>\n",
       "      <td>100</td>\n",
       "      <td>Yes</td>\n",
       "      <td>Yes</td>\n",
       "      <td>Yes</td>\n",
       "      <td>Yes</td>\n",
       "      <td>Yes</td>\n",
       "      <td>Yes</td>\n",
       "      <td>Yes</td>\n",
       "      <td>Yes</td>\n",
       "      <td>Yes</td>\n",
       "      <td>Yes</td>\n",
       "    </tr>\n",
       "    <tr>\n",
       "      <th>3138</th>\n",
       "      <td>GB</td>\n",
       "      <td>United Kingdom</td>\n",
       "      <td>2013</td>\n",
       "      <td>Legislation</td>\n",
       "      <td>6</td>\n",
       "      <td>90</td>\n",
       "      <td>Yes</td>\n",
       "      <td>Yes</td>\n",
       "      <td>Yes</td>\n",
       "      <td>Yes</td>\n",
       "      <td>Yes</td>\n",
       "      <td>Yes</td>\n",
       "      <td>Yes</td>\n",
       "      <td>Yes</td>\n",
       "      <td>No</td>\n",
       "      <td>Yes</td>\n",
       "    </tr>\n",
       "    <tr>\n",
       "      <th>3139</th>\n",
       "      <td>GB</td>\n",
       "      <td>United Kingdom</td>\n",
       "      <td>2013</td>\n",
       "      <td>National Map</td>\n",
       "      <td>1</td>\n",
       "      <td>100</td>\n",
       "      <td>Yes</td>\n",
       "      <td>Yes</td>\n",
       "      <td>Yes</td>\n",
       "      <td>Yes</td>\n",
       "      <td>Yes</td>\n",
       "      <td>Yes</td>\n",
       "      <td>Yes</td>\n",
       "      <td>Yes</td>\n",
       "      <td>Yes</td>\n",
       "      <td>Yes</td>\n",
       "    </tr>\n",
       "    <tr>\n",
       "      <th>3140</th>\n",
       "      <td>GB</td>\n",
       "      <td>United Kingdom</td>\n",
       "      <td>2013</td>\n",
       "      <td>National Boundaries</td>\n",
       "      <td>1</td>\n",
       "      <td>100</td>\n",
       "      <td>Yes</td>\n",
       "      <td>Yes</td>\n",
       "      <td>Yes</td>\n",
       "      <td>Yes</td>\n",
       "      <td>Yes</td>\n",
       "      <td>Yes</td>\n",
       "      <td>Yes</td>\n",
       "      <td>Yes</td>\n",
       "      <td>Yes</td>\n",
       "      <td>Yes</td>\n",
       "    </tr>\n",
       "    <tr>\n",
       "      <th>3141</th>\n",
       "      <td>GB</td>\n",
       "      <td>United Kingdom</td>\n",
       "      <td>2013</td>\n",
       "      <td>National Statistics</td>\n",
       "      <td>1</td>\n",
       "      <td>100</td>\n",
       "      <td>Yes</td>\n",
       "      <td>Yes</td>\n",
       "      <td>Yes</td>\n",
       "      <td>Yes</td>\n",
       "      <td>Yes</td>\n",
       "      <td>Yes</td>\n",
       "      <td>Yes</td>\n",
       "      <td>Yes</td>\n",
       "      <td>Yes</td>\n",
       "      <td>Yes</td>\n",
       "    </tr>\n",
       "    <tr>\n",
       "      <th>3142</th>\n",
       "      <td>GB</td>\n",
       "      <td>United Kingdom</td>\n",
       "      <td>2013</td>\n",
       "      <td>Transportation Schedules</td>\n",
       "      <td>1</td>\n",
       "      <td>100</td>\n",
       "      <td>Yes</td>\n",
       "      <td>Yes</td>\n",
       "      <td>Yes</td>\n",
       "      <td>Yes</td>\n",
       "      <td>Yes</td>\n",
       "      <td>Yes</td>\n",
       "      <td>Yes</td>\n",
       "      <td>Yes</td>\n",
       "      <td>Yes</td>\n",
       "      <td>Yes</td>\n",
       "    </tr>\n",
       "    <tr>\n",
       "      <th>3143</th>\n",
       "      <td>US</td>\n",
       "      <td>United States</td>\n",
       "      <td>2013</td>\n",
       "      <td>Air Pollution</td>\n",
       "      <td>1</td>\n",
       "      <td>100</td>\n",
       "      <td>Yes</td>\n",
       "      <td>Yes</td>\n",
       "      <td>Yes</td>\n",
       "      <td>Yes</td>\n",
       "      <td>Yes</td>\n",
       "      <td>Yes</td>\n",
       "      <td>Yes</td>\n",
       "      <td>Yes</td>\n",
       "      <td>Yes</td>\n",
       "      <td>Yes</td>\n",
       "    </tr>\n",
       "    <tr>\n",
       "      <th>3144</th>\n",
       "      <td>US</td>\n",
       "      <td>United States</td>\n",
       "      <td>2013</td>\n",
       "      <td>Company Registrations</td>\n",
       "      <td>58</td>\n",
       "      <td>5</td>\n",
       "      <td>No</td>\n",
       "      <td>Yes</td>\n",
       "      <td>No</td>\n",
       "      <td>No</td>\n",
       "      <td>No</td>\n",
       "      <td>No</td>\n",
       "      <td>No</td>\n",
       "      <td>No</td>\n",
       "      <td>No</td>\n",
       "      <td>No</td>\n",
       "    </tr>\n",
       "    <tr>\n",
       "      <th>3145</th>\n",
       "      <td>US</td>\n",
       "      <td>United States</td>\n",
       "      <td>2013</td>\n",
       "      <td>Election Results</td>\n",
       "      <td>1</td>\n",
       "      <td>100</td>\n",
       "      <td>Yes</td>\n",
       "      <td>Yes</td>\n",
       "      <td>Yes</td>\n",
       "      <td>Yes</td>\n",
       "      <td>Yes</td>\n",
       "      <td>Yes</td>\n",
       "      <td>Yes</td>\n",
       "      <td>Yes</td>\n",
       "      <td>Yes</td>\n",
       "      <td>Yes</td>\n",
       "    </tr>\n",
       "    <tr>\n",
       "      <th>3146</th>\n",
       "      <td>US</td>\n",
       "      <td>United States</td>\n",
       "      <td>2013</td>\n",
       "      <td>Government Budget</td>\n",
       "      <td>1</td>\n",
       "      <td>100</td>\n",
       "      <td>Yes</td>\n",
       "      <td>Yes</td>\n",
       "      <td>Yes</td>\n",
       "      <td>Yes</td>\n",
       "      <td>Yes</td>\n",
       "      <td>Yes</td>\n",
       "      <td>Yes</td>\n",
       "      <td>Yes</td>\n",
       "      <td>Yes</td>\n",
       "      <td>Yes</td>\n",
       "    </tr>\n",
       "    <tr>\n",
       "      <th>3147</th>\n",
       "      <td>US</td>\n",
       "      <td>United States</td>\n",
       "      <td>2013</td>\n",
       "      <td>Government Expenditures</td>\n",
       "      <td>4</td>\n",
       "      <td>90</td>\n",
       "      <td>Yes</td>\n",
       "      <td>Yes</td>\n",
       "      <td>No</td>\n",
       "      <td>Yes</td>\n",
       "      <td>Yes</td>\n",
       "      <td>Yes</td>\n",
       "      <td>Yes</td>\n",
       "      <td>Yes</td>\n",
       "      <td>Yes</td>\n",
       "      <td>Yes</td>\n",
       "    </tr>\n",
       "    <tr>\n",
       "      <th>3148</th>\n",
       "      <td>US</td>\n",
       "      <td>United States</td>\n",
       "      <td>2013</td>\n",
       "      <td>Legislation</td>\n",
       "      <td>1</td>\n",
       "      <td>100</td>\n",
       "      <td>Yes</td>\n",
       "      <td>Yes</td>\n",
       "      <td>Yes</td>\n",
       "      <td>Yes</td>\n",
       "      <td>Yes</td>\n",
       "      <td>Yes</td>\n",
       "      <td>Yes</td>\n",
       "      <td>Yes</td>\n",
       "      <td>Yes</td>\n",
       "      <td>Yes</td>\n",
       "    </tr>\n",
       "    <tr>\n",
       "      <th>3149</th>\n",
       "      <td>US</td>\n",
       "      <td>United States</td>\n",
       "      <td>2013</td>\n",
       "      <td>National Map</td>\n",
       "      <td>1</td>\n",
       "      <td>100</td>\n",
       "      <td>Yes</td>\n",
       "      <td>Yes</td>\n",
       "      <td>Yes</td>\n",
       "      <td>Yes</td>\n",
       "      <td>Yes</td>\n",
       "      <td>Yes</td>\n",
       "      <td>Yes</td>\n",
       "      <td>Yes</td>\n",
       "      <td>Yes</td>\n",
       "      <td>Yes</td>\n",
       "    </tr>\n",
       "    <tr>\n",
       "      <th>3150</th>\n",
       "      <td>US</td>\n",
       "      <td>United States</td>\n",
       "      <td>2013</td>\n",
       "      <td>National Boundaries</td>\n",
       "      <td>1</td>\n",
       "      <td>100</td>\n",
       "      <td>Yes</td>\n",
       "      <td>Yes</td>\n",
       "      <td>Yes</td>\n",
       "      <td>Yes</td>\n",
       "      <td>Yes</td>\n",
       "      <td>Yes</td>\n",
       "      <td>Yes</td>\n",
       "      <td>Yes</td>\n",
       "      <td>Yes</td>\n",
       "      <td>Yes</td>\n",
       "    </tr>\n",
       "    <tr>\n",
       "      <th>3151</th>\n",
       "      <td>US</td>\n",
       "      <td>United States</td>\n",
       "      <td>2013</td>\n",
       "      <td>National Statistics</td>\n",
       "      <td>1</td>\n",
       "      <td>100</td>\n",
       "      <td>Yes</td>\n",
       "      <td>Yes</td>\n",
       "      <td>Yes</td>\n",
       "      <td>Yes</td>\n",
       "      <td>Yes</td>\n",
       "      <td>Yes</td>\n",
       "      <td>Yes</td>\n",
       "      <td>Yes</td>\n",
       "      <td>Yes</td>\n",
       "      <td>Yes</td>\n",
       "    </tr>\n",
       "    <tr>\n",
       "      <th>3152</th>\n",
       "      <td>US</td>\n",
       "      <td>United States</td>\n",
       "      <td>2013</td>\n",
       "      <td>Transportation Schedules</td>\n",
       "      <td>6</td>\n",
       "      <td>75</td>\n",
       "      <td>No</td>\n",
       "      <td>Yes</td>\n",
       "      <td>Yes</td>\n",
       "      <td>Yes</td>\n",
       "      <td>Yes</td>\n",
       "      <td>Yes</td>\n",
       "      <td>Yes</td>\n",
       "      <td>Unknown</td>\n",
       "      <td>Unknown</td>\n",
       "      <td>Yes</td>\n",
       "    </tr>\n",
       "  </tbody>\n",
       "</table>\n",
       "<p>3153 rows × 16 columns</p>\n",
       "</div>"
      ],
      "text/plain": [
       "     Country Code         Country Name  Year                  Category  Rank  \\\n",
       "0              AL              Albania  2015             Air Pollution    54   \n",
       "1              AL              Albania  2015     Company Registrations    33   \n",
       "2              AL              Albania  2015          Election Results    45   \n",
       "3              AL              Albania  2015         Government Budget    45   \n",
       "4              AL              Albania  2015   Government Expenditures     4   \n",
       "5              AL              Albania  2015    Government Procurement    36   \n",
       "6              AL              Albania  2015            Land Ownership    34   \n",
       "7              AL              Albania  2015               Legislation    92   \n",
       "8              AL              Albania  2015              National Map    21   \n",
       "9              AL              Albania  2015       National Boundaries    14   \n",
       "10             AL              Albania  2015       National Statistics    48   \n",
       "11             AL              Albania  2015             Water Quality    46   \n",
       "12             AL              Albania  2015         Weather Forecasts    80   \n",
       "13             DZ              Algeria  2015             Air Pollution    79   \n",
       "14             DZ              Algeria  2015     Company Registrations    84   \n",
       "15             DZ              Algeria  2015          Election Results    87   \n",
       "16             DZ              Algeria  2015         Government Budget   100   \n",
       "17             DZ              Algeria  2015   Government Expenditures    99   \n",
       "18             DZ              Algeria  2015    Government Procurement    96   \n",
       "19             DZ              Algeria  2015            Land Ownership    85   \n",
       "20             DZ              Algeria  2015               Legislation    92   \n",
       "21             DZ              Algeria  2015              National Map    88   \n",
       "22             DZ              Algeria  2015       National Boundaries    61   \n",
       "23             DZ              Algeria  2015       National Statistics    87   \n",
       "24             DZ              Algeria  2015             Water Quality    74   \n",
       "25             DZ              Algeria  2015         Weather Forecasts    80   \n",
       "26             AG  Antigua and Barbuda  2015             Air Pollution    79   \n",
       "27             AG  Antigua and Barbuda  2015     Company Registrations    84   \n",
       "28             AG  Antigua and Barbuda  2015          Election Results    45   \n",
       "29             AG  Antigua and Barbuda  2015         Government Budget   105   \n",
       "...           ...                  ...   ...                       ...   ...   \n",
       "3123           TW               Taiwan  2013  Transportation Schedules    52   \n",
       "3124           TN              Tunisia  2013             Air Pollution    35   \n",
       "3125           TN              Tunisia  2013     Company Registrations    16   \n",
       "3126           TN              Tunisia  2013          Election Results    35   \n",
       "3127           TN              Tunisia  2013         Government Budget    58   \n",
       "3128           TN              Tunisia  2013   Government Expenditures    40   \n",
       "3129           TN              Tunisia  2013               Legislation    51   \n",
       "3130           TN              Tunisia  2013       National Boundaries    35   \n",
       "3131           TN              Tunisia  2013       National Statistics    58   \n",
       "3132           TN              Tunisia  2013  Transportation Schedules    36   \n",
       "3133           GB       United Kingdom  2013             Air Pollution     5   \n",
       "3134           GB       United Kingdom  2013     Company Registrations     1   \n",
       "3135           GB       United Kingdom  2013          Election Results    19   \n",
       "3136           GB       United Kingdom  2013         Government Budget    11   \n",
       "3137           GB       United Kingdom  2013   Government Expenditures     1   \n",
       "3138           GB       United Kingdom  2013               Legislation     6   \n",
       "3139           GB       United Kingdom  2013              National Map     1   \n",
       "3140           GB       United Kingdom  2013       National Boundaries     1   \n",
       "3141           GB       United Kingdom  2013       National Statistics     1   \n",
       "3142           GB       United Kingdom  2013  Transportation Schedules     1   \n",
       "3143           US        United States  2013             Air Pollution     1   \n",
       "3144           US        United States  2013     Company Registrations    58   \n",
       "3145           US        United States  2013          Election Results     1   \n",
       "3146           US        United States  2013         Government Budget     1   \n",
       "3147           US        United States  2013   Government Expenditures     4   \n",
       "3148           US        United States  2013               Legislation     1   \n",
       "3149           US        United States  2013              National Map     1   \n",
       "3150           US        United States  2013       National Boundaries     1   \n",
       "3151           US        United States  2013       National Statistics     1   \n",
       "3152           US        United States  2013  Transportation Schedules     6   \n",
       "\n",
       "      Score Open Data Existent  Current   Public     Free  Digital   Online  \\\n",
       "0        35        No      Yes       No      Yes      Yes      Yes      Yes   \n",
       "1        35        No      Yes       No      Yes      Yes      Yes      Yes   \n",
       "2        45        No      Yes      Yes      Yes      Yes      Yes      Yes   \n",
       "3        60        No      Yes      Yes      Yes      Yes      Yes      Yes   \n",
       "4        60        No      Yes      Yes      Yes      Yes      Yes      Yes   \n",
       "5        45        No      Yes      Yes      Yes      Yes      Yes      Yes   \n",
       "6        25        No      Yes      Yes       No       No      Yes      Yes   \n",
       "7        35        No      Yes       No      Yes      Yes      Yes      Yes   \n",
       "8        60        No      Yes      Yes      Yes      Yes      Yes      Yes   \n",
       "9        70        No      Yes      Yes      Yes      Yes      Yes      Yes   \n",
       "10       60        No      Yes       No      Yes      Yes      Yes      Yes   \n",
       "11       10        No      Yes       No       No       No       No      Yes   \n",
       "12        0        No       No       No       No       No       No       No   \n",
       "13        0        No       No       No       No       No       No       No   \n",
       "14        0        No  Unknown  Unknown  Unknown  Unknown  Unknown  Unknown   \n",
       "15        0        No       No       No       No       No       No       No   \n",
       "16       20        No      Yes      Yes       No       No      Yes       No   \n",
       "17        0        No       No       No       No       No       No       No   \n",
       "18        0        No       No       No       No       No       No       No   \n",
       "19        0        No  Unknown  Unknown  Unknown  Unknown  Unknown  Unknown   \n",
       "20       35        No      Yes  Unknown      Yes      Yes      Yes      Yes   \n",
       "21        5        No      Yes  Unknown       No       No       No       No   \n",
       "22        0        No       No       No       No       No       No       No   \n",
       "23       35        No      Yes       No      Yes      Yes      Yes      Yes   \n",
       "24        0        No  Unknown  Unknown  Unknown  Unknown  Unknown  Unknown   \n",
       "25        0        No       No       No       No       No       No       No   \n",
       "26        0        No       No       No       No       No       No       No   \n",
       "27        0        No       No       No       No       No       No       No   \n",
       "28       45        No      Yes      Yes      Yes      Yes      Yes      Yes   \n",
       "29       10        No      Yes       No       No       No      Yes       No   \n",
       "...     ...       ...      ...      ...      ...      ...      ...      ...   \n",
       "3123     10        No      Yes       No       No       No      Yes       No   \n",
       "3124     35        No      Yes       No      Yes      Yes      Yes      Yes   \n",
       "3125     45        No      Yes      Yes      Yes      Yes      Yes      Yes   \n",
       "3126     45        No      Yes      Yes      Yes      Yes      Yes      Yes   \n",
       "3127     35        No      Yes  Unknown      Yes      Yes      Yes      Yes   \n",
       "3128      0        No  Unknown       No  Unknown  Unknown  Unknown       No   \n",
       "3129     35        No      Yes       No      Yes      Yes      Yes      Yes   \n",
       "3130     35        No      Yes  Unknown      Yes      Yes      Yes      Yes   \n",
       "3131     35        No      Yes  Unknown      Yes      Yes      Yes      Yes   \n",
       "3132     35        No      Yes  Unknown      Yes      Yes      Yes      Yes   \n",
       "3133     90       Yes      Yes      Yes      Yes      Yes      Yes      Yes   \n",
       "3134    100       Yes      Yes      Yes      Yes      Yes      Yes      Yes   \n",
       "3135     70        No      Yes      Yes      Yes      Yes      Yes      Yes   \n",
       "3136     90       Yes      Yes       No      Yes      Yes      Yes      Yes   \n",
       "3137    100       Yes      Yes      Yes      Yes      Yes      Yes      Yes   \n",
       "3138     90       Yes      Yes      Yes      Yes      Yes      Yes      Yes   \n",
       "3139    100       Yes      Yes      Yes      Yes      Yes      Yes      Yes   \n",
       "3140    100       Yes      Yes      Yes      Yes      Yes      Yes      Yes   \n",
       "3141    100       Yes      Yes      Yes      Yes      Yes      Yes      Yes   \n",
       "3142    100       Yes      Yes      Yes      Yes      Yes      Yes      Yes   \n",
       "3143    100       Yes      Yes      Yes      Yes      Yes      Yes      Yes   \n",
       "3144      5        No      Yes       No       No       No       No       No   \n",
       "3145    100       Yes      Yes      Yes      Yes      Yes      Yes      Yes   \n",
       "3146    100       Yes      Yes      Yes      Yes      Yes      Yes      Yes   \n",
       "3147     90       Yes      Yes       No      Yes      Yes      Yes      Yes   \n",
       "3148    100       Yes      Yes      Yes      Yes      Yes      Yes      Yes   \n",
       "3149    100       Yes      Yes      Yes      Yes      Yes      Yes      Yes   \n",
       "3150    100       Yes      Yes      Yes      Yes      Yes      Yes      Yes   \n",
       "3151    100       Yes      Yes      Yes      Yes      Yes      Yes      Yes   \n",
       "3152     75        No      Yes      Yes      Yes      Yes      Yes      Yes   \n",
       "\n",
       "     Machine Readable Downloadable Open License  \n",
       "0                  No           No           No  \n",
       "1                  No           No           No  \n",
       "2                  No           No           No  \n",
       "3                 Yes           No           No  \n",
       "4                 Yes           No           No  \n",
       "5                  No           No           No  \n",
       "6             Unknown      Unknown           No  \n",
       "7                  No           No           No  \n",
       "8                 Yes           No           No  \n",
       "9                 Yes          Yes           No  \n",
       "10                Yes          Yes           No  \n",
       "11                 No           No           No  \n",
       "12                 No           No           No  \n",
       "13                 No           No           No  \n",
       "14            Unknown      Unknown      Unknown  \n",
       "15                 No           No           No  \n",
       "16                 No           No           No  \n",
       "17                 No           No           No  \n",
       "18                 No           No           No  \n",
       "19            Unknown      Unknown      Unknown  \n",
       "20                 No           No           No  \n",
       "21                 No           No           No  \n",
       "22                 No           No           No  \n",
       "23                 No           No           No  \n",
       "24            Unknown      Unknown      Unknown  \n",
       "25                 No           No           No  \n",
       "26                 No           No           No  \n",
       "27                 No           No           No  \n",
       "28                 No           No           No  \n",
       "29                 No           No           No  \n",
       "...               ...          ...          ...  \n",
       "3123               No           No           No  \n",
       "3124               No           No           No  \n",
       "3125               No           No           No  \n",
       "3126               No           No           No  \n",
       "3127               No           No           No  \n",
       "3128               No           No           No  \n",
       "3129               No           No           No  \n",
       "3130               No           No           No  \n",
       "3131               No           No           No  \n",
       "3132               No           No           No  \n",
       "3133              Yes           No          Yes  \n",
       "3134              Yes          Yes          Yes  \n",
       "3135              Yes          Yes           No  \n",
       "3136              Yes          Yes          Yes  \n",
       "3137              Yes          Yes          Yes  \n",
       "3138              Yes           No          Yes  \n",
       "3139              Yes          Yes          Yes  \n",
       "3140              Yes          Yes          Yes  \n",
       "3141              Yes          Yes          Yes  \n",
       "3142              Yes          Yes          Yes  \n",
       "3143              Yes          Yes          Yes  \n",
       "3144               No           No           No  \n",
       "3145              Yes          Yes          Yes  \n",
       "3146              Yes          Yes          Yes  \n",
       "3147              Yes          Yes          Yes  \n",
       "3148              Yes          Yes          Yes  \n",
       "3149              Yes          Yes          Yes  \n",
       "3150              Yes          Yes          Yes  \n",
       "3151              Yes          Yes          Yes  \n",
       "3152          Unknown      Unknown          Yes  \n",
       "\n",
       "[3153 rows x 16 columns]"
      ]
     },
     "execution_count": 4,
     "metadata": {},
     "output_type": "execute_result"
    }
   ],
   "source": [
    "data"
   ]
  },
  {
   "cell_type": "code",
   "execution_count": 5,
   "metadata": {},
   "outputs": [
    {
     "name": "stdout",
     "output_type": "stream",
     "text": [
      "     Country Code         Country Name  Year                  Category  Rank  \\\n",
      "0              AL              Albania  2015             Air Pollution    54   \n",
      "1              AL              Albania  2015     Company Registrations    33   \n",
      "2              AL              Albania  2015          Election Results    45   \n",
      "3              AL              Albania  2015         Government Budget    45   \n",
      "4              AL              Albania  2015   Government Expenditures     4   \n",
      "5              AL              Albania  2015    Government Procurement    36   \n",
      "6              AL              Albania  2015            Land Ownership    34   \n",
      "7              AL              Albania  2015               Legislation    92   \n",
      "8              AL              Albania  2015              National Map    21   \n",
      "9              AL              Albania  2015       National Boundaries    14   \n",
      "10             AL              Albania  2015       National Statistics    48   \n",
      "11             AL              Albania  2015             Water Quality    46   \n",
      "12             AL              Albania  2015         Weather Forecasts    80   \n",
      "13             DZ              Algeria  2015             Air Pollution    79   \n",
      "14             DZ              Algeria  2015     Company Registrations    84   \n",
      "15             DZ              Algeria  2015          Election Results    87   \n",
      "16             DZ              Algeria  2015         Government Budget   100   \n",
      "17             DZ              Algeria  2015   Government Expenditures    99   \n",
      "18             DZ              Algeria  2015    Government Procurement    96   \n",
      "19             DZ              Algeria  2015            Land Ownership    85   \n",
      "20             DZ              Algeria  2015               Legislation    92   \n",
      "21             DZ              Algeria  2015              National Map    88   \n",
      "22             DZ              Algeria  2015       National Boundaries    61   \n",
      "23             DZ              Algeria  2015       National Statistics    87   \n",
      "24             DZ              Algeria  2015             Water Quality    74   \n",
      "25             DZ              Algeria  2015         Weather Forecasts    80   \n",
      "26             AG  Antigua and Barbuda  2015             Air Pollution    79   \n",
      "27             AG  Antigua and Barbuda  2015     Company Registrations    84   \n",
      "28             AG  Antigua and Barbuda  2015          Election Results    45   \n",
      "29             AG  Antigua and Barbuda  2015         Government Budget   105   \n",
      "...           ...                  ...   ...                       ...   ...   \n",
      "3123           TW               Taiwan  2013  Transportation Schedules    52   \n",
      "3124           TN              Tunisia  2013             Air Pollution    35   \n",
      "3125           TN              Tunisia  2013     Company Registrations    16   \n",
      "3126           TN              Tunisia  2013          Election Results    35   \n",
      "3127           TN              Tunisia  2013         Government Budget    58   \n",
      "3128           TN              Tunisia  2013   Government Expenditures    40   \n",
      "3129           TN              Tunisia  2013               Legislation    51   \n",
      "3130           TN              Tunisia  2013       National Boundaries    35   \n",
      "3131           TN              Tunisia  2013       National Statistics    58   \n",
      "3132           TN              Tunisia  2013  Transportation Schedules    36   \n",
      "3133           GB       United Kingdom  2013             Air Pollution     5   \n",
      "3134           GB       United Kingdom  2013     Company Registrations     1   \n",
      "3135           GB       United Kingdom  2013          Election Results    19   \n",
      "3136           GB       United Kingdom  2013         Government Budget    11   \n",
      "3137           GB       United Kingdom  2013   Government Expenditures     1   \n",
      "3138           GB       United Kingdom  2013               Legislation     6   \n",
      "3139           GB       United Kingdom  2013              National Map     1   \n",
      "3140           GB       United Kingdom  2013       National Boundaries     1   \n",
      "3141           GB       United Kingdom  2013       National Statistics     1   \n",
      "3142           GB       United Kingdom  2013  Transportation Schedules     1   \n",
      "3143           US        United States  2013             Air Pollution     1   \n",
      "3144           US        United States  2013     Company Registrations    58   \n",
      "3145           US        United States  2013          Election Results     1   \n",
      "3146           US        United States  2013         Government Budget     1   \n",
      "3147           US        United States  2013   Government Expenditures     4   \n",
      "3148           US        United States  2013               Legislation     1   \n",
      "3149           US        United States  2013              National Map     1   \n",
      "3150           US        United States  2013       National Boundaries     1   \n",
      "3151           US        United States  2013       National Statistics     1   \n",
      "3152           US        United States  2013  Transportation Schedules     6   \n",
      "\n",
      "      Score Open Data Existent  Current   Public     Free  Digital   Online  \\\n",
      "0        35        No      Yes       No      Yes      Yes      Yes      Yes   \n",
      "1        35        No      Yes       No      Yes      Yes      Yes      Yes   \n",
      "2        45        No      Yes      Yes      Yes      Yes      Yes      Yes   \n",
      "3        60        No      Yes      Yes      Yes      Yes      Yes      Yes   \n",
      "4        60        No      Yes      Yes      Yes      Yes      Yes      Yes   \n",
      "5        45        No      Yes      Yes      Yes      Yes      Yes      Yes   \n",
      "6        25        No      Yes      Yes       No       No      Yes      Yes   \n",
      "7        35        No      Yes       No      Yes      Yes      Yes      Yes   \n",
      "8        60        No      Yes      Yes      Yes      Yes      Yes      Yes   \n",
      "9        70        No      Yes      Yes      Yes      Yes      Yes      Yes   \n",
      "10       60        No      Yes       No      Yes      Yes      Yes      Yes   \n",
      "11       10        No      Yes       No       No       No       No      Yes   \n",
      "12        0        No       No       No       No       No       No       No   \n",
      "13        0        No       No       No       No       No       No       No   \n",
      "14        0        No  Unknown  Unknown  Unknown  Unknown  Unknown  Unknown   \n",
      "15        0        No       No       No       No       No       No       No   \n",
      "16       20        No      Yes      Yes       No       No      Yes       No   \n",
      "17        0        No       No       No       No       No       No       No   \n",
      "18        0        No       No       No       No       No       No       No   \n",
      "19        0        No  Unknown  Unknown  Unknown  Unknown  Unknown  Unknown   \n",
      "20       35        No      Yes  Unknown      Yes      Yes      Yes      Yes   \n",
      "21        5        No      Yes  Unknown       No       No       No       No   \n",
      "22        0        No       No       No       No       No       No       No   \n",
      "23       35        No      Yes       No      Yes      Yes      Yes      Yes   \n",
      "24        0        No  Unknown  Unknown  Unknown  Unknown  Unknown  Unknown   \n",
      "25        0        No       No       No       No       No       No       No   \n",
      "26        0        No       No       No       No       No       No       No   \n",
      "27        0        No       No       No       No       No       No       No   \n",
      "28       45        No      Yes      Yes      Yes      Yes      Yes      Yes   \n",
      "29       10        No      Yes       No       No       No      Yes       No   \n",
      "...     ...       ...      ...      ...      ...      ...      ...      ...   \n",
      "3123     10        No      Yes       No       No       No      Yes       No   \n",
      "3124     35        No      Yes       No      Yes      Yes      Yes      Yes   \n",
      "3125     45        No      Yes      Yes      Yes      Yes      Yes      Yes   \n",
      "3126     45        No      Yes      Yes      Yes      Yes      Yes      Yes   \n",
      "3127     35        No      Yes  Unknown      Yes      Yes      Yes      Yes   \n",
      "3128      0        No  Unknown       No  Unknown  Unknown  Unknown       No   \n",
      "3129     35        No      Yes       No      Yes      Yes      Yes      Yes   \n",
      "3130     35        No      Yes  Unknown      Yes      Yes      Yes      Yes   \n",
      "3131     35        No      Yes  Unknown      Yes      Yes      Yes      Yes   \n",
      "3132     35        No      Yes  Unknown      Yes      Yes      Yes      Yes   \n",
      "3133     90       Yes      Yes      Yes      Yes      Yes      Yes      Yes   \n",
      "3134    100       Yes      Yes      Yes      Yes      Yes      Yes      Yes   \n",
      "3135     70        No      Yes      Yes      Yes      Yes      Yes      Yes   \n",
      "3136     90       Yes      Yes       No      Yes      Yes      Yes      Yes   \n",
      "3137    100       Yes      Yes      Yes      Yes      Yes      Yes      Yes   \n",
      "3138     90       Yes      Yes      Yes      Yes      Yes      Yes      Yes   \n",
      "3139    100       Yes      Yes      Yes      Yes      Yes      Yes      Yes   \n",
      "3140    100       Yes      Yes      Yes      Yes      Yes      Yes      Yes   \n",
      "3141    100       Yes      Yes      Yes      Yes      Yes      Yes      Yes   \n",
      "3142    100       Yes      Yes      Yes      Yes      Yes      Yes      Yes   \n",
      "3143    100       Yes      Yes      Yes      Yes      Yes      Yes      Yes   \n",
      "3144      5        No      Yes       No       No       No       No       No   \n",
      "3145    100       Yes      Yes      Yes      Yes      Yes      Yes      Yes   \n",
      "3146    100       Yes      Yes      Yes      Yes      Yes      Yes      Yes   \n",
      "3147     90       Yes      Yes       No      Yes      Yes      Yes      Yes   \n",
      "3148    100       Yes      Yes      Yes      Yes      Yes      Yes      Yes   \n",
      "3149    100       Yes      Yes      Yes      Yes      Yes      Yes      Yes   \n",
      "3150    100       Yes      Yes      Yes      Yes      Yes      Yes      Yes   \n",
      "3151    100       Yes      Yes      Yes      Yes      Yes      Yes      Yes   \n",
      "3152     75        No      Yes      Yes      Yes      Yes      Yes      Yes   \n",
      "\n",
      "     Machine Readable Downloadable Open License  \n",
      "0                  No           No           No  \n",
      "1                  No           No           No  \n",
      "2                  No           No           No  \n",
      "3                 Yes           No           No  \n",
      "4                 Yes           No           No  \n",
      "5                  No           No           No  \n",
      "6             Unknown      Unknown           No  \n",
      "7                  No           No           No  \n",
      "8                 Yes           No           No  \n",
      "9                 Yes          Yes           No  \n",
      "10                Yes          Yes           No  \n",
      "11                 No           No           No  \n",
      "12                 No           No           No  \n",
      "13                 No           No           No  \n",
      "14            Unknown      Unknown      Unknown  \n",
      "15                 No           No           No  \n",
      "16                 No           No           No  \n",
      "17                 No           No           No  \n",
      "18                 No           No           No  \n",
      "19            Unknown      Unknown      Unknown  \n",
      "20                 No           No           No  \n",
      "21                 No           No           No  \n",
      "22                 No           No           No  \n",
      "23                 No           No           No  \n",
      "24            Unknown      Unknown      Unknown  \n",
      "25                 No           No           No  \n",
      "26                 No           No           No  \n",
      "27                 No           No           No  \n",
      "28                 No           No           No  \n",
      "29                 No           No           No  \n",
      "...               ...          ...          ...  \n",
      "3123               No           No           No  \n",
      "3124               No           No           No  \n",
      "3125               No           No           No  \n",
      "3126               No           No           No  \n",
      "3127               No           No           No  \n",
      "3128               No           No           No  \n",
      "3129               No           No           No  \n",
      "3130               No           No           No  \n",
      "3131               No           No           No  \n",
      "3132               No           No           No  \n",
      "3133              Yes           No          Yes  \n",
      "3134              Yes          Yes          Yes  \n",
      "3135              Yes          Yes           No  \n",
      "3136              Yes          Yes          Yes  \n",
      "3137              Yes          Yes          Yes  \n",
      "3138              Yes           No          Yes  \n",
      "3139              Yes          Yes          Yes  \n",
      "3140              Yes          Yes          Yes  \n",
      "3141              Yes          Yes          Yes  \n",
      "3142              Yes          Yes          Yes  \n",
      "3143              Yes          Yes          Yes  \n",
      "3144               No           No           No  \n",
      "3145              Yes          Yes          Yes  \n",
      "3146              Yes          Yes          Yes  \n",
      "3147              Yes          Yes          Yes  \n",
      "3148              Yes          Yes          Yes  \n",
      "3149              Yes          Yes          Yes  \n",
      "3150              Yes          Yes          Yes  \n",
      "3151              Yes          Yes          Yes  \n",
      "3152          Unknown      Unknown          Yes  \n",
      "\n",
      "[3153 rows x 16 columns]\n"
     ]
    }
   ],
   "source": [
    "print(data)"
   ]
  },
  {
   "cell_type": "markdown",
   "metadata": {},
   "source": [
    "Так как код каждой страны уникальный, то имеет смысл убрать столбец Country Name:"
   ]
  },
  {
   "cell_type": "code",
   "execution_count": 6,
   "metadata": {
    "collapsed": true
   },
   "outputs": [],
   "source": [
    "data = data.drop('Country Name', axis=1)"
   ]
  },
  {
   "cell_type": "code",
   "execution_count": 7,
   "metadata": {},
   "outputs": [
    {
     "data": {
      "text/html": [
       "<div>\n",
       "<style>\n",
       "    .dataframe thead tr:only-child th {\n",
       "        text-align: right;\n",
       "    }\n",
       "\n",
       "    .dataframe thead th {\n",
       "        text-align: left;\n",
       "    }\n",
       "\n",
       "    .dataframe tbody tr th {\n",
       "        vertical-align: top;\n",
       "    }\n",
       "</style>\n",
       "<table border=\"1\" class=\"dataframe\">\n",
       "  <thead>\n",
       "    <tr style=\"text-align: right;\">\n",
       "      <th></th>\n",
       "      <th>Country Code</th>\n",
       "      <th>Year</th>\n",
       "      <th>Category</th>\n",
       "      <th>Rank</th>\n",
       "      <th>Score</th>\n",
       "      <th>Open Data</th>\n",
       "      <th>Existent</th>\n",
       "      <th>Current</th>\n",
       "      <th>Public</th>\n",
       "      <th>Free</th>\n",
       "      <th>Digital</th>\n",
       "      <th>Online</th>\n",
       "      <th>Machine Readable</th>\n",
       "      <th>Downloadable</th>\n",
       "      <th>Open License</th>\n",
       "    </tr>\n",
       "  </thead>\n",
       "  <tbody>\n",
       "    <tr>\n",
       "      <th>0</th>\n",
       "      <td>AL</td>\n",
       "      <td>2015</td>\n",
       "      <td>Air Pollution</td>\n",
       "      <td>54</td>\n",
       "      <td>35</td>\n",
       "      <td>No</td>\n",
       "      <td>Yes</td>\n",
       "      <td>No</td>\n",
       "      <td>Yes</td>\n",
       "      <td>Yes</td>\n",
       "      <td>Yes</td>\n",
       "      <td>Yes</td>\n",
       "      <td>No</td>\n",
       "      <td>No</td>\n",
       "      <td>No</td>\n",
       "    </tr>\n",
       "    <tr>\n",
       "      <th>1</th>\n",
       "      <td>AL</td>\n",
       "      <td>2015</td>\n",
       "      <td>Company Registrations</td>\n",
       "      <td>33</td>\n",
       "      <td>35</td>\n",
       "      <td>No</td>\n",
       "      <td>Yes</td>\n",
       "      <td>No</td>\n",
       "      <td>Yes</td>\n",
       "      <td>Yes</td>\n",
       "      <td>Yes</td>\n",
       "      <td>Yes</td>\n",
       "      <td>No</td>\n",
       "      <td>No</td>\n",
       "      <td>No</td>\n",
       "    </tr>\n",
       "    <tr>\n",
       "      <th>2</th>\n",
       "      <td>AL</td>\n",
       "      <td>2015</td>\n",
       "      <td>Election Results</td>\n",
       "      <td>45</td>\n",
       "      <td>45</td>\n",
       "      <td>No</td>\n",
       "      <td>Yes</td>\n",
       "      <td>Yes</td>\n",
       "      <td>Yes</td>\n",
       "      <td>Yes</td>\n",
       "      <td>Yes</td>\n",
       "      <td>Yes</td>\n",
       "      <td>No</td>\n",
       "      <td>No</td>\n",
       "      <td>No</td>\n",
       "    </tr>\n",
       "    <tr>\n",
       "      <th>3</th>\n",
       "      <td>AL</td>\n",
       "      <td>2015</td>\n",
       "      <td>Government Budget</td>\n",
       "      <td>45</td>\n",
       "      <td>60</td>\n",
       "      <td>No</td>\n",
       "      <td>Yes</td>\n",
       "      <td>Yes</td>\n",
       "      <td>Yes</td>\n",
       "      <td>Yes</td>\n",
       "      <td>Yes</td>\n",
       "      <td>Yes</td>\n",
       "      <td>Yes</td>\n",
       "      <td>No</td>\n",
       "      <td>No</td>\n",
       "    </tr>\n",
       "    <tr>\n",
       "      <th>4</th>\n",
       "      <td>AL</td>\n",
       "      <td>2015</td>\n",
       "      <td>Government Expenditures</td>\n",
       "      <td>4</td>\n",
       "      <td>60</td>\n",
       "      <td>No</td>\n",
       "      <td>Yes</td>\n",
       "      <td>Yes</td>\n",
       "      <td>Yes</td>\n",
       "      <td>Yes</td>\n",
       "      <td>Yes</td>\n",
       "      <td>Yes</td>\n",
       "      <td>Yes</td>\n",
       "      <td>No</td>\n",
       "      <td>No</td>\n",
       "    </tr>\n",
       "    <tr>\n",
       "      <th>5</th>\n",
       "      <td>AL</td>\n",
       "      <td>2015</td>\n",
       "      <td>Government Procurement</td>\n",
       "      <td>36</td>\n",
       "      <td>45</td>\n",
       "      <td>No</td>\n",
       "      <td>Yes</td>\n",
       "      <td>Yes</td>\n",
       "      <td>Yes</td>\n",
       "      <td>Yes</td>\n",
       "      <td>Yes</td>\n",
       "      <td>Yes</td>\n",
       "      <td>No</td>\n",
       "      <td>No</td>\n",
       "      <td>No</td>\n",
       "    </tr>\n",
       "    <tr>\n",
       "      <th>6</th>\n",
       "      <td>AL</td>\n",
       "      <td>2015</td>\n",
       "      <td>Land Ownership</td>\n",
       "      <td>34</td>\n",
       "      <td>25</td>\n",
       "      <td>No</td>\n",
       "      <td>Yes</td>\n",
       "      <td>Yes</td>\n",
       "      <td>No</td>\n",
       "      <td>No</td>\n",
       "      <td>Yes</td>\n",
       "      <td>Yes</td>\n",
       "      <td>Unknown</td>\n",
       "      <td>Unknown</td>\n",
       "      <td>No</td>\n",
       "    </tr>\n",
       "    <tr>\n",
       "      <th>7</th>\n",
       "      <td>AL</td>\n",
       "      <td>2015</td>\n",
       "      <td>Legislation</td>\n",
       "      <td>92</td>\n",
       "      <td>35</td>\n",
       "      <td>No</td>\n",
       "      <td>Yes</td>\n",
       "      <td>No</td>\n",
       "      <td>Yes</td>\n",
       "      <td>Yes</td>\n",
       "      <td>Yes</td>\n",
       "      <td>Yes</td>\n",
       "      <td>No</td>\n",
       "      <td>No</td>\n",
       "      <td>No</td>\n",
       "    </tr>\n",
       "    <tr>\n",
       "      <th>8</th>\n",
       "      <td>AL</td>\n",
       "      <td>2015</td>\n",
       "      <td>National Map</td>\n",
       "      <td>21</td>\n",
       "      <td>60</td>\n",
       "      <td>No</td>\n",
       "      <td>Yes</td>\n",
       "      <td>Yes</td>\n",
       "      <td>Yes</td>\n",
       "      <td>Yes</td>\n",
       "      <td>Yes</td>\n",
       "      <td>Yes</td>\n",
       "      <td>Yes</td>\n",
       "      <td>No</td>\n",
       "      <td>No</td>\n",
       "    </tr>\n",
       "    <tr>\n",
       "      <th>9</th>\n",
       "      <td>AL</td>\n",
       "      <td>2015</td>\n",
       "      <td>National Boundaries</td>\n",
       "      <td>14</td>\n",
       "      <td>70</td>\n",
       "      <td>No</td>\n",
       "      <td>Yes</td>\n",
       "      <td>Yes</td>\n",
       "      <td>Yes</td>\n",
       "      <td>Yes</td>\n",
       "      <td>Yes</td>\n",
       "      <td>Yes</td>\n",
       "      <td>Yes</td>\n",
       "      <td>Yes</td>\n",
       "      <td>No</td>\n",
       "    </tr>\n",
       "    <tr>\n",
       "      <th>10</th>\n",
       "      <td>AL</td>\n",
       "      <td>2015</td>\n",
       "      <td>National Statistics</td>\n",
       "      <td>48</td>\n",
       "      <td>60</td>\n",
       "      <td>No</td>\n",
       "      <td>Yes</td>\n",
       "      <td>No</td>\n",
       "      <td>Yes</td>\n",
       "      <td>Yes</td>\n",
       "      <td>Yes</td>\n",
       "      <td>Yes</td>\n",
       "      <td>Yes</td>\n",
       "      <td>Yes</td>\n",
       "      <td>No</td>\n",
       "    </tr>\n",
       "    <tr>\n",
       "      <th>11</th>\n",
       "      <td>AL</td>\n",
       "      <td>2015</td>\n",
       "      <td>Water Quality</td>\n",
       "      <td>46</td>\n",
       "      <td>10</td>\n",
       "      <td>No</td>\n",
       "      <td>Yes</td>\n",
       "      <td>No</td>\n",
       "      <td>No</td>\n",
       "      <td>No</td>\n",
       "      <td>No</td>\n",
       "      <td>Yes</td>\n",
       "      <td>No</td>\n",
       "      <td>No</td>\n",
       "      <td>No</td>\n",
       "    </tr>\n",
       "    <tr>\n",
       "      <th>12</th>\n",
       "      <td>AL</td>\n",
       "      <td>2015</td>\n",
       "      <td>Weather Forecasts</td>\n",
       "      <td>80</td>\n",
       "      <td>0</td>\n",
       "      <td>No</td>\n",
       "      <td>No</td>\n",
       "      <td>No</td>\n",
       "      <td>No</td>\n",
       "      <td>No</td>\n",
       "      <td>No</td>\n",
       "      <td>No</td>\n",
       "      <td>No</td>\n",
       "      <td>No</td>\n",
       "      <td>No</td>\n",
       "    </tr>\n",
       "    <tr>\n",
       "      <th>13</th>\n",
       "      <td>DZ</td>\n",
       "      <td>2015</td>\n",
       "      <td>Air Pollution</td>\n",
       "      <td>79</td>\n",
       "      <td>0</td>\n",
       "      <td>No</td>\n",
       "      <td>No</td>\n",
       "      <td>No</td>\n",
       "      <td>No</td>\n",
       "      <td>No</td>\n",
       "      <td>No</td>\n",
       "      <td>No</td>\n",
       "      <td>No</td>\n",
       "      <td>No</td>\n",
       "      <td>No</td>\n",
       "    </tr>\n",
       "    <tr>\n",
       "      <th>14</th>\n",
       "      <td>DZ</td>\n",
       "      <td>2015</td>\n",
       "      <td>Company Registrations</td>\n",
       "      <td>84</td>\n",
       "      <td>0</td>\n",
       "      <td>No</td>\n",
       "      <td>Unknown</td>\n",
       "      <td>Unknown</td>\n",
       "      <td>Unknown</td>\n",
       "      <td>Unknown</td>\n",
       "      <td>Unknown</td>\n",
       "      <td>Unknown</td>\n",
       "      <td>Unknown</td>\n",
       "      <td>Unknown</td>\n",
       "      <td>Unknown</td>\n",
       "    </tr>\n",
       "    <tr>\n",
       "      <th>15</th>\n",
       "      <td>DZ</td>\n",
       "      <td>2015</td>\n",
       "      <td>Election Results</td>\n",
       "      <td>87</td>\n",
       "      <td>0</td>\n",
       "      <td>No</td>\n",
       "      <td>No</td>\n",
       "      <td>No</td>\n",
       "      <td>No</td>\n",
       "      <td>No</td>\n",
       "      <td>No</td>\n",
       "      <td>No</td>\n",
       "      <td>No</td>\n",
       "      <td>No</td>\n",
       "      <td>No</td>\n",
       "    </tr>\n",
       "    <tr>\n",
       "      <th>16</th>\n",
       "      <td>DZ</td>\n",
       "      <td>2015</td>\n",
       "      <td>Government Budget</td>\n",
       "      <td>100</td>\n",
       "      <td>20</td>\n",
       "      <td>No</td>\n",
       "      <td>Yes</td>\n",
       "      <td>Yes</td>\n",
       "      <td>No</td>\n",
       "      <td>No</td>\n",
       "      <td>Yes</td>\n",
       "      <td>No</td>\n",
       "      <td>No</td>\n",
       "      <td>No</td>\n",
       "      <td>No</td>\n",
       "    </tr>\n",
       "    <tr>\n",
       "      <th>17</th>\n",
       "      <td>DZ</td>\n",
       "      <td>2015</td>\n",
       "      <td>Government Expenditures</td>\n",
       "      <td>99</td>\n",
       "      <td>0</td>\n",
       "      <td>No</td>\n",
       "      <td>No</td>\n",
       "      <td>No</td>\n",
       "      <td>No</td>\n",
       "      <td>No</td>\n",
       "      <td>No</td>\n",
       "      <td>No</td>\n",
       "      <td>No</td>\n",
       "      <td>No</td>\n",
       "      <td>No</td>\n",
       "    </tr>\n",
       "    <tr>\n",
       "      <th>18</th>\n",
       "      <td>DZ</td>\n",
       "      <td>2015</td>\n",
       "      <td>Government Procurement</td>\n",
       "      <td>96</td>\n",
       "      <td>0</td>\n",
       "      <td>No</td>\n",
       "      <td>No</td>\n",
       "      <td>No</td>\n",
       "      <td>No</td>\n",
       "      <td>No</td>\n",
       "      <td>No</td>\n",
       "      <td>No</td>\n",
       "      <td>No</td>\n",
       "      <td>No</td>\n",
       "      <td>No</td>\n",
       "    </tr>\n",
       "    <tr>\n",
       "      <th>19</th>\n",
       "      <td>DZ</td>\n",
       "      <td>2015</td>\n",
       "      <td>Land Ownership</td>\n",
       "      <td>85</td>\n",
       "      <td>0</td>\n",
       "      <td>No</td>\n",
       "      <td>Unknown</td>\n",
       "      <td>Unknown</td>\n",
       "      <td>Unknown</td>\n",
       "      <td>Unknown</td>\n",
       "      <td>Unknown</td>\n",
       "      <td>Unknown</td>\n",
       "      <td>Unknown</td>\n",
       "      <td>Unknown</td>\n",
       "      <td>Unknown</td>\n",
       "    </tr>\n",
       "    <tr>\n",
       "      <th>20</th>\n",
       "      <td>DZ</td>\n",
       "      <td>2015</td>\n",
       "      <td>Legislation</td>\n",
       "      <td>92</td>\n",
       "      <td>35</td>\n",
       "      <td>No</td>\n",
       "      <td>Yes</td>\n",
       "      <td>Unknown</td>\n",
       "      <td>Yes</td>\n",
       "      <td>Yes</td>\n",
       "      <td>Yes</td>\n",
       "      <td>Yes</td>\n",
       "      <td>No</td>\n",
       "      <td>No</td>\n",
       "      <td>No</td>\n",
       "    </tr>\n",
       "    <tr>\n",
       "      <th>21</th>\n",
       "      <td>DZ</td>\n",
       "      <td>2015</td>\n",
       "      <td>National Map</td>\n",
       "      <td>88</td>\n",
       "      <td>5</td>\n",
       "      <td>No</td>\n",
       "      <td>Yes</td>\n",
       "      <td>Unknown</td>\n",
       "      <td>No</td>\n",
       "      <td>No</td>\n",
       "      <td>No</td>\n",
       "      <td>No</td>\n",
       "      <td>No</td>\n",
       "      <td>No</td>\n",
       "      <td>No</td>\n",
       "    </tr>\n",
       "    <tr>\n",
       "      <th>22</th>\n",
       "      <td>DZ</td>\n",
       "      <td>2015</td>\n",
       "      <td>National Boundaries</td>\n",
       "      <td>61</td>\n",
       "      <td>0</td>\n",
       "      <td>No</td>\n",
       "      <td>No</td>\n",
       "      <td>No</td>\n",
       "      <td>No</td>\n",
       "      <td>No</td>\n",
       "      <td>No</td>\n",
       "      <td>No</td>\n",
       "      <td>No</td>\n",
       "      <td>No</td>\n",
       "      <td>No</td>\n",
       "    </tr>\n",
       "    <tr>\n",
       "      <th>23</th>\n",
       "      <td>DZ</td>\n",
       "      <td>2015</td>\n",
       "      <td>National Statistics</td>\n",
       "      <td>87</td>\n",
       "      <td>35</td>\n",
       "      <td>No</td>\n",
       "      <td>Yes</td>\n",
       "      <td>No</td>\n",
       "      <td>Yes</td>\n",
       "      <td>Yes</td>\n",
       "      <td>Yes</td>\n",
       "      <td>Yes</td>\n",
       "      <td>No</td>\n",
       "      <td>No</td>\n",
       "      <td>No</td>\n",
       "    </tr>\n",
       "    <tr>\n",
       "      <th>24</th>\n",
       "      <td>DZ</td>\n",
       "      <td>2015</td>\n",
       "      <td>Water Quality</td>\n",
       "      <td>74</td>\n",
       "      <td>0</td>\n",
       "      <td>No</td>\n",
       "      <td>Unknown</td>\n",
       "      <td>Unknown</td>\n",
       "      <td>Unknown</td>\n",
       "      <td>Unknown</td>\n",
       "      <td>Unknown</td>\n",
       "      <td>Unknown</td>\n",
       "      <td>Unknown</td>\n",
       "      <td>Unknown</td>\n",
       "      <td>Unknown</td>\n",
       "    </tr>\n",
       "    <tr>\n",
       "      <th>25</th>\n",
       "      <td>DZ</td>\n",
       "      <td>2015</td>\n",
       "      <td>Weather Forecasts</td>\n",
       "      <td>80</td>\n",
       "      <td>0</td>\n",
       "      <td>No</td>\n",
       "      <td>No</td>\n",
       "      <td>No</td>\n",
       "      <td>No</td>\n",
       "      <td>No</td>\n",
       "      <td>No</td>\n",
       "      <td>No</td>\n",
       "      <td>No</td>\n",
       "      <td>No</td>\n",
       "      <td>No</td>\n",
       "    </tr>\n",
       "    <tr>\n",
       "      <th>26</th>\n",
       "      <td>AG</td>\n",
       "      <td>2015</td>\n",
       "      <td>Air Pollution</td>\n",
       "      <td>79</td>\n",
       "      <td>0</td>\n",
       "      <td>No</td>\n",
       "      <td>No</td>\n",
       "      <td>No</td>\n",
       "      <td>No</td>\n",
       "      <td>No</td>\n",
       "      <td>No</td>\n",
       "      <td>No</td>\n",
       "      <td>No</td>\n",
       "      <td>No</td>\n",
       "      <td>No</td>\n",
       "    </tr>\n",
       "    <tr>\n",
       "      <th>27</th>\n",
       "      <td>AG</td>\n",
       "      <td>2015</td>\n",
       "      <td>Company Registrations</td>\n",
       "      <td>84</td>\n",
       "      <td>0</td>\n",
       "      <td>No</td>\n",
       "      <td>No</td>\n",
       "      <td>No</td>\n",
       "      <td>No</td>\n",
       "      <td>No</td>\n",
       "      <td>No</td>\n",
       "      <td>No</td>\n",
       "      <td>No</td>\n",
       "      <td>No</td>\n",
       "      <td>No</td>\n",
       "    </tr>\n",
       "    <tr>\n",
       "      <th>28</th>\n",
       "      <td>AG</td>\n",
       "      <td>2015</td>\n",
       "      <td>Election Results</td>\n",
       "      <td>45</td>\n",
       "      <td>45</td>\n",
       "      <td>No</td>\n",
       "      <td>Yes</td>\n",
       "      <td>Yes</td>\n",
       "      <td>Yes</td>\n",
       "      <td>Yes</td>\n",
       "      <td>Yes</td>\n",
       "      <td>Yes</td>\n",
       "      <td>No</td>\n",
       "      <td>No</td>\n",
       "      <td>No</td>\n",
       "    </tr>\n",
       "    <tr>\n",
       "      <th>29</th>\n",
       "      <td>AG</td>\n",
       "      <td>2015</td>\n",
       "      <td>Government Budget</td>\n",
       "      <td>105</td>\n",
       "      <td>10</td>\n",
       "      <td>No</td>\n",
       "      <td>Yes</td>\n",
       "      <td>No</td>\n",
       "      <td>No</td>\n",
       "      <td>No</td>\n",
       "      <td>Yes</td>\n",
       "      <td>No</td>\n",
       "      <td>No</td>\n",
       "      <td>No</td>\n",
       "      <td>No</td>\n",
       "    </tr>\n",
       "    <tr>\n",
       "      <th>...</th>\n",
       "      <td>...</td>\n",
       "      <td>...</td>\n",
       "      <td>...</td>\n",
       "      <td>...</td>\n",
       "      <td>...</td>\n",
       "      <td>...</td>\n",
       "      <td>...</td>\n",
       "      <td>...</td>\n",
       "      <td>...</td>\n",
       "      <td>...</td>\n",
       "      <td>...</td>\n",
       "      <td>...</td>\n",
       "      <td>...</td>\n",
       "      <td>...</td>\n",
       "      <td>...</td>\n",
       "    </tr>\n",
       "    <tr>\n",
       "      <th>3123</th>\n",
       "      <td>TW</td>\n",
       "      <td>2013</td>\n",
       "      <td>Transportation Schedules</td>\n",
       "      <td>52</td>\n",
       "      <td>10</td>\n",
       "      <td>No</td>\n",
       "      <td>Yes</td>\n",
       "      <td>No</td>\n",
       "      <td>No</td>\n",
       "      <td>No</td>\n",
       "      <td>Yes</td>\n",
       "      <td>No</td>\n",
       "      <td>No</td>\n",
       "      <td>No</td>\n",
       "      <td>No</td>\n",
       "    </tr>\n",
       "    <tr>\n",
       "      <th>3124</th>\n",
       "      <td>TN</td>\n",
       "      <td>2013</td>\n",
       "      <td>Air Pollution</td>\n",
       "      <td>35</td>\n",
       "      <td>35</td>\n",
       "      <td>No</td>\n",
       "      <td>Yes</td>\n",
       "      <td>No</td>\n",
       "      <td>Yes</td>\n",
       "      <td>Yes</td>\n",
       "      <td>Yes</td>\n",
       "      <td>Yes</td>\n",
       "      <td>No</td>\n",
       "      <td>No</td>\n",
       "      <td>No</td>\n",
       "    </tr>\n",
       "    <tr>\n",
       "      <th>3125</th>\n",
       "      <td>TN</td>\n",
       "      <td>2013</td>\n",
       "      <td>Company Registrations</td>\n",
       "      <td>16</td>\n",
       "      <td>45</td>\n",
       "      <td>No</td>\n",
       "      <td>Yes</td>\n",
       "      <td>Yes</td>\n",
       "      <td>Yes</td>\n",
       "      <td>Yes</td>\n",
       "      <td>Yes</td>\n",
       "      <td>Yes</td>\n",
       "      <td>No</td>\n",
       "      <td>No</td>\n",
       "      <td>No</td>\n",
       "    </tr>\n",
       "    <tr>\n",
       "      <th>3126</th>\n",
       "      <td>TN</td>\n",
       "      <td>2013</td>\n",
       "      <td>Election Results</td>\n",
       "      <td>35</td>\n",
       "      <td>45</td>\n",
       "      <td>No</td>\n",
       "      <td>Yes</td>\n",
       "      <td>Yes</td>\n",
       "      <td>Yes</td>\n",
       "      <td>Yes</td>\n",
       "      <td>Yes</td>\n",
       "      <td>Yes</td>\n",
       "      <td>No</td>\n",
       "      <td>No</td>\n",
       "      <td>No</td>\n",
       "    </tr>\n",
       "    <tr>\n",
       "      <th>3127</th>\n",
       "      <td>TN</td>\n",
       "      <td>2013</td>\n",
       "      <td>Government Budget</td>\n",
       "      <td>58</td>\n",
       "      <td>35</td>\n",
       "      <td>No</td>\n",
       "      <td>Yes</td>\n",
       "      <td>Unknown</td>\n",
       "      <td>Yes</td>\n",
       "      <td>Yes</td>\n",
       "      <td>Yes</td>\n",
       "      <td>Yes</td>\n",
       "      <td>No</td>\n",
       "      <td>No</td>\n",
       "      <td>No</td>\n",
       "    </tr>\n",
       "    <tr>\n",
       "      <th>3128</th>\n",
       "      <td>TN</td>\n",
       "      <td>2013</td>\n",
       "      <td>Government Expenditures</td>\n",
       "      <td>40</td>\n",
       "      <td>0</td>\n",
       "      <td>No</td>\n",
       "      <td>Unknown</td>\n",
       "      <td>No</td>\n",
       "      <td>Unknown</td>\n",
       "      <td>Unknown</td>\n",
       "      <td>Unknown</td>\n",
       "      <td>No</td>\n",
       "      <td>No</td>\n",
       "      <td>No</td>\n",
       "      <td>No</td>\n",
       "    </tr>\n",
       "    <tr>\n",
       "      <th>3129</th>\n",
       "      <td>TN</td>\n",
       "      <td>2013</td>\n",
       "      <td>Legislation</td>\n",
       "      <td>51</td>\n",
       "      <td>35</td>\n",
       "      <td>No</td>\n",
       "      <td>Yes</td>\n",
       "      <td>No</td>\n",
       "      <td>Yes</td>\n",
       "      <td>Yes</td>\n",
       "      <td>Yes</td>\n",
       "      <td>Yes</td>\n",
       "      <td>No</td>\n",
       "      <td>No</td>\n",
       "      <td>No</td>\n",
       "    </tr>\n",
       "    <tr>\n",
       "      <th>3130</th>\n",
       "      <td>TN</td>\n",
       "      <td>2013</td>\n",
       "      <td>National Boundaries</td>\n",
       "      <td>35</td>\n",
       "      <td>35</td>\n",
       "      <td>No</td>\n",
       "      <td>Yes</td>\n",
       "      <td>Unknown</td>\n",
       "      <td>Yes</td>\n",
       "      <td>Yes</td>\n",
       "      <td>Yes</td>\n",
       "      <td>Yes</td>\n",
       "      <td>No</td>\n",
       "      <td>No</td>\n",
       "      <td>No</td>\n",
       "    </tr>\n",
       "    <tr>\n",
       "      <th>3131</th>\n",
       "      <td>TN</td>\n",
       "      <td>2013</td>\n",
       "      <td>National Statistics</td>\n",
       "      <td>58</td>\n",
       "      <td>35</td>\n",
       "      <td>No</td>\n",
       "      <td>Yes</td>\n",
       "      <td>Unknown</td>\n",
       "      <td>Yes</td>\n",
       "      <td>Yes</td>\n",
       "      <td>Yes</td>\n",
       "      <td>Yes</td>\n",
       "      <td>No</td>\n",
       "      <td>No</td>\n",
       "      <td>No</td>\n",
       "    </tr>\n",
       "    <tr>\n",
       "      <th>3132</th>\n",
       "      <td>TN</td>\n",
       "      <td>2013</td>\n",
       "      <td>Transportation Schedules</td>\n",
       "      <td>36</td>\n",
       "      <td>35</td>\n",
       "      <td>No</td>\n",
       "      <td>Yes</td>\n",
       "      <td>Unknown</td>\n",
       "      <td>Yes</td>\n",
       "      <td>Yes</td>\n",
       "      <td>Yes</td>\n",
       "      <td>Yes</td>\n",
       "      <td>No</td>\n",
       "      <td>No</td>\n",
       "      <td>No</td>\n",
       "    </tr>\n",
       "    <tr>\n",
       "      <th>3133</th>\n",
       "      <td>GB</td>\n",
       "      <td>2013</td>\n",
       "      <td>Air Pollution</td>\n",
       "      <td>5</td>\n",
       "      <td>90</td>\n",
       "      <td>Yes</td>\n",
       "      <td>Yes</td>\n",
       "      <td>Yes</td>\n",
       "      <td>Yes</td>\n",
       "      <td>Yes</td>\n",
       "      <td>Yes</td>\n",
       "      <td>Yes</td>\n",
       "      <td>Yes</td>\n",
       "      <td>No</td>\n",
       "      <td>Yes</td>\n",
       "    </tr>\n",
       "    <tr>\n",
       "      <th>3134</th>\n",
       "      <td>GB</td>\n",
       "      <td>2013</td>\n",
       "      <td>Company Registrations</td>\n",
       "      <td>1</td>\n",
       "      <td>100</td>\n",
       "      <td>Yes</td>\n",
       "      <td>Yes</td>\n",
       "      <td>Yes</td>\n",
       "      <td>Yes</td>\n",
       "      <td>Yes</td>\n",
       "      <td>Yes</td>\n",
       "      <td>Yes</td>\n",
       "      <td>Yes</td>\n",
       "      <td>Yes</td>\n",
       "      <td>Yes</td>\n",
       "    </tr>\n",
       "    <tr>\n",
       "      <th>3135</th>\n",
       "      <td>GB</td>\n",
       "      <td>2013</td>\n",
       "      <td>Election Results</td>\n",
       "      <td>19</td>\n",
       "      <td>70</td>\n",
       "      <td>No</td>\n",
       "      <td>Yes</td>\n",
       "      <td>Yes</td>\n",
       "      <td>Yes</td>\n",
       "      <td>Yes</td>\n",
       "      <td>Yes</td>\n",
       "      <td>Yes</td>\n",
       "      <td>Yes</td>\n",
       "      <td>Yes</td>\n",
       "      <td>No</td>\n",
       "    </tr>\n",
       "    <tr>\n",
       "      <th>3136</th>\n",
       "      <td>GB</td>\n",
       "      <td>2013</td>\n",
       "      <td>Government Budget</td>\n",
       "      <td>11</td>\n",
       "      <td>90</td>\n",
       "      <td>Yes</td>\n",
       "      <td>Yes</td>\n",
       "      <td>No</td>\n",
       "      <td>Yes</td>\n",
       "      <td>Yes</td>\n",
       "      <td>Yes</td>\n",
       "      <td>Yes</td>\n",
       "      <td>Yes</td>\n",
       "      <td>Yes</td>\n",
       "      <td>Yes</td>\n",
       "    </tr>\n",
       "    <tr>\n",
       "      <th>3137</th>\n",
       "      <td>GB</td>\n",
       "      <td>2013</td>\n",
       "      <td>Government Expenditures</td>\n",
       "      <td>1</td>\n",
       "      <td>100</td>\n",
       "      <td>Yes</td>\n",
       "      <td>Yes</td>\n",
       "      <td>Yes</td>\n",
       "      <td>Yes</td>\n",
       "      <td>Yes</td>\n",
       "      <td>Yes</td>\n",
       "      <td>Yes</td>\n",
       "      <td>Yes</td>\n",
       "      <td>Yes</td>\n",
       "      <td>Yes</td>\n",
       "    </tr>\n",
       "    <tr>\n",
       "      <th>3138</th>\n",
       "      <td>GB</td>\n",
       "      <td>2013</td>\n",
       "      <td>Legislation</td>\n",
       "      <td>6</td>\n",
       "      <td>90</td>\n",
       "      <td>Yes</td>\n",
       "      <td>Yes</td>\n",
       "      <td>Yes</td>\n",
       "      <td>Yes</td>\n",
       "      <td>Yes</td>\n",
       "      <td>Yes</td>\n",
       "      <td>Yes</td>\n",
       "      <td>Yes</td>\n",
       "      <td>No</td>\n",
       "      <td>Yes</td>\n",
       "    </tr>\n",
       "    <tr>\n",
       "      <th>3139</th>\n",
       "      <td>GB</td>\n",
       "      <td>2013</td>\n",
       "      <td>National Map</td>\n",
       "      <td>1</td>\n",
       "      <td>100</td>\n",
       "      <td>Yes</td>\n",
       "      <td>Yes</td>\n",
       "      <td>Yes</td>\n",
       "      <td>Yes</td>\n",
       "      <td>Yes</td>\n",
       "      <td>Yes</td>\n",
       "      <td>Yes</td>\n",
       "      <td>Yes</td>\n",
       "      <td>Yes</td>\n",
       "      <td>Yes</td>\n",
       "    </tr>\n",
       "    <tr>\n",
       "      <th>3140</th>\n",
       "      <td>GB</td>\n",
       "      <td>2013</td>\n",
       "      <td>National Boundaries</td>\n",
       "      <td>1</td>\n",
       "      <td>100</td>\n",
       "      <td>Yes</td>\n",
       "      <td>Yes</td>\n",
       "      <td>Yes</td>\n",
       "      <td>Yes</td>\n",
       "      <td>Yes</td>\n",
       "      <td>Yes</td>\n",
       "      <td>Yes</td>\n",
       "      <td>Yes</td>\n",
       "      <td>Yes</td>\n",
       "      <td>Yes</td>\n",
       "    </tr>\n",
       "    <tr>\n",
       "      <th>3141</th>\n",
       "      <td>GB</td>\n",
       "      <td>2013</td>\n",
       "      <td>National Statistics</td>\n",
       "      <td>1</td>\n",
       "      <td>100</td>\n",
       "      <td>Yes</td>\n",
       "      <td>Yes</td>\n",
       "      <td>Yes</td>\n",
       "      <td>Yes</td>\n",
       "      <td>Yes</td>\n",
       "      <td>Yes</td>\n",
       "      <td>Yes</td>\n",
       "      <td>Yes</td>\n",
       "      <td>Yes</td>\n",
       "      <td>Yes</td>\n",
       "    </tr>\n",
       "    <tr>\n",
       "      <th>3142</th>\n",
       "      <td>GB</td>\n",
       "      <td>2013</td>\n",
       "      <td>Transportation Schedules</td>\n",
       "      <td>1</td>\n",
       "      <td>100</td>\n",
       "      <td>Yes</td>\n",
       "      <td>Yes</td>\n",
       "      <td>Yes</td>\n",
       "      <td>Yes</td>\n",
       "      <td>Yes</td>\n",
       "      <td>Yes</td>\n",
       "      <td>Yes</td>\n",
       "      <td>Yes</td>\n",
       "      <td>Yes</td>\n",
       "      <td>Yes</td>\n",
       "    </tr>\n",
       "    <tr>\n",
       "      <th>3143</th>\n",
       "      <td>US</td>\n",
       "      <td>2013</td>\n",
       "      <td>Air Pollution</td>\n",
       "      <td>1</td>\n",
       "      <td>100</td>\n",
       "      <td>Yes</td>\n",
       "      <td>Yes</td>\n",
       "      <td>Yes</td>\n",
       "      <td>Yes</td>\n",
       "      <td>Yes</td>\n",
       "      <td>Yes</td>\n",
       "      <td>Yes</td>\n",
       "      <td>Yes</td>\n",
       "      <td>Yes</td>\n",
       "      <td>Yes</td>\n",
       "    </tr>\n",
       "    <tr>\n",
       "      <th>3144</th>\n",
       "      <td>US</td>\n",
       "      <td>2013</td>\n",
       "      <td>Company Registrations</td>\n",
       "      <td>58</td>\n",
       "      <td>5</td>\n",
       "      <td>No</td>\n",
       "      <td>Yes</td>\n",
       "      <td>No</td>\n",
       "      <td>No</td>\n",
       "      <td>No</td>\n",
       "      <td>No</td>\n",
       "      <td>No</td>\n",
       "      <td>No</td>\n",
       "      <td>No</td>\n",
       "      <td>No</td>\n",
       "    </tr>\n",
       "    <tr>\n",
       "      <th>3145</th>\n",
       "      <td>US</td>\n",
       "      <td>2013</td>\n",
       "      <td>Election Results</td>\n",
       "      <td>1</td>\n",
       "      <td>100</td>\n",
       "      <td>Yes</td>\n",
       "      <td>Yes</td>\n",
       "      <td>Yes</td>\n",
       "      <td>Yes</td>\n",
       "      <td>Yes</td>\n",
       "      <td>Yes</td>\n",
       "      <td>Yes</td>\n",
       "      <td>Yes</td>\n",
       "      <td>Yes</td>\n",
       "      <td>Yes</td>\n",
       "    </tr>\n",
       "    <tr>\n",
       "      <th>3146</th>\n",
       "      <td>US</td>\n",
       "      <td>2013</td>\n",
       "      <td>Government Budget</td>\n",
       "      <td>1</td>\n",
       "      <td>100</td>\n",
       "      <td>Yes</td>\n",
       "      <td>Yes</td>\n",
       "      <td>Yes</td>\n",
       "      <td>Yes</td>\n",
       "      <td>Yes</td>\n",
       "      <td>Yes</td>\n",
       "      <td>Yes</td>\n",
       "      <td>Yes</td>\n",
       "      <td>Yes</td>\n",
       "      <td>Yes</td>\n",
       "    </tr>\n",
       "    <tr>\n",
       "      <th>3147</th>\n",
       "      <td>US</td>\n",
       "      <td>2013</td>\n",
       "      <td>Government Expenditures</td>\n",
       "      <td>4</td>\n",
       "      <td>90</td>\n",
       "      <td>Yes</td>\n",
       "      <td>Yes</td>\n",
       "      <td>No</td>\n",
       "      <td>Yes</td>\n",
       "      <td>Yes</td>\n",
       "      <td>Yes</td>\n",
       "      <td>Yes</td>\n",
       "      <td>Yes</td>\n",
       "      <td>Yes</td>\n",
       "      <td>Yes</td>\n",
       "    </tr>\n",
       "    <tr>\n",
       "      <th>3148</th>\n",
       "      <td>US</td>\n",
       "      <td>2013</td>\n",
       "      <td>Legislation</td>\n",
       "      <td>1</td>\n",
       "      <td>100</td>\n",
       "      <td>Yes</td>\n",
       "      <td>Yes</td>\n",
       "      <td>Yes</td>\n",
       "      <td>Yes</td>\n",
       "      <td>Yes</td>\n",
       "      <td>Yes</td>\n",
       "      <td>Yes</td>\n",
       "      <td>Yes</td>\n",
       "      <td>Yes</td>\n",
       "      <td>Yes</td>\n",
       "    </tr>\n",
       "    <tr>\n",
       "      <th>3149</th>\n",
       "      <td>US</td>\n",
       "      <td>2013</td>\n",
       "      <td>National Map</td>\n",
       "      <td>1</td>\n",
       "      <td>100</td>\n",
       "      <td>Yes</td>\n",
       "      <td>Yes</td>\n",
       "      <td>Yes</td>\n",
       "      <td>Yes</td>\n",
       "      <td>Yes</td>\n",
       "      <td>Yes</td>\n",
       "      <td>Yes</td>\n",
       "      <td>Yes</td>\n",
       "      <td>Yes</td>\n",
       "      <td>Yes</td>\n",
       "    </tr>\n",
       "    <tr>\n",
       "      <th>3150</th>\n",
       "      <td>US</td>\n",
       "      <td>2013</td>\n",
       "      <td>National Boundaries</td>\n",
       "      <td>1</td>\n",
       "      <td>100</td>\n",
       "      <td>Yes</td>\n",
       "      <td>Yes</td>\n",
       "      <td>Yes</td>\n",
       "      <td>Yes</td>\n",
       "      <td>Yes</td>\n",
       "      <td>Yes</td>\n",
       "      <td>Yes</td>\n",
       "      <td>Yes</td>\n",
       "      <td>Yes</td>\n",
       "      <td>Yes</td>\n",
       "    </tr>\n",
       "    <tr>\n",
       "      <th>3151</th>\n",
       "      <td>US</td>\n",
       "      <td>2013</td>\n",
       "      <td>National Statistics</td>\n",
       "      <td>1</td>\n",
       "      <td>100</td>\n",
       "      <td>Yes</td>\n",
       "      <td>Yes</td>\n",
       "      <td>Yes</td>\n",
       "      <td>Yes</td>\n",
       "      <td>Yes</td>\n",
       "      <td>Yes</td>\n",
       "      <td>Yes</td>\n",
       "      <td>Yes</td>\n",
       "      <td>Yes</td>\n",
       "      <td>Yes</td>\n",
       "    </tr>\n",
       "    <tr>\n",
       "      <th>3152</th>\n",
       "      <td>US</td>\n",
       "      <td>2013</td>\n",
       "      <td>Transportation Schedules</td>\n",
       "      <td>6</td>\n",
       "      <td>75</td>\n",
       "      <td>No</td>\n",
       "      <td>Yes</td>\n",
       "      <td>Yes</td>\n",
       "      <td>Yes</td>\n",
       "      <td>Yes</td>\n",
       "      <td>Yes</td>\n",
       "      <td>Yes</td>\n",
       "      <td>Unknown</td>\n",
       "      <td>Unknown</td>\n",
       "      <td>Yes</td>\n",
       "    </tr>\n",
       "  </tbody>\n",
       "</table>\n",
       "<p>3153 rows × 15 columns</p>\n",
       "</div>"
      ],
      "text/plain": [
       "     Country Code  Year                  Category  Rank  Score Open Data  \\\n",
       "0              AL  2015             Air Pollution    54     35        No   \n",
       "1              AL  2015     Company Registrations    33     35        No   \n",
       "2              AL  2015          Election Results    45     45        No   \n",
       "3              AL  2015         Government Budget    45     60        No   \n",
       "4              AL  2015   Government Expenditures     4     60        No   \n",
       "5              AL  2015    Government Procurement    36     45        No   \n",
       "6              AL  2015            Land Ownership    34     25        No   \n",
       "7              AL  2015               Legislation    92     35        No   \n",
       "8              AL  2015              National Map    21     60        No   \n",
       "9              AL  2015       National Boundaries    14     70        No   \n",
       "10             AL  2015       National Statistics    48     60        No   \n",
       "11             AL  2015             Water Quality    46     10        No   \n",
       "12             AL  2015         Weather Forecasts    80      0        No   \n",
       "13             DZ  2015             Air Pollution    79      0        No   \n",
       "14             DZ  2015     Company Registrations    84      0        No   \n",
       "15             DZ  2015          Election Results    87      0        No   \n",
       "16             DZ  2015         Government Budget   100     20        No   \n",
       "17             DZ  2015   Government Expenditures    99      0        No   \n",
       "18             DZ  2015    Government Procurement    96      0        No   \n",
       "19             DZ  2015            Land Ownership    85      0        No   \n",
       "20             DZ  2015               Legislation    92     35        No   \n",
       "21             DZ  2015              National Map    88      5        No   \n",
       "22             DZ  2015       National Boundaries    61      0        No   \n",
       "23             DZ  2015       National Statistics    87     35        No   \n",
       "24             DZ  2015             Water Quality    74      0        No   \n",
       "25             DZ  2015         Weather Forecasts    80      0        No   \n",
       "26             AG  2015             Air Pollution    79      0        No   \n",
       "27             AG  2015     Company Registrations    84      0        No   \n",
       "28             AG  2015          Election Results    45     45        No   \n",
       "29             AG  2015         Government Budget   105     10        No   \n",
       "...           ...   ...                       ...   ...    ...       ...   \n",
       "3123           TW  2013  Transportation Schedules    52     10        No   \n",
       "3124           TN  2013             Air Pollution    35     35        No   \n",
       "3125           TN  2013     Company Registrations    16     45        No   \n",
       "3126           TN  2013          Election Results    35     45        No   \n",
       "3127           TN  2013         Government Budget    58     35        No   \n",
       "3128           TN  2013   Government Expenditures    40      0        No   \n",
       "3129           TN  2013               Legislation    51     35        No   \n",
       "3130           TN  2013       National Boundaries    35     35        No   \n",
       "3131           TN  2013       National Statistics    58     35        No   \n",
       "3132           TN  2013  Transportation Schedules    36     35        No   \n",
       "3133           GB  2013             Air Pollution     5     90       Yes   \n",
       "3134           GB  2013     Company Registrations     1    100       Yes   \n",
       "3135           GB  2013          Election Results    19     70        No   \n",
       "3136           GB  2013         Government Budget    11     90       Yes   \n",
       "3137           GB  2013   Government Expenditures     1    100       Yes   \n",
       "3138           GB  2013               Legislation     6     90       Yes   \n",
       "3139           GB  2013              National Map     1    100       Yes   \n",
       "3140           GB  2013       National Boundaries     1    100       Yes   \n",
       "3141           GB  2013       National Statistics     1    100       Yes   \n",
       "3142           GB  2013  Transportation Schedules     1    100       Yes   \n",
       "3143           US  2013             Air Pollution     1    100       Yes   \n",
       "3144           US  2013     Company Registrations    58      5        No   \n",
       "3145           US  2013          Election Results     1    100       Yes   \n",
       "3146           US  2013         Government Budget     1    100       Yes   \n",
       "3147           US  2013   Government Expenditures     4     90       Yes   \n",
       "3148           US  2013               Legislation     1    100       Yes   \n",
       "3149           US  2013              National Map     1    100       Yes   \n",
       "3150           US  2013       National Boundaries     1    100       Yes   \n",
       "3151           US  2013       National Statistics     1    100       Yes   \n",
       "3152           US  2013  Transportation Schedules     6     75        No   \n",
       "\n",
       "     Existent  Current   Public     Free  Digital   Online Machine Readable  \\\n",
       "0         Yes       No      Yes      Yes      Yes      Yes               No   \n",
       "1         Yes       No      Yes      Yes      Yes      Yes               No   \n",
       "2         Yes      Yes      Yes      Yes      Yes      Yes               No   \n",
       "3         Yes      Yes      Yes      Yes      Yes      Yes              Yes   \n",
       "4         Yes      Yes      Yes      Yes      Yes      Yes              Yes   \n",
       "5         Yes      Yes      Yes      Yes      Yes      Yes               No   \n",
       "6         Yes      Yes       No       No      Yes      Yes          Unknown   \n",
       "7         Yes       No      Yes      Yes      Yes      Yes               No   \n",
       "8         Yes      Yes      Yes      Yes      Yes      Yes              Yes   \n",
       "9         Yes      Yes      Yes      Yes      Yes      Yes              Yes   \n",
       "10        Yes       No      Yes      Yes      Yes      Yes              Yes   \n",
       "11        Yes       No       No       No       No      Yes               No   \n",
       "12         No       No       No       No       No       No               No   \n",
       "13         No       No       No       No       No       No               No   \n",
       "14    Unknown  Unknown  Unknown  Unknown  Unknown  Unknown          Unknown   \n",
       "15         No       No       No       No       No       No               No   \n",
       "16        Yes      Yes       No       No      Yes       No               No   \n",
       "17         No       No       No       No       No       No               No   \n",
       "18         No       No       No       No       No       No               No   \n",
       "19    Unknown  Unknown  Unknown  Unknown  Unknown  Unknown          Unknown   \n",
       "20        Yes  Unknown      Yes      Yes      Yes      Yes               No   \n",
       "21        Yes  Unknown       No       No       No       No               No   \n",
       "22         No       No       No       No       No       No               No   \n",
       "23        Yes       No      Yes      Yes      Yes      Yes               No   \n",
       "24    Unknown  Unknown  Unknown  Unknown  Unknown  Unknown          Unknown   \n",
       "25         No       No       No       No       No       No               No   \n",
       "26         No       No       No       No       No       No               No   \n",
       "27         No       No       No       No       No       No               No   \n",
       "28        Yes      Yes      Yes      Yes      Yes      Yes               No   \n",
       "29        Yes       No       No       No      Yes       No               No   \n",
       "...       ...      ...      ...      ...      ...      ...              ...   \n",
       "3123      Yes       No       No       No      Yes       No               No   \n",
       "3124      Yes       No      Yes      Yes      Yes      Yes               No   \n",
       "3125      Yes      Yes      Yes      Yes      Yes      Yes               No   \n",
       "3126      Yes      Yes      Yes      Yes      Yes      Yes               No   \n",
       "3127      Yes  Unknown      Yes      Yes      Yes      Yes               No   \n",
       "3128  Unknown       No  Unknown  Unknown  Unknown       No               No   \n",
       "3129      Yes       No      Yes      Yes      Yes      Yes               No   \n",
       "3130      Yes  Unknown      Yes      Yes      Yes      Yes               No   \n",
       "3131      Yes  Unknown      Yes      Yes      Yes      Yes               No   \n",
       "3132      Yes  Unknown      Yes      Yes      Yes      Yes               No   \n",
       "3133      Yes      Yes      Yes      Yes      Yes      Yes              Yes   \n",
       "3134      Yes      Yes      Yes      Yes      Yes      Yes              Yes   \n",
       "3135      Yes      Yes      Yes      Yes      Yes      Yes              Yes   \n",
       "3136      Yes       No      Yes      Yes      Yes      Yes              Yes   \n",
       "3137      Yes      Yes      Yes      Yes      Yes      Yes              Yes   \n",
       "3138      Yes      Yes      Yes      Yes      Yes      Yes              Yes   \n",
       "3139      Yes      Yes      Yes      Yes      Yes      Yes              Yes   \n",
       "3140      Yes      Yes      Yes      Yes      Yes      Yes              Yes   \n",
       "3141      Yes      Yes      Yes      Yes      Yes      Yes              Yes   \n",
       "3142      Yes      Yes      Yes      Yes      Yes      Yes              Yes   \n",
       "3143      Yes      Yes      Yes      Yes      Yes      Yes              Yes   \n",
       "3144      Yes       No       No       No       No       No               No   \n",
       "3145      Yes      Yes      Yes      Yes      Yes      Yes              Yes   \n",
       "3146      Yes      Yes      Yes      Yes      Yes      Yes              Yes   \n",
       "3147      Yes       No      Yes      Yes      Yes      Yes              Yes   \n",
       "3148      Yes      Yes      Yes      Yes      Yes      Yes              Yes   \n",
       "3149      Yes      Yes      Yes      Yes      Yes      Yes              Yes   \n",
       "3150      Yes      Yes      Yes      Yes      Yes      Yes              Yes   \n",
       "3151      Yes      Yes      Yes      Yes      Yes      Yes              Yes   \n",
       "3152      Yes      Yes      Yes      Yes      Yes      Yes          Unknown   \n",
       "\n",
       "     Downloadable Open License  \n",
       "0              No           No  \n",
       "1              No           No  \n",
       "2              No           No  \n",
       "3              No           No  \n",
       "4              No           No  \n",
       "5              No           No  \n",
       "6         Unknown           No  \n",
       "7              No           No  \n",
       "8              No           No  \n",
       "9             Yes           No  \n",
       "10            Yes           No  \n",
       "11             No           No  \n",
       "12             No           No  \n",
       "13             No           No  \n",
       "14        Unknown      Unknown  \n",
       "15             No           No  \n",
       "16             No           No  \n",
       "17             No           No  \n",
       "18             No           No  \n",
       "19        Unknown      Unknown  \n",
       "20             No           No  \n",
       "21             No           No  \n",
       "22             No           No  \n",
       "23             No           No  \n",
       "24        Unknown      Unknown  \n",
       "25             No           No  \n",
       "26             No           No  \n",
       "27             No           No  \n",
       "28             No           No  \n",
       "29             No           No  \n",
       "...           ...          ...  \n",
       "3123           No           No  \n",
       "3124           No           No  \n",
       "3125           No           No  \n",
       "3126           No           No  \n",
       "3127           No           No  \n",
       "3128           No           No  \n",
       "3129           No           No  \n",
       "3130           No           No  \n",
       "3131           No           No  \n",
       "3132           No           No  \n",
       "3133           No          Yes  \n",
       "3134          Yes          Yes  \n",
       "3135          Yes           No  \n",
       "3136          Yes          Yes  \n",
       "3137          Yes          Yes  \n",
       "3138           No          Yes  \n",
       "3139          Yes          Yes  \n",
       "3140          Yes          Yes  \n",
       "3141          Yes          Yes  \n",
       "3142          Yes          Yes  \n",
       "3143          Yes          Yes  \n",
       "3144           No           No  \n",
       "3145          Yes          Yes  \n",
       "3146          Yes          Yes  \n",
       "3147          Yes          Yes  \n",
       "3148          Yes          Yes  \n",
       "3149          Yes          Yes  \n",
       "3150          Yes          Yes  \n",
       "3151          Yes          Yes  \n",
       "3152      Unknown          Yes  \n",
       "\n",
       "[3153 rows x 15 columns]"
      ]
     },
     "execution_count": 7,
     "metadata": {},
     "output_type": "execute_result"
    }
   ],
   "source": [
    "data"
   ]
  },
  {
   "cell_type": "code",
   "execution_count": 8,
   "metadata": {},
   "outputs": [
    {
     "name": "stdout",
     "output_type": "stream",
     "text": [
      "(3153, 15)\n",
      "Index(['Country Code', 'Year', 'Category', 'Rank', 'Score', 'Open Data',\n",
      "       'Existent', 'Current', 'Public', 'Free', 'Digital', 'Online',\n",
      "       'Machine Readable', 'Downloadable', 'Open License'],\n",
      "      dtype='object')\n"
     ]
    }
   ],
   "source": [
    "print(data.shape)\n",
    "print(data.columns)"
   ]
  },
  {
   "cell_type": "code",
   "execution_count": 9,
   "metadata": {},
   "outputs": [
    {
     "data": {
      "text/plain": [
       "RangeIndex(start=0, stop=3153, step=1)"
      ]
     },
     "execution_count": 9,
     "metadata": {},
     "output_type": "execute_result"
    }
   ],
   "source": [
    "data.index"
   ]
  },
  {
   "cell_type": "code",
   "execution_count": 10,
   "metadata": {},
   "outputs": [
    {
     "data": {
      "text/plain": [
       "'Election Results'"
      ]
     },
     "execution_count": 10,
     "metadata": {},
     "output_type": "execute_result"
    }
   ],
   "source": [
    "data.at[2, 'Category']"
   ]
  },
  {
   "cell_type": "code",
   "execution_count": 11,
   "metadata": {},
   "outputs": [
    {
     "data": {
      "text/plain": [
       "0                  Air Pollution\n",
       "1          Company Registrations\n",
       "2               Election Results\n",
       "3              Government Budget\n",
       "4        Government Expenditures\n",
       "5         Government Procurement\n",
       "6                 Land Ownership\n",
       "7                    Legislation\n",
       "8                   National Map\n",
       "9            National Boundaries\n",
       "10           National Statistics\n",
       "11                 Water Quality\n",
       "12             Weather Forecasts\n",
       "13                 Air Pollution\n",
       "14         Company Registrations\n",
       "15              Election Results\n",
       "16             Government Budget\n",
       "17       Government Expenditures\n",
       "18        Government Procurement\n",
       "19                Land Ownership\n",
       "20                   Legislation\n",
       "21                  National Map\n",
       "22           National Boundaries\n",
       "23           National Statistics\n",
       "24                 Water Quality\n",
       "25             Weather Forecasts\n",
       "26                 Air Pollution\n",
       "27         Company Registrations\n",
       "28              Election Results\n",
       "29             Government Budget\n",
       "                  ...           \n",
       "3123    Transportation Schedules\n",
       "3124               Air Pollution\n",
       "3125       Company Registrations\n",
       "3126            Election Results\n",
       "3127           Government Budget\n",
       "3128     Government Expenditures\n",
       "3129                 Legislation\n",
       "3130         National Boundaries\n",
       "3131         National Statistics\n",
       "3132    Transportation Schedules\n",
       "3133               Air Pollution\n",
       "3134       Company Registrations\n",
       "3135            Election Results\n",
       "3136           Government Budget\n",
       "3137     Government Expenditures\n",
       "3138                 Legislation\n",
       "3139                National Map\n",
       "3140         National Boundaries\n",
       "3141         National Statistics\n",
       "3142    Transportation Schedules\n",
       "3143               Air Pollution\n",
       "3144       Company Registrations\n",
       "3145            Election Results\n",
       "3146           Government Budget\n",
       "3147     Government Expenditures\n",
       "3148                 Legislation\n",
       "3149                National Map\n",
       "3150         National Boundaries\n",
       "3151         National Statistics\n",
       "3152    Transportation Schedules\n",
       "Name: Category, Length: 3153, dtype: object"
      ]
     },
     "execution_count": 11,
     "metadata": {},
     "output_type": "execute_result"
    }
   ],
   "source": [
    "data['Category']"
   ]
  },
  {
   "cell_type": "code",
   "execution_count": 12,
   "metadata": {},
   "outputs": [
    {
     "data": {
      "text/plain": [
       "'Government Budget'"
      ]
     },
     "execution_count": 12,
     "metadata": {},
     "output_type": "execute_result"
    }
   ],
   "source": [
    "data['Category'][3]"
   ]
  },
  {
   "cell_type": "code",
   "execution_count": 13,
   "metadata": {},
   "outputs": [
    {
     "data": {
      "text/plain": [
       "'int64'"
      ]
     },
     "execution_count": 13,
     "metadata": {},
     "output_type": "execute_result"
    }
   ],
   "source": [
    "data['Rank'].dtype.name"
   ]
  },
  {
   "cell_type": "code",
   "execution_count": 14,
   "metadata": {},
   "outputs": [
    {
     "data": {
      "text/plain": [
       "str"
      ]
     },
     "execution_count": 14,
     "metadata": {},
     "output_type": "execute_result"
    }
   ],
   "source": [
    "type(data['Category'][3])"
   ]
  },
  {
   "cell_type": "code",
   "execution_count": 15,
   "metadata": {},
   "outputs": [
    {
     "data": {
      "text/plain": [
       "pandas.core.series.Series"
      ]
     },
     "execution_count": 15,
     "metadata": {},
     "output_type": "execute_result"
    }
   ],
   "source": [
    "type(data['Category'])"
   ]
  },
  {
   "cell_type": "code",
   "execution_count": 16,
   "metadata": {},
   "outputs": [
    {
     "data": {
      "text/html": [
       "<div>\n",
       "<style>\n",
       "    .dataframe thead tr:only-child th {\n",
       "        text-align: right;\n",
       "    }\n",
       "\n",
       "    .dataframe thead th {\n",
       "        text-align: left;\n",
       "    }\n",
       "\n",
       "    .dataframe tbody tr th {\n",
       "        vertical-align: top;\n",
       "    }\n",
       "</style>\n",
       "<table border=\"1\" class=\"dataframe\">\n",
       "  <thead>\n",
       "    <tr style=\"text-align: right;\">\n",
       "      <th></th>\n",
       "      <th>Country Code</th>\n",
       "      <th>Category</th>\n",
       "    </tr>\n",
       "  </thead>\n",
       "  <tbody>\n",
       "    <tr>\n",
       "      <th>0</th>\n",
       "      <td>AL</td>\n",
       "      <td>Air Pollution</td>\n",
       "    </tr>\n",
       "    <tr>\n",
       "      <th>1</th>\n",
       "      <td>AL</td>\n",
       "      <td>Company Registrations</td>\n",
       "    </tr>\n",
       "    <tr>\n",
       "      <th>2</th>\n",
       "      <td>AL</td>\n",
       "      <td>Election Results</td>\n",
       "    </tr>\n",
       "    <tr>\n",
       "      <th>3</th>\n",
       "      <td>AL</td>\n",
       "      <td>Government Budget</td>\n",
       "    </tr>\n",
       "    <tr>\n",
       "      <th>4</th>\n",
       "      <td>AL</td>\n",
       "      <td>Government Expenditures</td>\n",
       "    </tr>\n",
       "  </tbody>\n",
       "</table>\n",
       "</div>"
      ],
      "text/plain": [
       "  Country Code                 Category\n",
       "0           AL            Air Pollution\n",
       "1           AL    Company Registrations\n",
       "2           AL         Election Results\n",
       "3           AL        Government Budget\n",
       "4           AL  Government Expenditures"
      ]
     },
     "execution_count": 16,
     "metadata": {},
     "output_type": "execute_result"
    }
   ],
   "source": [
    "data[['Country Code', 'Category']].head()"
   ]
  },
  {
   "cell_type": "markdown",
   "metadata": {},
   "source": [
    "Итак, мы убедились - pandas работает и исправно выполняет команды."
   ]
  },
  {
   "cell_type": "code",
   "execution_count": 17,
   "metadata": {},
   "outputs": [
    {
     "data": {
      "text/html": [
       "<div>\n",
       "<style>\n",
       "    .dataframe thead tr:only-child th {\n",
       "        text-align: right;\n",
       "    }\n",
       "\n",
       "    .dataframe thead th {\n",
       "        text-align: left;\n",
       "    }\n",
       "\n",
       "    .dataframe tbody tr th {\n",
       "        vertical-align: top;\n",
       "    }\n",
       "</style>\n",
       "<table border=\"1\" class=\"dataframe\">\n",
       "  <thead>\n",
       "    <tr style=\"text-align: right;\">\n",
       "      <th></th>\n",
       "      <th>Year</th>\n",
       "      <th>Rank</th>\n",
       "      <th>Score</th>\n",
       "    </tr>\n",
       "  </thead>\n",
       "  <tbody>\n",
       "    <tr>\n",
       "      <th>count</th>\n",
       "      <td>3153.000000</td>\n",
       "      <td>3153.000000</td>\n",
       "      <td>3153.000000</td>\n",
       "    </tr>\n",
       "    <tr>\n",
       "      <th>mean</th>\n",
       "      <td>2014.300666</td>\n",
       "      <td>41.869648</td>\n",
       "      <td>39.031082</td>\n",
       "    </tr>\n",
       "    <tr>\n",
       "      <th>std</th>\n",
       "      <td>0.784318</td>\n",
       "      <td>28.851303</td>\n",
       "      <td>31.527650</td>\n",
       "    </tr>\n",
       "    <tr>\n",
       "      <th>min</th>\n",
       "      <td>2013.000000</td>\n",
       "      <td>1.000000</td>\n",
       "      <td>0.000000</td>\n",
       "    </tr>\n",
       "    <tr>\n",
       "      <th>25%</th>\n",
       "      <td>2014.000000</td>\n",
       "      <td>18.000000</td>\n",
       "      <td>10.000000</td>\n",
       "    </tr>\n",
       "    <tr>\n",
       "      <th>50%</th>\n",
       "      <td>2015.000000</td>\n",
       "      <td>37.000000</td>\n",
       "      <td>45.000000</td>\n",
       "    </tr>\n",
       "    <tr>\n",
       "      <th>75%</th>\n",
       "      <td>2015.000000</td>\n",
       "      <td>62.000000</td>\n",
       "      <td>60.000000</td>\n",
       "    </tr>\n",
       "    <tr>\n",
       "      <th>max</th>\n",
       "      <td>2015.000000</td>\n",
       "      <td>118.000000</td>\n",
       "      <td>100.000000</td>\n",
       "    </tr>\n",
       "  </tbody>\n",
       "</table>\n",
       "</div>"
      ],
      "text/plain": [
       "              Year         Rank        Score\n",
       "count  3153.000000  3153.000000  3153.000000\n",
       "mean   2014.300666    41.869648    39.031082\n",
       "std       0.784318    28.851303    31.527650\n",
       "min    2013.000000     1.000000     0.000000\n",
       "25%    2014.000000    18.000000    10.000000\n",
       "50%    2015.000000    37.000000    45.000000\n",
       "75%    2015.000000    62.000000    60.000000\n",
       "max    2015.000000   118.000000   100.000000"
      ]
     },
     "execution_count": 17,
     "metadata": {},
     "output_type": "execute_result"
    }
   ],
   "source": [
    "data.describe()"
   ]
  },
  {
   "cell_type": "code",
   "execution_count": 18,
   "metadata": {},
   "outputs": [
    {
     "data": {
      "image/png": "[encoded data removed]",
      "text/plain": [
       "<matplotlib.figure.Figure at 0x252a006b9b0>"
      ]
     },
     "metadata": {},
     "output_type": "display_data"
    }
   ],
   "source": [
    "from pandas.plotting import scatter_matrix\n",
    "scatter_matrix(data, alpha = .01, figsize = (8, 8))\n",
    "pass"
   ]
  },
  {
   "cell_type": "code",
   "execution_count": 19,
   "metadata": {},
   "outputs": [
    {
     "data": {
      "text/html": [
       "<div>\n",
       "<style>\n",
       "    .dataframe thead tr:only-child th {\n",
       "        text-align: right;\n",
       "    }\n",
       "\n",
       "    .dataframe thead th {\n",
       "        text-align: left;\n",
       "    }\n",
       "\n",
       "    .dataframe tbody tr th {\n",
       "        vertical-align: top;\n",
       "    }\n",
       "</style>\n",
       "<table border=\"1\" class=\"dataframe\">\n",
       "  <thead>\n",
       "    <tr style=\"text-align: right;\">\n",
       "      <th></th>\n",
       "      <th>Year</th>\n",
       "      <th>Rank</th>\n",
       "      <th>Score</th>\n",
       "    </tr>\n",
       "  </thead>\n",
       "  <tbody>\n",
       "    <tr>\n",
       "      <th>Year</th>\n",
       "      <td>1.000000</td>\n",
       "      <td>0.295317</td>\n",
       "      <td>-0.178614</td>\n",
       "    </tr>\n",
       "    <tr>\n",
       "      <th>Rank</th>\n",
       "      <td>0.295317</td>\n",
       "      <td>1.000000</td>\n",
       "      <td>-0.750156</td>\n",
       "    </tr>\n",
       "    <tr>\n",
       "      <th>Score</th>\n",
       "      <td>-0.178614</td>\n",
       "      <td>-0.750156</td>\n",
       "      <td>1.000000</td>\n",
       "    </tr>\n",
       "  </tbody>\n",
       "</table>\n",
       "</div>"
      ],
      "text/plain": [
       "           Year      Rank     Score\n",
       "Year   1.000000  0.295317 -0.178614\n",
       "Rank   0.295317  1.000000 -0.750156\n",
       "Score -0.178614 -0.750156  1.000000"
      ]
     },
     "execution_count": 19,
     "metadata": {},
     "output_type": "execute_result"
    }
   ],
   "source": [
    "data.corr()"
   ]
  },
  {
   "cell_type": "code",
   "execution_count": 20,
   "metadata": {},
   "outputs": [
    {
     "data": {
      "image/png": "[encoded data removed]",
      "text/plain": [
       "<matplotlib.figure.Figure at 0x252a0a3f588>"
      ]
     },
     "metadata": {},
     "output_type": "display_data"
    }
   ],
   "source": [
    "plt.plot(data['Rank'], data['Score'], 'o', alpha = 0.05)\n",
    "plt.xlabel('rank')\n",
    "plt.ylabel('score')\n",
    "plt.title('Rank vs Score')\n",
    "pass"
   ]
  },
  {
   "cell_type": "code",
   "execution_count": 21,
   "metadata": {},
   "outputs": [
    {
     "data": {
      "text/plain": [
       "0        True\n",
       "1       False\n",
       "2       False\n",
       "3       False\n",
       "4       False\n",
       "5       False\n",
       "6       False\n",
       "7       False\n",
       "8       False\n",
       "9       False\n",
       "10      False\n",
       "11      False\n",
       "12      False\n",
       "13       True\n",
       "14      False\n",
       "15      False\n",
       "16      False\n",
       "17      False\n",
       "18      False\n",
       "19      False\n",
       "20      False\n",
       "21      False\n",
       "22      False\n",
       "23      False\n",
       "24      False\n",
       "25      False\n",
       "26       True\n",
       "27      False\n",
       "28      False\n",
       "29      False\n",
       "        ...  \n",
       "3123    False\n",
       "3124     True\n",
       "3125    False\n",
       "3126    False\n",
       "3127    False\n",
       "3128    False\n",
       "3129    False\n",
       "3130    False\n",
       "3131    False\n",
       "3132    False\n",
       "3133     True\n",
       "3134    False\n",
       "3135    False\n",
       "3136    False\n",
       "3137    False\n",
       "3138    False\n",
       "3139    False\n",
       "3140    False\n",
       "3141    False\n",
       "3142    False\n",
       "3143     True\n",
       "3144    False\n",
       "3145    False\n",
       "3146    False\n",
       "3147    False\n",
       "3148    False\n",
       "3149    False\n",
       "3150    False\n",
       "3151    False\n",
       "3152    False\n",
       "Name: Category, Length: 3153, dtype: bool"
      ]
     },
     "execution_count": 21,
     "metadata": {},
     "output_type": "execute_result"
    }
   ],
   "source": [
    "data['Category'] == 'Air Pollution'"
   ]
  },
  {
   "cell_type": "code",
   "execution_count": 22,
   "metadata": {},
   "outputs": [
    {
     "data": {
      "image/png": "[encoded data removed]",
      "text/plain": [
       "<matplotlib.figure.Figure at 0x252a0a2e780>"
      ]
     },
     "metadata": {},
     "output_type": "display_data"
    }
   ],
   "source": [
    "plt.figure(figsize = (10, 5))\n",
    "\n",
    "plt.scatter(data[data['Category'] == 'Government Expenditures']['Score'],\n",
    "            data[data['Category'] == 'Government Expenditures']['Rank'],\n",
    "            alpha = 0.25,\n",
    "            label = 'Government Expenditures',\n",
    "            color = 'b')\n",
    "\n",
    "plt.scatter(data[data['Category'] == 'Government Procurement']['Score'],\n",
    "            data[data['Category'] == 'Government Procurement']['Rank'],\n",
    "            alpha = 0.2,\n",
    "            label = 'Government Procurement',\n",
    "            color = 'r')\n",
    "\n",
    "plt.xlabel('score')\n",
    "plt.xticks(range(0, 100))\n",
    "plt.xlim(61, 99)\n",
    "plt.ylabel('rank')\n",
    "plt.legend()\n",
    "plt.grid()"
   ]
  },
  {
   "cell_type": "code",
   "execution_count": 23,
   "metadata": {},
   "outputs": [
    {
     "data": {
      "text/html": [
       "<div>\n",
       "<style>\n",
       "    .dataframe thead tr:only-child th {\n",
       "        text-align: right;\n",
       "    }\n",
       "\n",
       "    .dataframe thead th {\n",
       "        text-align: left;\n",
       "    }\n",
       "\n",
       "    .dataframe tbody tr th {\n",
       "        vertical-align: top;\n",
       "    }\n",
       "</style>\n",
       "<table border=\"1\" class=\"dataframe\">\n",
       "  <thead>\n",
       "    <tr style=\"text-align: right;\">\n",
       "      <th></th>\n",
       "      <th>Country Code</th>\n",
       "      <th>Category</th>\n",
       "      <th>Open Data</th>\n",
       "      <th>Existent</th>\n",
       "      <th>Current</th>\n",
       "      <th>Public</th>\n",
       "      <th>Free</th>\n",
       "      <th>Digital</th>\n",
       "      <th>Online</th>\n",
       "      <th>Machine Readable</th>\n",
       "      <th>Downloadable</th>\n",
       "      <th>Open License</th>\n",
       "    </tr>\n",
       "  </thead>\n",
       "  <tbody>\n",
       "    <tr>\n",
       "      <th>count</th>\n",
       "      <td>3153</td>\n",
       "      <td>3153</td>\n",
       "      <td>3153</td>\n",
       "      <td>3153</td>\n",
       "      <td>3153</td>\n",
       "      <td>3153</td>\n",
       "      <td>3153</td>\n",
       "      <td>3153</td>\n",
       "      <td>3153</td>\n",
       "      <td>3153</td>\n",
       "      <td>3153</td>\n",
       "      <td>3153</td>\n",
       "    </tr>\n",
       "    <tr>\n",
       "      <th>unique</th>\n",
       "      <td>140</td>\n",
       "      <td>14</td>\n",
       "      <td>2</td>\n",
       "      <td>3</td>\n",
       "      <td>3</td>\n",
       "      <td>3</td>\n",
       "      <td>3</td>\n",
       "      <td>3</td>\n",
       "      <td>3</td>\n",
       "      <td>3</td>\n",
       "      <td>3</td>\n",
       "      <td>3</td>\n",
       "    </tr>\n",
       "    <tr>\n",
       "      <th>top</th>\n",
       "      <td>NO</td>\n",
       "      <td>National Boundaries</td>\n",
       "      <td>No</td>\n",
       "      <td>Yes</td>\n",
       "      <td>Yes</td>\n",
       "      <td>Yes</td>\n",
       "      <td>Yes</td>\n",
       "      <td>Yes</td>\n",
       "      <td>Yes</td>\n",
       "      <td>No</td>\n",
       "      <td>No</td>\n",
       "      <td>No</td>\n",
       "    </tr>\n",
       "    <tr>\n",
       "      <th>freq</th>\n",
       "      <td>33</td>\n",
       "      <td>279</td>\n",
       "      <td>2776</td>\n",
       "      <td>2529</td>\n",
       "      <td>1597</td>\n",
       "      <td>1948</td>\n",
       "      <td>1820</td>\n",
       "      <td>2338</td>\n",
       "      <td>1903</td>\n",
       "      <td>1798</td>\n",
       "      <td>1882</td>\n",
       "      <td>2138</td>\n",
       "    </tr>\n",
       "  </tbody>\n",
       "</table>\n",
       "</div>"
      ],
      "text/plain": [
       "       Country Code             Category Open Data Existent Current Public  \\\n",
       "count          3153                 3153      3153     3153    3153   3153   \n",
       "unique          140                   14         2        3       3      3   \n",
       "top              NO  National Boundaries        No      Yes     Yes    Yes   \n",
       "freq             33                  279      2776     2529    1597   1948   \n",
       "\n",
       "        Free Digital Online Machine Readable Downloadable Open License  \n",
       "count   3153    3153   3153             3153         3153         3153  \n",
       "unique     3       3      3                3            3            3  \n",
       "top      Yes     Yes    Yes               No           No           No  \n",
       "freq    1820    2338   1903             1798         1882         2138  "
      ]
     },
     "execution_count": 23,
     "metadata": {},
     "output_type": "execute_result"
    }
   ],
   "source": [
    "data.describe(include = ['object'])"
   ]
  },
  {
   "cell_type": "code",
   "execution_count": 24,
   "metadata": {},
   "outputs": [
    {
     "data": {
      "text/html": [
       "<div>\n",
       "<style>\n",
       "    .dataframe thead tr:only-child th {\n",
       "        text-align: right;\n",
       "    }\n",
       "\n",
       "    .dataframe thead th {\n",
       "        text-align: left;\n",
       "    }\n",
       "\n",
       "    .dataframe tbody tr th {\n",
       "        vertical-align: top;\n",
       "    }\n",
       "</style>\n",
       "<table border=\"1\" class=\"dataframe\">\n",
       "  <thead>\n",
       "    <tr style=\"text-align: right;\">\n",
       "      <th></th>\n",
       "      <th>Country Code</th>\n",
       "      <th>Year</th>\n",
       "      <th>Category</th>\n",
       "      <th>Rank</th>\n",
       "      <th>Score</th>\n",
       "      <th>Open Data</th>\n",
       "      <th>Existent</th>\n",
       "      <th>Current</th>\n",
       "      <th>Public</th>\n",
       "      <th>Free</th>\n",
       "      <th>Digital</th>\n",
       "      <th>Online</th>\n",
       "      <th>Machine Readable</th>\n",
       "      <th>Downloadable</th>\n",
       "      <th>Open License</th>\n",
       "    </tr>\n",
       "  </thead>\n",
       "  <tbody>\n",
       "    <tr>\n",
       "      <th>count</th>\n",
       "      <td>3153</td>\n",
       "      <td>3153.000000</td>\n",
       "      <td>3153</td>\n",
       "      <td>3153.000000</td>\n",
       "      <td>3153.000000</td>\n",
       "      <td>3153</td>\n",
       "      <td>3153</td>\n",
       "      <td>3153</td>\n",
       "      <td>3153</td>\n",
       "      <td>3153</td>\n",
       "      <td>3153</td>\n",
       "      <td>3153</td>\n",
       "      <td>3153</td>\n",
       "      <td>3153</td>\n",
       "      <td>3153</td>\n",
       "    </tr>\n",
       "    <tr>\n",
       "      <th>unique</th>\n",
       "      <td>140</td>\n",
       "      <td>NaN</td>\n",
       "      <td>14</td>\n",
       "      <td>NaN</td>\n",
       "      <td>NaN</td>\n",
       "      <td>2</td>\n",
       "      <td>3</td>\n",
       "      <td>3</td>\n",
       "      <td>3</td>\n",
       "      <td>3</td>\n",
       "      <td>3</td>\n",
       "      <td>3</td>\n",
       "      <td>3</td>\n",
       "      <td>3</td>\n",
       "      <td>3</td>\n",
       "    </tr>\n",
       "    <tr>\n",
       "      <th>top</th>\n",
       "      <td>NO</td>\n",
       "      <td>NaN</td>\n",
       "      <td>National Boundaries</td>\n",
       "      <td>NaN</td>\n",
       "      <td>NaN</td>\n",
       "      <td>No</td>\n",
       "      <td>Yes</td>\n",
       "      <td>Yes</td>\n",
       "      <td>Yes</td>\n",
       "      <td>Yes</td>\n",
       "      <td>Yes</td>\n",
       "      <td>Yes</td>\n",
       "      <td>No</td>\n",
       "      <td>No</td>\n",
       "      <td>No</td>\n",
       "    </tr>\n",
       "    <tr>\n",
       "      <th>freq</th>\n",
       "      <td>33</td>\n",
       "      <td>NaN</td>\n",
       "      <td>279</td>\n",
       "      <td>NaN</td>\n",
       "      <td>NaN</td>\n",
       "      <td>2776</td>\n",
       "      <td>2529</td>\n",
       "      <td>1597</td>\n",
       "      <td>1948</td>\n",
       "      <td>1820</td>\n",
       "      <td>2338</td>\n",
       "      <td>1903</td>\n",
       "      <td>1798</td>\n",
       "      <td>1882</td>\n",
       "      <td>2138</td>\n",
       "    </tr>\n",
       "    <tr>\n",
       "      <th>mean</th>\n",
       "      <td>NaN</td>\n",
       "      <td>2014.300666</td>\n",
       "      <td>NaN</td>\n",
       "      <td>41.869648</td>\n",
       "      <td>39.031082</td>\n",
       "      <td>NaN</td>\n",
       "      <td>NaN</td>\n",
       "      <td>NaN</td>\n",
       "      <td>NaN</td>\n",
       "      <td>NaN</td>\n",
       "      <td>NaN</td>\n",
       "      <td>NaN</td>\n",
       "      <td>NaN</td>\n",
       "      <td>NaN</td>\n",
       "      <td>NaN</td>\n",
       "    </tr>\n",
       "    <tr>\n",
       "      <th>std</th>\n",
       "      <td>NaN</td>\n",
       "      <td>0.784318</td>\n",
       "      <td>NaN</td>\n",
       "      <td>28.851303</td>\n",
       "      <td>31.527650</td>\n",
       "      <td>NaN</td>\n",
       "      <td>NaN</td>\n",
       "      <td>NaN</td>\n",
       "      <td>NaN</td>\n",
       "      <td>NaN</td>\n",
       "      <td>NaN</td>\n",
       "      <td>NaN</td>\n",
       "      <td>NaN</td>\n",
       "      <td>NaN</td>\n",
       "      <td>NaN</td>\n",
       "    </tr>\n",
       "    <tr>\n",
       "      <th>min</th>\n",
       "      <td>NaN</td>\n",
       "      <td>2013.000000</td>\n",
       "      <td>NaN</td>\n",
       "      <td>1.000000</td>\n",
       "      <td>0.000000</td>\n",
       "      <td>NaN</td>\n",
       "      <td>NaN</td>\n",
       "      <td>NaN</td>\n",
       "      <td>NaN</td>\n",
       "      <td>NaN</td>\n",
       "      <td>NaN</td>\n",
       "      <td>NaN</td>\n",
       "      <td>NaN</td>\n",
       "      <td>NaN</td>\n",
       "      <td>NaN</td>\n",
       "    </tr>\n",
       "    <tr>\n",
       "      <th>25%</th>\n",
       "      <td>NaN</td>\n",
       "      <td>2014.000000</td>\n",
       "      <td>NaN</td>\n",
       "      <td>18.000000</td>\n",
       "      <td>10.000000</td>\n",
       "      <td>NaN</td>\n",
       "      <td>NaN</td>\n",
       "      <td>NaN</td>\n",
       "      <td>NaN</td>\n",
       "      <td>NaN</td>\n",
       "      <td>NaN</td>\n",
       "      <td>NaN</td>\n",
       "      <td>NaN</td>\n",
       "      <td>NaN</td>\n",
       "      <td>NaN</td>\n",
       "    </tr>\n",
       "    <tr>\n",
       "      <th>50%</th>\n",
       "      <td>NaN</td>\n",
       "      <td>2015.000000</td>\n",
       "      <td>NaN</td>\n",
       "      <td>37.000000</td>\n",
       "      <td>45.000000</td>\n",
       "      <td>NaN</td>\n",
       "      <td>NaN</td>\n",
       "      <td>NaN</td>\n",
       "      <td>NaN</td>\n",
       "      <td>NaN</td>\n",
       "      <td>NaN</td>\n",
       "      <td>NaN</td>\n",
       "      <td>NaN</td>\n",
       "      <td>NaN</td>\n",
       "      <td>NaN</td>\n",
       "    </tr>\n",
       "    <tr>\n",
       "      <th>75%</th>\n",
       "      <td>NaN</td>\n",
       "      <td>2015.000000</td>\n",
       "      <td>NaN</td>\n",
       "      <td>62.000000</td>\n",
       "      <td>60.000000</td>\n",
       "      <td>NaN</td>\n",
       "      <td>NaN</td>\n",
       "      <td>NaN</td>\n",
       "      <td>NaN</td>\n",
       "      <td>NaN</td>\n",
       "      <td>NaN</td>\n",
       "      <td>NaN</td>\n",
       "      <td>NaN</td>\n",
       "      <td>NaN</td>\n",
       "      <td>NaN</td>\n",
       "    </tr>\n",
       "    <tr>\n",
       "      <th>max</th>\n",
       "      <td>NaN</td>\n",
       "      <td>2015.000000</td>\n",
       "      <td>NaN</td>\n",
       "      <td>118.000000</td>\n",
       "      <td>100.000000</td>\n",
       "      <td>NaN</td>\n",
       "      <td>NaN</td>\n",
       "      <td>NaN</td>\n",
       "      <td>NaN</td>\n",
       "      <td>NaN</td>\n",
       "      <td>NaN</td>\n",
       "      <td>NaN</td>\n",
       "      <td>NaN</td>\n",
       "      <td>NaN</td>\n",
       "      <td>NaN</td>\n",
       "    </tr>\n",
       "  </tbody>\n",
       "</table>\n",
       "</div>"
      ],
      "text/plain": [
       "       Country Code         Year             Category         Rank  \\\n",
       "count          3153  3153.000000                 3153  3153.000000   \n",
       "unique          140          NaN                   14          NaN   \n",
       "top              NO          NaN  National Boundaries          NaN   \n",
       "freq             33          NaN                  279          NaN   \n",
       "mean            NaN  2014.300666                  NaN    41.869648   \n",
       "std             NaN     0.784318                  NaN    28.851303   \n",
       "min             NaN  2013.000000                  NaN     1.000000   \n",
       "25%             NaN  2014.000000                  NaN    18.000000   \n",
       "50%             NaN  2015.000000                  NaN    37.000000   \n",
       "75%             NaN  2015.000000                  NaN    62.000000   \n",
       "max             NaN  2015.000000                  NaN   118.000000   \n",
       "\n",
       "              Score Open Data Existent Current Public  Free Digital Online  \\\n",
       "count   3153.000000      3153     3153    3153   3153  3153    3153   3153   \n",
       "unique          NaN         2        3       3      3     3       3      3   \n",
       "top             NaN        No      Yes     Yes    Yes   Yes     Yes    Yes   \n",
       "freq            NaN      2776     2529    1597   1948  1820    2338   1903   \n",
       "mean      39.031082       NaN      NaN     NaN    NaN   NaN     NaN    NaN   \n",
       "std       31.527650       NaN      NaN     NaN    NaN   NaN     NaN    NaN   \n",
       "min        0.000000       NaN      NaN     NaN    NaN   NaN     NaN    NaN   \n",
       "25%       10.000000       NaN      NaN     NaN    NaN   NaN     NaN    NaN   \n",
       "50%       45.000000       NaN      NaN     NaN    NaN   NaN     NaN    NaN   \n",
       "75%       60.000000       NaN      NaN     NaN    NaN   NaN     NaN    NaN   \n",
       "max      100.000000       NaN      NaN     NaN    NaN   NaN     NaN    NaN   \n",
       "\n",
       "       Machine Readable Downloadable Open License  \n",
       "count              3153         3153         3153  \n",
       "unique                3            3            3  \n",
       "top                  No           No           No  \n",
       "freq               1798         1882         2138  \n",
       "mean                NaN          NaN          NaN  \n",
       "std                 NaN          NaN          NaN  \n",
       "min                 NaN          NaN          NaN  \n",
       "25%                 NaN          NaN          NaN  \n",
       "50%                 NaN          NaN          NaN  \n",
       "75%                 NaN          NaN          NaN  \n",
       "max                 NaN          NaN          NaN  "
      ]
     },
     "execution_count": 24,
     "metadata": {},
     "output_type": "execute_result"
    }
   ],
   "source": [
    "data.describe(include = 'all')"
   ]
  },
  {
   "cell_type": "markdown",
   "metadata": {},
   "source": [
    "## Подготовка данных"
   ]
  },
  {
   "cell_type": "markdown",
   "metadata": {},
   "source": [
    "Выбросим колонки Country Code и Year за ненадобностью в нашей задаче:"
   ]
  },
  {
   "cell_type": "code",
   "execution_count": 25,
   "metadata": {
    "collapsed": true
   },
   "outputs": [],
   "source": [
    "data = data.drop('Country Code', axis=1)\n",
    "data = data.drop('Year', axis=1)"
   ]
  },
  {
   "cell_type": "markdown",
   "metadata": {},
   "source": [
    "Разделим признаки на категориальные и количественные:"
   ]
  },
  {
   "cell_type": "code",
   "execution_count": 26,
   "metadata": {},
   "outputs": [
    {
     "name": "stdout",
     "output_type": "stream",
     "text": [
      "Categorical: \n",
      "['Category', 'Open Data', 'Existent', 'Current', 'Public', 'Free', 'Digital', 'Online', 'Machine Readable', 'Downloadable', 'Open License']\n",
      "Numerical: \n",
      "['Rank', 'Score']\n",
      "\n",
      "Size of table: (3153, 13)\n"
     ]
    }
   ],
   "source": [
    "categorical_cols = [col for col in data.columns if data[col].dtype.name == \"object\"]\n",
    "numerical_cols = [col for col in data.columns if data[col].dtype.name != \"object\"]\n",
    "print(\"Categorical: \\n\" + str(categorical_cols))\n",
    "print(\"Numerical: \\n\" + str(numerical_cols))\n",
    "print(\"\\nSize of table: \" + str(data.shape))"
   ]
  },
  {
   "cell_type": "markdown",
   "metadata": {},
   "source": [
    "Поскольку столбец Category содержит ответ, то убёрем его:"
   ]
  },
  {
   "cell_type": "code",
   "execution_count": 27,
   "metadata": {
    "collapsed": true
   },
   "outputs": [],
   "source": [
    "y = data['Category']\n",
    "data = data.drop('Category', axis=1)"
   ]
  },
  {
   "cell_type": "markdown",
   "metadata": {},
   "source": [
    "Переделим заново:"
   ]
  },
  {
   "cell_type": "code",
   "execution_count": 28,
   "metadata": {},
   "outputs": [
    {
     "name": "stdout",
     "output_type": "stream",
     "text": [
      "Categorical: \n",
      "['Open Data', 'Existent', 'Current', 'Public', 'Free', 'Digital', 'Online', 'Machine Readable', 'Downloadable', 'Open License']\n",
      "Numerical: \n",
      "['Rank', 'Score']\n",
      "\n",
      "Size of table: (3153, 12)\n"
     ]
    }
   ],
   "source": [
    "categorical_cols = [col for col in data.columns if data[col].dtype.name == \"object\"]\n",
    "numerical_cols = [col for col in data.columns if data[col].dtype.name != \"object\"]\n",
    "print(\"Categorical: \\n\" + str(categorical_cols))\n",
    "print(\"Numerical: \\n\" + str(numerical_cols))\n",
    "print(\"\\nSize of table: \" + str(data.shape))"
   ]
  },
  {
   "cell_type": "markdown",
   "metadata": {},
   "source": [
    "Проверим пропуски в таблице. Если такие будут обнаружены, то для устранения пропусков будем использовать подстановки:\n",
    "- самое популярное значение - для категориальных признаков\n",
    "- медиана - для количественных признаков"
   ]
  },
  {
   "cell_type": "code",
   "execution_count": 29,
   "metadata": {},
   "outputs": [
    {
     "name": "stdout",
     "output_type": "stream",
     "text": [
      "Numerical:\n",
      "Rank     3153\n",
      "Score    3153\n",
      "dtype: int64\n",
      "\n",
      "Categorical:\n",
      "Open Data           3153\n",
      "Existent            3153\n",
      "Current             3153\n",
      "Public              3153\n",
      "Free                3153\n",
      "Digital             3153\n",
      "Online              3153\n",
      "Machine Readable    3153\n",
      "Downloadable        3153\n",
      "Open License        3153\n",
      "dtype: int64\n"
     ]
    }
   ],
   "source": [
    "print(\"Numerical:\")\n",
    "print(data[numerical_cols].count())\n",
    "print(\"\\nCategorical:\")\n",
    "print(data[categorical_cols].count())"
   ]
  },
  {
   "cell_type": "markdown",
   "metadata": {},
   "source": [
    "Для всех признаков данные заполнены, однако если бы они были в категориальных признаках, то бы мы их заполнили следующим образом:"
   ]
  },
  {
   "cell_type": "code",
   "execution_count": 30,
   "metadata": {
    "collapsed": true
   },
   "outputs": [],
   "source": [
    "data_describe = data.describe(include = [object])\n",
    "for c in categorical_cols:\n",
    "    data[c] = data[c].fillna(data_describe[c]['top'])"
   ]
  },
  {
   "cell_type": "markdown",
   "metadata": {},
   "source": [
    "## Векторизация категориальных признаков"
   ]
  },
  {
   "cell_type": "markdown",
   "metadata": {},
   "source": [
    "Будет сделано следующее:\n",
    "1. Для небинарных категориальных признаков:\n",
    "    - Вместо N значений признака будет использоваться N признаков со значением 0 или 1 (в зависимости от значения исходного признака), таким образом, получив вектор сумма элементов которого всегда равна 1 (в силу того, что пропуски уже устранены)\n",
    "2. Для бинарных категориальных признаков:\n",
    "    - Вместо категории будем использовать число - 0 или 1 соответственно"
   ]
  },
  {
   "cell_type": "code",
   "execution_count": 31,
   "metadata": {},
   "outputs": [
    {
     "name": "stdout",
     "output_type": "stream",
     "text": [
      "Binary:\n",
      "['Open Data']\n",
      "Non-binary:\n",
      "['Existent', 'Current', 'Public', 'Free', 'Digital', 'Online', 'Machine Readable', 'Downloadable', 'Open License']\n"
     ]
    }
   ],
   "source": [
    "categorical_descr = data.describe(include=[object])\n",
    "binary_cols = [col for col in categorical_cols if categorical_descr[col]['unique'] == 2]\n",
    "print(\"Binary:\")\n",
    "print(binary_cols)\n",
    "nonbinary_cols = [col for col in categorical_cols if categorical_descr[col]['unique'] > 2]\n",
    "print(\"Non-binary:\")\n",
    "print(nonbinary_cols)"
   ]
  },
  {
   "cell_type": "markdown",
   "metadata": {},
   "source": [
    "Среди всех категориальных признаков 9 оказались не бинарными. Переобозначим в бинарных признаках значения на 0 и 1:"
   ]
  },
  {
   "cell_type": "code",
   "execution_count": 32,
   "metadata": {},
   "outputs": [
    {
     "data": {
      "text/plain": [
       "count     3153\n",
       "unique       2\n",
       "top          0\n",
       "freq      2776\n",
       "Name: Open Data, dtype: int64"
      ]
     },
     "execution_count": 32,
     "metadata": {},
     "output_type": "execute_result"
    }
   ],
   "source": [
    "data.at[data['Open Data']=='No', 'Open Data'] = 0\n",
    "data.at[data['Open Data']=='Yes', 'Open Data'] = 1\n",
    "data['Open Data'].describe() # dtype is now int64"
   ]
  },
  {
   "cell_type": "markdown",
   "metadata": {},
   "source": [
    "Теперь разберёмся с не бинарными признаками. Например, атрибут Existent имеет 3 различных значения:"
   ]
  },
  {
   "cell_type": "code",
   "execution_count": 33,
   "metadata": {},
   "outputs": [
    {
     "data": {
      "text/plain": [
       "array(['Yes', 'No', 'Unknown'], dtype=object)"
      ]
     },
     "execution_count": 33,
     "metadata": {},
     "output_type": "execute_result"
    }
   ],
   "source": [
    "data['Existent'].unique()"
   ]
  },
  {
   "cell_type": "markdown",
   "metadata": {},
   "source": [
    "Векторизуем один признак, принимающий 3 значений, на 3 бинарных. Сделаем это для всех не бинарных, найденных выше:"
   ]
  },
  {
   "cell_type": "code",
   "execution_count": 34,
   "metadata": {},
   "outputs": [
    {
     "name": "stdout",
     "output_type": "stream",
     "text": [
      "Index(['Existent_No', 'Existent_Unknown', 'Existent_Yes', 'Current_No',\n",
      "       'Current_Unknown', 'Current_Yes', 'Public_No', 'Public_Unknown',\n",
      "       'Public_Yes', 'Free_No', 'Free_Unknown', 'Free_Yes', 'Digital_No',\n",
      "       'Digital_Unknown', 'Digital_Yes', 'Online_No', 'Online_Unknown',\n",
      "       'Online_Yes', 'Machine Readable_No', 'Machine Readable_Unknown',\n",
      "       'Machine Readable_Yes', 'Downloadable_No', 'Downloadable_Unknown',\n",
      "       'Downloadable_Yes', 'Open License_No', 'Open License_Unknown',\n",
      "       'Open License_Yes'],\n",
      "      dtype='object')\n"
     ]
    }
   ],
   "source": [
    "data_nonbinary = pd.get_dummies(data[nonbinary_cols])\n",
    "print (data_nonbinary.columns)"
   ]
  },
  {
   "cell_type": "markdown",
   "metadata": {},
   "source": [
    "Заменим пробелы на _ в некоторых колонках:"
   ]
  },
  {
   "cell_type": "code",
   "execution_count": 35,
   "metadata": {},
   "outputs": [
    {
     "name": "stdout",
     "output_type": "stream",
     "text": [
      "Index(['Existent_No', 'Existent_Unknown', 'Existent_Yes', 'Current_No',\n",
      "       'Current_Unknown', 'Current_Yes', 'Public_No', 'Public_Unknown',\n",
      "       'Public_Yes', 'Free_No', 'Free_Unknown', 'Free_Yes', 'Digital_No',\n",
      "       'Digital_Unknown', 'Digital_Yes', 'Online_No', 'Online_Unknown',\n",
      "       'Online_Yes', 'Machine_Readable_No', 'Machine_Readable_Unknown',\n",
      "       'Machine_Readable_Yes', 'Downloadable_No', 'Downloadable_Unknown',\n",
      "       'Downloadable_Yes', 'Open_License_No', 'Open_License_Unknown',\n",
      "       'Open_License_Yes'],\n",
      "      dtype='object')\n"
     ]
    }
   ],
   "source": [
    "data_nonbinary.columns = map(lambda col: col.replace(\" \", \"_\"), data_nonbinary.columns)\n",
    "print(data_nonbinary.columns)"
   ]
  },
  {
   "cell_type": "markdown",
   "metadata": {},
   "source": [
    "## Нормализация количественных признаков"
   ]
  },
  {
   "cell_type": "code",
   "execution_count": 36,
   "metadata": {},
   "outputs": [
    {
     "data": {
      "text/html": [
       "<div>\n",
       "<style>\n",
       "    .dataframe thead tr:only-child th {\n",
       "        text-align: right;\n",
       "    }\n",
       "\n",
       "    .dataframe thead th {\n",
       "        text-align: left;\n",
       "    }\n",
       "\n",
       "    .dataframe tbody tr th {\n",
       "        vertical-align: top;\n",
       "    }\n",
       "</style>\n",
       "<table border=\"1\" class=\"dataframe\">\n",
       "  <thead>\n",
       "    <tr style=\"text-align: right;\">\n",
       "      <th></th>\n",
       "      <th>Rank</th>\n",
       "      <th>Score</th>\n",
       "    </tr>\n",
       "  </thead>\n",
       "  <tbody>\n",
       "    <tr>\n",
       "      <th>count</th>\n",
       "      <td>3153.000000</td>\n",
       "      <td>3153.000000</td>\n",
       "    </tr>\n",
       "    <tr>\n",
       "      <th>mean</th>\n",
       "      <td>41.869648</td>\n",
       "      <td>39.031082</td>\n",
       "    </tr>\n",
       "    <tr>\n",
       "      <th>std</th>\n",
       "      <td>28.851303</td>\n",
       "      <td>31.527650</td>\n",
       "    </tr>\n",
       "    <tr>\n",
       "      <th>min</th>\n",
       "      <td>1.000000</td>\n",
       "      <td>0.000000</td>\n",
       "    </tr>\n",
       "    <tr>\n",
       "      <th>25%</th>\n",
       "      <td>18.000000</td>\n",
       "      <td>10.000000</td>\n",
       "    </tr>\n",
       "    <tr>\n",
       "      <th>50%</th>\n",
       "      <td>37.000000</td>\n",
       "      <td>45.000000</td>\n",
       "    </tr>\n",
       "    <tr>\n",
       "      <th>75%</th>\n",
       "      <td>62.000000</td>\n",
       "      <td>60.000000</td>\n",
       "    </tr>\n",
       "    <tr>\n",
       "      <th>max</th>\n",
       "      <td>118.000000</td>\n",
       "      <td>100.000000</td>\n",
       "    </tr>\n",
       "  </tbody>\n",
       "</table>\n",
       "</div>"
      ],
      "text/plain": [
       "              Rank        Score\n",
       "count  3153.000000  3153.000000\n",
       "mean     41.869648    39.031082\n",
       "std      28.851303    31.527650\n",
       "min       1.000000     0.000000\n",
       "25%      18.000000    10.000000\n",
       "50%      37.000000    45.000000\n",
       "75%      62.000000    60.000000\n",
       "max     118.000000   100.000000"
      ]
     },
     "execution_count": 36,
     "metadata": {},
     "output_type": "execute_result"
    }
   ],
   "source": [
    "data_numerical = data[numerical_cols]\n",
    "data_numerical.describe()"
   ]
  },
  {
   "cell_type": "markdown",
   "metadata": {},
   "source": [
    "Нормализуем количественные признаки. Приведём к мат. ожиданию = 0 и дисперсии = 1:"
   ]
  },
  {
   "cell_type": "code",
   "execution_count": 37,
   "metadata": {},
   "outputs": [
    {
     "data": {
      "text/html": [
       "<div>\n",
       "<style>\n",
       "    .dataframe thead tr:only-child th {\n",
       "        text-align: right;\n",
       "    }\n",
       "\n",
       "    .dataframe thead th {\n",
       "        text-align: left;\n",
       "    }\n",
       "\n",
       "    .dataframe tbody tr th {\n",
       "        vertical-align: top;\n",
       "    }\n",
       "</style>\n",
       "<table border=\"1\" class=\"dataframe\">\n",
       "  <thead>\n",
       "    <tr style=\"text-align: right;\">\n",
       "      <th></th>\n",
       "      <th>Rank</th>\n",
       "      <th>Score</th>\n",
       "    </tr>\n",
       "  </thead>\n",
       "  <tbody>\n",
       "    <tr>\n",
       "      <th>count</th>\n",
       "      <td>3.153000e+03</td>\n",
       "      <td>3.153000e+03</td>\n",
       "    </tr>\n",
       "    <tr>\n",
       "      <th>mean</th>\n",
       "      <td>1.135012e-15</td>\n",
       "      <td>5.092307e-16</td>\n",
       "    </tr>\n",
       "    <tr>\n",
       "      <th>std</th>\n",
       "      <td>1.000000e+00</td>\n",
       "      <td>1.000000e+00</td>\n",
       "    </tr>\n",
       "    <tr>\n",
       "      <th>min</th>\n",
       "      <td>-1.416562e+00</td>\n",
       "      <td>-1.237995e+00</td>\n",
       "    </tr>\n",
       "    <tr>\n",
       "      <th>25%</th>\n",
       "      <td>-8.273335e-01</td>\n",
       "      <td>-9.208134e-01</td>\n",
       "    </tr>\n",
       "    <tr>\n",
       "      <th>50%</th>\n",
       "      <td>-1.687843e-01</td>\n",
       "      <td>1.893233e-01</td>\n",
       "    </tr>\n",
       "    <tr>\n",
       "      <th>75%</th>\n",
       "      <td>6.977277e-01</td>\n",
       "      <td>6.650962e-01</td>\n",
       "    </tr>\n",
       "    <tr>\n",
       "      <th>max</th>\n",
       "      <td>2.638715e+00</td>\n",
       "      <td>1.933824e+00</td>\n",
       "    </tr>\n",
       "  </tbody>\n",
       "</table>\n",
       "</div>"
      ],
      "text/plain": [
       "               Rank         Score\n",
       "count  3.153000e+03  3.153000e+03\n",
       "mean   1.135012e-15  5.092307e-16\n",
       "std    1.000000e+00  1.000000e+00\n",
       "min   -1.416562e+00 -1.237995e+00\n",
       "25%   -8.273335e-01 -9.208134e-01\n",
       "50%   -1.687843e-01  1.893233e-01\n",
       "75%    6.977277e-01  6.650962e-01\n",
       "max    2.638715e+00  1.933824e+00"
      ]
     },
     "execution_count": 37,
     "metadata": {},
     "output_type": "execute_result"
    }
   ],
   "source": [
    "data_numerical = (data_numerical - data_numerical.mean(axis = 0))/data_numerical.std(axis = 0)\n",
    "data_numerical.describe()"
   ]
  },
  {
   "cell_type": "markdown",
   "metadata": {},
   "source": [
    "Теперь соединим все обработанные признаки:"
   ]
  },
  {
   "cell_type": "code",
   "execution_count": 38,
   "metadata": {},
   "outputs": [
    {
     "name": "stdout",
     "output_type": "stream",
     "text": [
      "(3153, 30)\n"
     ]
    }
   ],
   "source": [
    "data = pd.concat((data_numerical, data_nonbinary, data[binary_cols]), axis = 1)\n",
    "print (data.shape)"
   ]
  },
  {
   "cell_type": "code",
   "execution_count": 39,
   "metadata": {},
   "outputs": [
    {
     "data": {
      "text/html": [
       "<div>\n",
       "<style>\n",
       "    .dataframe thead tr:only-child th {\n",
       "        text-align: right;\n",
       "    }\n",
       "\n",
       "    .dataframe thead th {\n",
       "        text-align: left;\n",
       "    }\n",
       "\n",
       "    .dataframe tbody tr th {\n",
       "        vertical-align: top;\n",
       "    }\n",
       "</style>\n",
       "<table border=\"1\" class=\"dataframe\">\n",
       "  <thead>\n",
       "    <tr style=\"text-align: right;\">\n",
       "      <th></th>\n",
       "      <th>Rank</th>\n",
       "      <th>Score</th>\n",
       "      <th>Existent_No</th>\n",
       "      <th>Existent_Unknown</th>\n",
       "      <th>Existent_Yes</th>\n",
       "      <th>Current_No</th>\n",
       "      <th>Current_Unknown</th>\n",
       "      <th>Current_Yes</th>\n",
       "      <th>Public_No</th>\n",
       "      <th>Public_Unknown</th>\n",
       "      <th>...</th>\n",
       "      <th>Online_Yes</th>\n",
       "      <th>Machine_Readable_No</th>\n",
       "      <th>Machine_Readable_Unknown</th>\n",
       "      <th>Machine_Readable_Yes</th>\n",
       "      <th>Downloadable_No</th>\n",
       "      <th>Downloadable_Unknown</th>\n",
       "      <th>Downloadable_Yes</th>\n",
       "      <th>Open_License_No</th>\n",
       "      <th>Open_License_Unknown</th>\n",
       "      <th>Open_License_Yes</th>\n",
       "    </tr>\n",
       "  </thead>\n",
       "  <tbody>\n",
       "    <tr>\n",
       "      <th>count</th>\n",
       "      <td>3.153000e+03</td>\n",
       "      <td>3.153000e+03</td>\n",
       "      <td>3153.000000</td>\n",
       "      <td>3153.000000</td>\n",
       "      <td>3153.000000</td>\n",
       "      <td>3153.000000</td>\n",
       "      <td>3153.000000</td>\n",
       "      <td>3153.000000</td>\n",
       "      <td>3153.000000</td>\n",
       "      <td>3153.000000</td>\n",
       "      <td>...</td>\n",
       "      <td>3153.000000</td>\n",
       "      <td>3153.000000</td>\n",
       "      <td>3153.000000</td>\n",
       "      <td>3153.000000</td>\n",
       "      <td>3153.000000</td>\n",
       "      <td>3153.000000</td>\n",
       "      <td>3153.000000</td>\n",
       "      <td>3153.000000</td>\n",
       "      <td>3153.000000</td>\n",
       "      <td>3153.000000</td>\n",
       "    </tr>\n",
       "    <tr>\n",
       "      <th>mean</th>\n",
       "      <td>1.135012e-15</td>\n",
       "      <td>5.092307e-16</td>\n",
       "      <td>0.132889</td>\n",
       "      <td>0.065017</td>\n",
       "      <td>0.802093</td>\n",
       "      <td>0.329845</td>\n",
       "      <td>0.163654</td>\n",
       "      <td>0.506502</td>\n",
       "      <td>0.294957</td>\n",
       "      <td>0.087219</td>\n",
       "      <td>...</td>\n",
       "      <td>0.603552</td>\n",
       "      <td>0.570251</td>\n",
       "      <td>0.137012</td>\n",
       "      <td>0.292737</td>\n",
       "      <td>0.596892</td>\n",
       "      <td>0.131621</td>\n",
       "      <td>0.271487</td>\n",
       "      <td>0.678084</td>\n",
       "      <td>0.176023</td>\n",
       "      <td>0.145893</td>\n",
       "    </tr>\n",
       "    <tr>\n",
       "      <th>std</th>\n",
       "      <td>1.000000e+00</td>\n",
       "      <td>1.000000e+00</td>\n",
       "      <td>0.339509</td>\n",
       "      <td>0.246596</td>\n",
       "      <td>0.398485</td>\n",
       "      <td>0.470231</td>\n",
       "      <td>0.370020</td>\n",
       "      <td>0.500037</td>\n",
       "      <td>0.456096</td>\n",
       "      <td>0.282200</td>\n",
       "      <td>...</td>\n",
       "      <td>0.489237</td>\n",
       "      <td>0.495119</td>\n",
       "      <td>0.343915</td>\n",
       "      <td>0.455091</td>\n",
       "      <td>0.490600</td>\n",
       "      <td>0.338132</td>\n",
       "      <td>0.444797</td>\n",
       "      <td>0.467285</td>\n",
       "      <td>0.380900</td>\n",
       "      <td>0.353055</td>\n",
       "    </tr>\n",
       "    <tr>\n",
       "      <th>min</th>\n",
       "      <td>-1.416562e+00</td>\n",
       "      <td>-1.237995e+00</td>\n",
       "      <td>0.000000</td>\n",
       "      <td>0.000000</td>\n",
       "      <td>0.000000</td>\n",
       "      <td>0.000000</td>\n",
       "      <td>0.000000</td>\n",
       "      <td>0.000000</td>\n",
       "      <td>0.000000</td>\n",
       "      <td>0.000000</td>\n",
       "      <td>...</td>\n",
       "      <td>0.000000</td>\n",
       "      <td>0.000000</td>\n",
       "      <td>0.000000</td>\n",
       "      <td>0.000000</td>\n",
       "      <td>0.000000</td>\n",
       "      <td>0.000000</td>\n",
       "      <td>0.000000</td>\n",
       "      <td>0.000000</td>\n",
       "      <td>0.000000</td>\n",
       "      <td>0.000000</td>\n",
       "    </tr>\n",
       "    <tr>\n",
       "      <th>25%</th>\n",
       "      <td>-8.273335e-01</td>\n",
       "      <td>-9.208134e-01</td>\n",
       "      <td>0.000000</td>\n",
       "      <td>0.000000</td>\n",
       "      <td>1.000000</td>\n",
       "      <td>0.000000</td>\n",
       "      <td>0.000000</td>\n",
       "      <td>0.000000</td>\n",
       "      <td>0.000000</td>\n",
       "      <td>0.000000</td>\n",
       "      <td>...</td>\n",
       "      <td>0.000000</td>\n",
       "      <td>0.000000</td>\n",
       "      <td>0.000000</td>\n",
       "      <td>0.000000</td>\n",
       "      <td>0.000000</td>\n",
       "      <td>0.000000</td>\n",
       "      <td>0.000000</td>\n",
       "      <td>0.000000</td>\n",
       "      <td>0.000000</td>\n",
       "      <td>0.000000</td>\n",
       "    </tr>\n",
       "    <tr>\n",
       "      <th>50%</th>\n",
       "      <td>-1.687843e-01</td>\n",
       "      <td>1.893233e-01</td>\n",
       "      <td>0.000000</td>\n",
       "      <td>0.000000</td>\n",
       "      <td>1.000000</td>\n",
       "      <td>0.000000</td>\n",
       "      <td>0.000000</td>\n",
       "      <td>1.000000</td>\n",
       "      <td>0.000000</td>\n",
       "      <td>0.000000</td>\n",
       "      <td>...</td>\n",
       "      <td>1.000000</td>\n",
       "      <td>1.000000</td>\n",
       "      <td>0.000000</td>\n",
       "      <td>0.000000</td>\n",
       "      <td>1.000000</td>\n",
       "      <td>0.000000</td>\n",
       "      <td>0.000000</td>\n",
       "      <td>1.000000</td>\n",
       "      <td>0.000000</td>\n",
       "      <td>0.000000</td>\n",
       "    </tr>\n",
       "    <tr>\n",
       "      <th>75%</th>\n",
       "      <td>6.977277e-01</td>\n",
       "      <td>6.650962e-01</td>\n",
       "      <td>0.000000</td>\n",
       "      <td>0.000000</td>\n",
       "      <td>1.000000</td>\n",
       "      <td>1.000000</td>\n",
       "      <td>0.000000</td>\n",
       "      <td>1.000000</td>\n",
       "      <td>1.000000</td>\n",
       "      <td>0.000000</td>\n",
       "      <td>...</td>\n",
       "      <td>1.000000</td>\n",
       "      <td>1.000000</td>\n",
       "      <td>0.000000</td>\n",
       "      <td>1.000000</td>\n",
       "      <td>1.000000</td>\n",
       "      <td>0.000000</td>\n",
       "      <td>1.000000</td>\n",
       "      <td>1.000000</td>\n",
       "      <td>0.000000</td>\n",
       "      <td>0.000000</td>\n",
       "    </tr>\n",
       "    <tr>\n",
       "      <th>max</th>\n",
       "      <td>2.638715e+00</td>\n",
       "      <td>1.933824e+00</td>\n",
       "      <td>1.000000</td>\n",
       "      <td>1.000000</td>\n",
       "      <td>1.000000</td>\n",
       "      <td>1.000000</td>\n",
       "      <td>1.000000</td>\n",
       "      <td>1.000000</td>\n",
       "      <td>1.000000</td>\n",
       "      <td>1.000000</td>\n",
       "      <td>...</td>\n",
       "      <td>1.000000</td>\n",
       "      <td>1.000000</td>\n",
       "      <td>1.000000</td>\n",
       "      <td>1.000000</td>\n",
       "      <td>1.000000</td>\n",
       "      <td>1.000000</td>\n",
       "      <td>1.000000</td>\n",
       "      <td>1.000000</td>\n",
       "      <td>1.000000</td>\n",
       "      <td>1.000000</td>\n",
       "    </tr>\n",
       "  </tbody>\n",
       "</table>\n",
       "<p>8 rows × 29 columns</p>\n",
       "</div>"
      ],
      "text/plain": [
       "               Rank         Score  Existent_No  Existent_Unknown  \\\n",
       "count  3.153000e+03  3.153000e+03  3153.000000       3153.000000   \n",
       "mean   1.135012e-15  5.092307e-16     0.132889          0.065017   \n",
       "std    1.000000e+00  1.000000e+00     0.339509          0.246596   \n",
       "min   -1.416562e+00 -1.237995e+00     0.000000          0.000000   \n",
       "25%   -8.273335e-01 -9.208134e-01     0.000000          0.000000   \n",
       "50%   -1.687843e-01  1.893233e-01     0.000000          0.000000   \n",
       "75%    6.977277e-01  6.650962e-01     0.000000          0.000000   \n",
       "max    2.638715e+00  1.933824e+00     1.000000          1.000000   \n",
       "\n",
       "       Existent_Yes   Current_No  Current_Unknown  Current_Yes    Public_No  \\\n",
       "count   3153.000000  3153.000000      3153.000000  3153.000000  3153.000000   \n",
       "mean       0.802093     0.329845         0.163654     0.506502     0.294957   \n",
       "std        0.398485     0.470231         0.370020     0.500037     0.456096   \n",
       "min        0.000000     0.000000         0.000000     0.000000     0.000000   \n",
       "25%        1.000000     0.000000         0.000000     0.000000     0.000000   \n",
       "50%        1.000000     0.000000         0.000000     1.000000     0.000000   \n",
       "75%        1.000000     1.000000         0.000000     1.000000     1.000000   \n",
       "max        1.000000     1.000000         1.000000     1.000000     1.000000   \n",
       "\n",
       "       Public_Unknown        ...          Online_Yes  Machine_Readable_No  \\\n",
       "count     3153.000000        ...         3153.000000          3153.000000   \n",
       "mean         0.087219        ...            0.603552             0.570251   \n",
       "std          0.282200        ...            0.489237             0.495119   \n",
       "min          0.000000        ...            0.000000             0.000000   \n",
       "25%          0.000000        ...            0.000000             0.000000   \n",
       "50%          0.000000        ...            1.000000             1.000000   \n",
       "75%          0.000000        ...            1.000000             1.000000   \n",
       "max          1.000000        ...            1.000000             1.000000   \n",
       "\n",
       "       Machine_Readable_Unknown  Machine_Readable_Yes  Downloadable_No  \\\n",
       "count               3153.000000           3153.000000      3153.000000   \n",
       "mean                   0.137012              0.292737         0.596892   \n",
       "std                    0.343915              0.455091         0.490600   \n",
       "min                    0.000000              0.000000         0.000000   \n",
       "25%                    0.000000              0.000000         0.000000   \n",
       "50%                    0.000000              0.000000         1.000000   \n",
       "75%                    0.000000              1.000000         1.000000   \n",
       "max                    1.000000              1.000000         1.000000   \n",
       "\n",
       "       Downloadable_Unknown  Downloadable_Yes  Open_License_No  \\\n",
       "count           3153.000000       3153.000000      3153.000000   \n",
       "mean               0.131621          0.271487         0.678084   \n",
       "std                0.338132          0.444797         0.467285   \n",
       "min                0.000000          0.000000         0.000000   \n",
       "25%                0.000000          0.000000         0.000000   \n",
       "50%                0.000000          0.000000         1.000000   \n",
       "75%                0.000000          1.000000         1.000000   \n",
       "max                1.000000          1.000000         1.000000   \n",
       "\n",
       "       Open_License_Unknown  Open_License_Yes  \n",
       "count           3153.000000       3153.000000  \n",
       "mean               0.176023          0.145893  \n",
       "std                0.380900          0.353055  \n",
       "min                0.000000          0.000000  \n",
       "25%                0.000000          0.000000  \n",
       "50%                0.000000          0.000000  \n",
       "75%                0.000000          0.000000  \n",
       "max                1.000000          1.000000  \n",
       "\n",
       "[8 rows x 29 columns]"
      ]
     },
     "execution_count": 39,
     "metadata": {},
     "output_type": "execute_result"
    }
   ],
   "source": [
    "data.describe()"
   ]
  },
  {
   "cell_type": "markdown",
   "metadata": {},
   "source": [
    "## X и y"
   ]
  },
  {
   "cell_type": "code",
   "execution_count": 40,
   "metadata": {
    "collapsed": true
   },
   "outputs": [],
   "source": [
    "X = data\n",
    "feature_names = X.columns"
   ]
  },
  {
   "cell_type": "code",
   "execution_count": 41,
   "metadata": {},
   "outputs": [
    {
     "data": {
      "text/plain": [
       "count                    3153\n",
       "unique                     14\n",
       "top       National Boundaries\n",
       "freq                      279\n",
       "Name: Category, dtype: object"
      ]
     },
     "execution_count": 41,
     "metadata": {},
     "output_type": "execute_result"
    }
   ],
   "source": [
    "y.describe()"
   ]
  },
  {
   "cell_type": "code",
   "execution_count": 42,
   "metadata": {},
   "outputs": [
    {
     "data": {
      "text/plain": [
       "pandas.core.indexes.base.Index"
      ]
     },
     "execution_count": 42,
     "metadata": {},
     "output_type": "execute_result"
    }
   ],
   "source": [
    "type(feature_names)"
   ]
  },
  {
   "cell_type": "code",
   "execution_count": 43,
   "metadata": {},
   "outputs": [
    {
     "data": {
      "text/plain": [
       "Index(['Rank', 'Score', 'Existent_No', 'Existent_Unknown', 'Existent_Yes',\n",
       "       'Current_No', 'Current_Unknown', 'Current_Yes', 'Public_No',\n",
       "       'Public_Unknown', 'Public_Yes', 'Free_No', 'Free_Unknown', 'Free_Yes',\n",
       "       'Digital_No', 'Digital_Unknown', 'Digital_Yes', 'Online_No',\n",
       "       'Online_Unknown', 'Online_Yes', 'Machine_Readable_No',\n",
       "       'Machine_Readable_Unknown', 'Machine_Readable_Yes', 'Downloadable_No',\n",
       "       'Downloadable_Unknown', 'Downloadable_Yes', 'Open_License_No',\n",
       "       'Open_License_Unknown', 'Open_License_Yes', 'Open Data'],\n",
       "      dtype='object')"
      ]
     },
     "execution_count": 43,
     "metadata": {},
     "output_type": "execute_result"
    }
   ],
   "source": [
    "feature_names"
   ]
  },
  {
   "cell_type": "code",
   "execution_count": 44,
   "metadata": {},
   "outputs": [
    {
     "name": "stdout",
     "output_type": "stream",
     "text": [
      "(3153, 30)\n",
      "(3153,)\n"
     ]
    }
   ],
   "source": [
    "print(X.shape)\n",
    "print(y.shape)\n",
    "N, d = X.shape"
   ]
  },
  {
   "cell_type": "code",
   "execution_count": 45,
   "metadata": {},
   "outputs": [
    {
     "data": {
      "text/plain": [
       "pandas.core.series.Series"
      ]
     },
     "execution_count": 45,
     "metadata": {},
     "output_type": "execute_result"
    }
   ],
   "source": [
    "type(y)"
   ]
  },
  {
   "cell_type": "code",
   "execution_count": 46,
   "metadata": {},
   "outputs": [
    {
     "name": "stdout",
     "output_type": "stream",
     "text": [
      "2207 946\n"
     ]
    }
   ],
   "source": [
    "from sklearn.model_selection import train_test_split\n",
    "X_train, X_test, y_train, y_test = train_test_split(X, y, test_size = 0.3, random_state = 1)\n",
    "\n",
    "N_train, _ = X_train.shape \n",
    "N_test,  _ = X_test.shape \n",
    "\n",
    "print(N_train, N_test)"
   ]
  },
  {
   "cell_type": "markdown",
   "metadata": {},
   "source": [
    "## $k$NN"
   ]
  },
  {
   "cell_type": "code",
   "execution_count": 47,
   "metadata": {},
   "outputs": [
    {
     "data": {
      "text/plain": [
       "KNeighborsClassifier(algorithm='auto', leaf_size=30, metric='minkowski',\n",
       "           metric_params=None, n_jobs=1, n_neighbors=10, p=2,\n",
       "           weights='uniform')"
      ]
     },
     "execution_count": 47,
     "metadata": {},
     "output_type": "execute_result"
    }
   ],
   "source": [
    "from sklearn.neighbors import KNeighborsClassifier\n",
    "\n",
    "knn = KNeighborsClassifier(n_neighbors = 10)\n",
    "knn.fit(X_train, y_train)"
   ]
  },
  {
   "cell_type": "code",
   "execution_count": 48,
   "metadata": {},
   "outputs": [
    {
     "data": {
      "text/plain": [
       "KNeighborsClassifier(algorithm='auto', leaf_size=30, metric='minkowski',\n",
       "           metric_params=None, n_jobs=1, n_neighbors=10, p=2,\n",
       "           weights='uniform')"
      ]
     },
     "execution_count": 48,
     "metadata": {},
     "output_type": "execute_result"
    }
   ],
   "source": [
    "knn"
   ]
  },
  {
   "cell_type": "code",
   "execution_count": 49,
   "metadata": {},
   "outputs": [
    {
     "name": "stdout",
     "output_type": "stream",
     "text": [
      "0.381513366561 0.482029598309\n"
     ]
    }
   ],
   "source": [
    "y_train_predict = knn.predict(X_train)\n",
    "y_test_predict = knn.predict(X_test)\n",
    "\n",
    "err_train = np.mean(y_train != y_train_predict)\n",
    "err_test  = np.mean(y_test  != y_test_predict)\n",
    "\n",
    "print(err_train, err_test)"
   ]
  },
  {
   "cell_type": "code",
   "execution_count": 50,
   "metadata": {
    "collapsed": true
   },
   "outputs": [],
   "source": [
    "err_test = 1 - knn.score(X_test, y_test) # Альтернатиный метод подсчёта ошибки"
   ]
  },
  {
   "cell_type": "code",
   "execution_count": 51,
   "metadata": {},
   "outputs": [
    {
     "data": {
      "text/plain": [
       "0.48202959830866809"
      ]
     },
     "execution_count": 51,
     "metadata": {},
     "output_type": "execute_result"
    }
   ],
   "source": [
    "err_test"
   ]
  },
  {
   "cell_type": "markdown",
   "metadata": {},
   "source": [
    "Как видим, kNN на этом наборе данных имеет достаточно большую ошибку."
   ]
  },
  {
   "cell_type": "code",
   "execution_count": 52,
   "metadata": {},
   "outputs": [
    {
     "name": "stdout",
     "output_type": "stream",
     "text": [
      "[[38  5  1  3  0  3  1  7  7  8  2  1  4  0]\n",
      " [13 35  1  5  0  0  8  1  7  7  0  1  0  1]\n",
      " [ 0  2 56 20  1  0  0  3  2  1  4  0  1  0]\n",
      " [ 2  0 10 51  0  3  1  0  0  2 10  0  0  0]\n",
      " [ 1  4  0  2 66  0  1  0  1  0  0  1  0  0]\n",
      " [ 1  0  4  7  0 21  0  0  0  0  3  0  0  0]\n",
      " [ 3  7  0  2  1  0 18  0  6  2  0  0  1  0]\n",
      " [ 6  8  7 10  0  0  0 48  0 10  3  1  0  1]\n",
      " [ 9  5  2 13  5  0  2  0 32  3  0 13  2  0]\n",
      " [11  7  1 14  0  2  3  4  6 28  1  0  0  0]\n",
      " [ 2  0  8 32  0  4  0  1  1  5 39  0  1  0]\n",
      " [ 4  5  0  1  0  0  1  1  6  7  0 17  1  0]\n",
      " [ 4  1  1  1  0  0  1  2  5  0  0  0 16  0]\n",
      " [ 2  0  1  4  0  0  1  5  1  3  0  0  0 25]]\n"
     ]
    }
   ],
   "source": [
    "from sklearn.metrics import confusion_matrix\n",
    "\n",
    "print(confusion_matrix(y_test, y_test_predict))"
   ]
  },
  {
   "cell_type": "markdown",
   "metadata": {},
   "source": [
    "## Подбор параметров"
   ]
  },
  {
   "cell_type": "markdown",
   "metadata": {},
   "source": [
    "Найдем такое значение параметра k, при котором значение ошибки будет минимальным:"
   ]
  },
  {
   "cell_type": "code",
   "execution_count": 53,
   "metadata": {},
   "outputs": [
    {
     "name": "stdout",
     "output_type": "stream",
     "text": [
      "0.340734028092 1\n"
     ]
    }
   ],
   "source": [
    "from sklearn.model_selection import GridSearchCV\n",
    "nnb = [1, 3, 5, 10, 15, 20, 25, 35, 45, 55]\n",
    "knn = KNeighborsClassifier()\n",
    "grid = GridSearchCV(knn, param_grid = {'n_neighbors': nnb}, cv=10)\n",
    "grid.fit(X_train, y_train)\n",
    "\n",
    "best_cv_err = 1 - grid.best_score_\n",
    "best_n_neighbors = grid.best_estimator_.n_neighbors\n",
    "print(best_cv_err, best_n_neighbors)"
   ]
  },
  {
   "cell_type": "markdown",
   "metadata": {},
   "source": [
    "Осуществим классификацию при k=1 и вычислим значение ошибки еще ра"
   ]
  },
  {
   "cell_type": "code",
   "execution_count": 54,
   "metadata": {},
   "outputs": [
    {
     "name": "stdout",
     "output_type": "stream",
     "text": [
      "0.155867693702 0.376321353066\n"
     ]
    }
   ],
   "source": [
    "knn = KNeighborsClassifier(n_neighbors = best_n_neighbors).fit(X_train, y_train)\n",
    "\n",
    "err_train = np.mean(y_train != knn.predict(X_train))\n",
    "err_test  = np.mean(y_test  != knn.predict(X_test))\n",
    "\n",
    "print(err_train, err_test)"
   ]
  },
  {
   "cell_type": "markdown",
   "metadata": {
    "collapsed": true
   },
   "source": [
    "# Multi-layer perceptron (MLP) "
   ]
  },
  {
   "cell_type": "markdown",
   "metadata": {
    "collapsed": true
   },
   "source": [
    "Решим задачу классификации (определение категории открытых данных) при помощи нейронных сетей. Разобъем данные на тестовую и обучающую выборки:"
   ]
  },
  {
   "cell_type": "code",
   "execution_count": 55,
   "metadata": {
    "collapsed": true
   },
   "outputs": [],
   "source": [
    "from sklearn.model_selection import train_test_split\n",
    "X_train, X_test, y_train, y_test = train_test_split(X, y, test_size = 0.33, random_state = 5)\n",
    "N_test, _ = X_test.shape"
   ]
  },
  {
   "cell_type": "markdown",
   "metadata": {},
   "source": [
    "Проведем обучение однослойной сети с количеством нейронов равным 10:"
   ]
  },
  {
   "cell_type": "code",
   "execution_count": 56,
   "metadata": {},
   "outputs": [
    {
     "data": {
      "text/plain": [
       "MLPClassifier(activation='logistic', alpha=0.0001, batch_size='auto',\n",
       "       beta_1=0.9, beta_2=0.999, early_stopping=False, epsilon=1e-08,\n",
       "       hidden_layer_sizes=10, learning_rate='constant',\n",
       "       learning_rate_init=0.001, max_iter=200, momentum=0.9,\n",
       "       nesterovs_momentum=True, power_t=0.5, random_state=5, shuffle=True,\n",
       "       solver='lbfgs', tol=0.0001, validation_fraction=0.1, verbose=False,\n",
       "       warm_start=False)"
      ]
     },
     "execution_count": 56,
     "metadata": {},
     "output_type": "execute_result"
    }
   ],
   "source": [
    "from sklearn.neural_network import MLPClassifier\n",
    "mlp_model = MLPClassifier(hidden_layer_sizes = (10), solver = 'lbfgs', activation = 'logistic', random_state = 5)\n",
    "mlp_model.fit(X_train, y_train)"
   ]
  },
  {
   "cell_type": "code",
   "execution_count": 57,
   "metadata": {},
   "outputs": [
    {
     "name": "stdout",
     "output_type": "stream",
     "text": [
      "Ошибка на обучающей выборке и на тестовой выборке :  0.472537878788 0.555235350624\n"
     ]
    }
   ],
   "source": [
    "y_train_pred = mlp_model.predict(X_train)\n",
    "y_test_pred = mlp_model.predict(X_test)\n",
    "print(\"Ошибка на обучающей выборке и на тестовой выборке : \", np.mean(y_train != y_train_pred), np.mean(y_test != y_test_pred))"
   ]
  },
  {
   "cell_type": "markdown",
   "metadata": {},
   "source": [
    "Наблюдается переобучение, т.к. ошибка на тестовой выборке выше, чем на обучающей. Попробуем увеличить количество нейронов на скрытом слое:"
   ]
  },
  {
   "cell_type": "code",
   "execution_count": 58,
   "metadata": {},
   "outputs": [
    {
     "data": {
      "text/plain": [
       "MLPClassifier(activation='logistic', alpha=0.0001, batch_size='auto',\n",
       "       beta_1=0.9, beta_2=0.999, early_stopping=False, epsilon=1e-08,\n",
       "       hidden_layer_sizes=100, learning_rate='constant',\n",
       "       learning_rate_init=0.001, max_iter=200, momentum=0.9,\n",
       "       nesterovs_momentum=True, power_t=0.5, random_state=5, shuffle=True,\n",
       "       solver='lbfgs', tol=0.0001, validation_fraction=0.1, verbose=False,\n",
       "       warm_start=False)"
      ]
     },
     "execution_count": 58,
     "metadata": {},
     "output_type": "execute_result"
    }
   ],
   "source": [
    "from sklearn.neural_network import MLPClassifier\n",
    "mlp_model = MLPClassifier(hidden_layer_sizes = (100), solver = 'lbfgs', activation = 'logistic', random_state = 5)\n",
    "mlp_model.fit(X_train, y_train)"
   ]
  },
  {
   "cell_type": "code",
   "execution_count": 59,
   "metadata": {},
   "outputs": [
    {
     "name": "stdout",
     "output_type": "stream",
     "text": [
      "Ошибка на обучающей выборке и на тестовой выборке :  0.291193181818 0.442843419789\n"
     ]
    }
   ],
   "source": [
    "y_train_pred = mlp_model.predict(X_train)\n",
    "y_test_pred = mlp_model.predict(X_test)\n",
    "print(\"Ошибка на обучающей выборке и на тестовой выборке : \", np.mean(y_train != y_train_pred), np.mean(y_test != y_test_pred))"
   ]
  },
  {
   "cell_type": "markdown",
   "metadata": {},
   "source": [
    "Заметим, что изменении количества нейронов не удалось избавиться от переобучения, однако значение ошибки значительно уменьшилось. Найдем оптимальной количество нейрнов для однослойной сети:"
   ]
  },
  {
   "cell_type": "code",
   "execution_count": 60,
   "metadata": {
    "collapsed": true
   },
   "outputs": [],
   "source": [
    "neurons_arr = (1, 2, 10, 20, 30, 50, 100, 150, 200)\n",
    "test_err = []\n",
    "train_err = []\n",
    "for neuron in neurons_arr:\n",
    "    mlp_model = MLPClassifier( hidden_layer_sizes = (neuron), \n",
    "                              solver = 'lbfgs', activation = 'logistic', random_state = 5)\n",
    "    mlp_model.fit(X_train, y_train)\n",
    "\n",
    "    y_train_pred = mlp_model.predict(X_train)\n",
    "    y_test_pred = mlp_model.predict(X_test)\n",
    "    train_err.append(np.mean(y_train != y_train_pred))\n",
    "    test_err.append(np.mean(y_test != y_test_pred))"
   ]
  },
  {
   "cell_type": "code",
   "execution_count": 61,
   "metadata": {},
   "outputs": [
    {
     "data": {
      "image/png": "[encoded data removed]",
      "text/plain": [
       "<matplotlib.figure.Figure at 0x252a2492898>"
      ]
     },
     "metadata": {},
     "output_type": "display_data"
    }
   ],
   "source": [
    "plt.semilogx(neurons_arr, test_err, 'b-o', label = 'test')\n",
    "plt.semilogx(neurons_arr, train_err, 'r-o', label = 'train')\n",
    "plt.xlim([np.min(neurons_arr), np.max(neurons_arr)])\n",
    "plt.title('Error vs neuron count')\n",
    "plt.xlabel('neuron ')\n",
    "plt.ylabel('error')\n",
    "plt.legend()\n",
    "pass"
   ]
  },
  {
   "cell_type": "markdown",
   "metadata": {},
   "source": [
    "Отсюда можно сделать вывод, что необходимый минимум при использовании однослойной сети достигается при количестве нейронов, равному 100. Проследим за изменениями при использовании двуслойной сети с различным количеством нейронов:"
   ]
  },
  {
   "cell_type": "code",
   "execution_count": 62,
   "metadata": {},
   "outputs": [
    {
     "data": {
      "text/plain": [
       "MLPClassifier(activation='logistic', alpha=0.0001, batch_size='auto',\n",
       "       beta_1=0.9, beta_2=0.999, early_stopping=False, epsilon=1e-08,\n",
       "       hidden_layer_sizes=(100, 10), learning_rate='constant',\n",
       "       learning_rate_init=0.001, max_iter=200, momentum=0.9,\n",
       "       nesterovs_momentum=True, power_t=0.5, random_state=5, shuffle=True,\n",
       "       solver='lbfgs', tol=0.0001, validation_fraction=0.1, verbose=False,\n",
       "       warm_start=False)"
      ]
     },
     "execution_count": 62,
     "metadata": {},
     "output_type": "execute_result"
    }
   ],
   "source": [
    "from sklearn.neural_network import MLPClassifier\n",
    "mlp_model = MLPClassifier(hidden_layer_sizes = (100, 10), solver = 'lbfgs', activation = 'logistic', random_state = 5)\n",
    "mlp_model.fit(X_train, y_train)"
   ]
  },
  {
   "cell_type": "code",
   "execution_count": 63,
   "metadata": {},
   "outputs": [
    {
     "name": "stdout",
     "output_type": "stream",
     "text": [
      "Ошибка на обучающей выборке и на тестовой выборке :  0.583806818182 0.651296829971\n"
     ]
    }
   ],
   "source": [
    "y_train_pred = mlp_model.predict(X_train)\n",
    "y_test_pred = mlp_model.predict(X_test)\n",
    "print(\"Ошибка на обучающей выборке и на тестовой выборке : \", np.mean(y_train != y_train_pred), np.mean(y_test != y_test_pred))"
   ]
  },
  {
   "cell_type": "code",
   "execution_count": 64,
   "metadata": {},
   "outputs": [
    {
     "data": {
      "text/plain": [
       "MLPClassifier(activation='logistic', alpha=0.0001, batch_size='auto',\n",
       "       beta_1=0.9, beta_2=0.999, early_stopping=False, epsilon=1e-08,\n",
       "       hidden_layer_sizes=(100, 100), learning_rate='constant',\n",
       "       learning_rate_init=0.001, max_iter=200, momentum=0.9,\n",
       "       nesterovs_momentum=True, power_t=0.5, random_state=5, shuffle=True,\n",
       "       solver='lbfgs', tol=0.0001, validation_fraction=0.1, verbose=False,\n",
       "       warm_start=False)"
      ]
     },
     "execution_count": 64,
     "metadata": {},
     "output_type": "execute_result"
    }
   ],
   "source": [
    "from sklearn.neural_network import MLPClassifier\n",
    "mlp_model = MLPClassifier(hidden_layer_sizes = (100, 100), solver = 'lbfgs', activation = 'logistic', random_state = 5)\n",
    "mlp_model.fit(X_train, y_train)"
   ]
  },
  {
   "cell_type": "code",
   "execution_count": 65,
   "metadata": {},
   "outputs": [
    {
     "name": "stdout",
     "output_type": "stream",
     "text": [
      "Ошибка на обучающей выборке и на тестовой выборке :  0.225852272727 0.356388088377\n"
     ]
    }
   ],
   "source": [
    "y_train_pred = mlp_model.predict(X_train)\n",
    "y_test_pred = mlp_model.predict(X_test)\n",
    "print(\"Ошибка на обучающей выборке и на тестовой выборке : \", np.mean(y_train != y_train_pred), np.mean(y_test != y_test_pred))"
   ]
  },
  {
   "cell_type": "markdown",
   "metadata": {},
   "source": [
    "Переобучение по прежнему наблюдается. Найдем оптимальной количество нейрнов для двухслойной сети: "
   ]
  },
  {
   "cell_type": "code",
   "execution_count": 66,
   "metadata": {
    "collapsed": true
   },
   "outputs": [],
   "source": [
    "neurons_arr = (1, 2, 10, 20, 30, 50, 100, 150, 200)\n",
    "test_err = []\n",
    "train_err = []\n",
    "for neuron in neurons_arr:\n",
    "    mlp_model = MLPClassifier( hidden_layer_sizes = (100, neuron), \n",
    "                              solver = 'lbfgs', activation = 'logistic', random_state = 5)\n",
    "    mlp_model.fit(X_train, y_train)\n",
    "\n",
    "    y_train_pred = mlp_model.predict(X_train)\n",
    "    y_test_pred = mlp_model.predict(X_test)\n",
    "    train_err.append(np.mean(y_train != y_train_pred))\n",
    "    test_err.append(np.mean(y_test != y_test_pred))"
   ]
  },
  {
   "cell_type": "code",
   "execution_count": 67,
   "metadata": {},
   "outputs": [
    {
     "data": {
      "image/png": "[encoded data removed]",
      "text/plain": [
       "<matplotlib.figure.Figure at 0x252a01b6940>"
      ]
     },
     "metadata": {},
     "output_type": "display_data"
    }
   ],
   "source": [
    "plt.semilogx(neurons_arr, test_err, 'b-o', label = 'test')\n",
    "plt.semilogx(neurons_arr, train_err, 'r-o', label = 'train')\n",
    "plt.xlim([np.min(neurons_arr), np.max(neurons_arr)])\n",
    "plt.title('Error vs neuron count')\n",
    "plt.xlabel('neuron ')\n",
    "plt.ylabel('error')\n",
    "plt.legend()\n",
    "pass"
   ]
  },
  {
   "cell_type": "markdown",
   "metadata": {},
   "source": [
    "Делаем вывод, что при использовании двухслойной сети минимум достигается при количестве нейронов, равному 100. Поэтому в дальнейшем будет использоватья двухслойную сеть по 100 нейронов в каждом слое. Стоить отметить, что недообучения так и не наблюдалось."
   ]
  },
  {
   "cell_type": "markdown",
   "metadata": {},
   "source": [
    "# Подбор гиперпараметров"
   ]
  },
  {
   "cell_type": "markdown",
   "metadata": {},
   "source": [
    "Подберем оптимальное значение параметра регуляризации alpha:"
   ]
  },
  {
   "cell_type": "code",
   "execution_count": 68,
   "metadata": {
    "collapsed": true
   },
   "outputs": [],
   "source": [
    "alpha_arr = np.logspace(-5, 5, 30)\n",
    "test_err = []\n",
    "train_err = []\n",
    "for alpha in alpha_arr:\n",
    "    mlp_model = MLPClassifier(alpha = alpha, hidden_layer_sizes = (100, 100), \n",
    "                              solver = 'lbfgs', activation = 'logistic', random_state = 5)\n",
    "    mlp_model.fit(X_train, y_train)\n",
    "\n",
    "    y_train_pred = mlp_model.predict(X_train)\n",
    "    y_test_pred = mlp_model.predict(X_test)\n",
    "    train_err.append(np.mean(y_train != y_train_pred))\n",
    "    test_err.append(np.mean(y_test != y_test_pred))"
   ]
  },
  {
   "cell_type": "code",
   "execution_count": 69,
   "metadata": {},
   "outputs": [
    {
     "data": {
      "image/png": "[encoded data removed]",
      "text/plain": [
       "<matplotlib.figure.Figure at 0x252a0a77710>"
      ]
     },
     "metadata": {},
     "output_type": "display_data"
    }
   ],
   "source": [
    "plt.semilogx(alpha_arr, test_err, 'b-o', label = 'test')\n",
    "plt.semilogx(alpha_arr, train_err, 'r-o', label = 'train')\n",
    "plt.xlim([np.max(alpha_arr), np.min(alpha_arr)])\n",
    "plt.title('Error vs. alpha')\n",
    "plt.xlabel('alpha')\n",
    "plt.ylabel('error')\n",
    "plt.legend()\n",
    "pass"
   ]
  },
  {
   "cell_type": "markdown",
   "metadata": {},
   "source": [
    "Минимальное значение ошибки:"
   ]
  },
  {
   "cell_type": "code",
   "execution_count": 70,
   "metadata": {},
   "outputs": [
    {
     "name": "stdout",
     "output_type": "stream",
     "text": [
      "0.215435606061 0.347742555235\n"
     ]
    }
   ],
   "source": [
    "min_train_err = np.min(train_err)\n",
    "min_test_err = np.min(test_err)\n",
    "print(min_train_err, min_test_err)"
   ]
  },
  {
   "cell_type": "markdown",
   "metadata": {},
   "source": [
    "Найдем оптимальное значение alpha:"
   ]
  },
  {
   "cell_type": "code",
   "execution_count": 71,
   "metadata": {},
   "outputs": [
    {
     "name": "stdout",
     "output_type": "stream",
     "text": [
      "0.00117210229753\n"
     ]
    }
   ],
   "source": [
    "alpha_opt = alpha_arr[test_err == min_test_err]\n",
    "alpha_opt = alpha_opt[0]\n",
    "print(alpha_opt)"
   ]
  },
  {
   "cell_type": "markdown",
   "metadata": {},
   "source": [
    "# Классификатор при найденном оптимальном значении alpha: "
   ]
  },
  {
   "cell_type": "code",
   "execution_count": 72,
   "metadata": {},
   "outputs": [
    {
     "name": "stdout",
     "output_type": "stream",
     "text": [
      "0.217329545455\n",
      "0.347742555235\n"
     ]
    }
   ],
   "source": [
    "mlp_model = MLPClassifier(alpha = alpha_opt, hidden_layer_sizes = (100, 100),\n",
    "                          solver = 'lbfgs', activation = 'logistic', random_state = 5)\n",
    "mlp_model.fit(X_train, y_train)\n",
    "\n",
    "y_train_pred = mlp_model.predict(X_train)\n",
    "y_test_pred = mlp_model.predict(X_test)\n",
    "print(np.mean(y_train != y_train_pred))\n",
    "print(np.mean(y_test != y_test_pred))"
   ]
  },
  {
   "cell_type": "markdown",
   "metadata": {},
   "source": [
    "Значение ошибки на обучающей и тренировочной выборке уменьшилось."
   ]
  },
  {
   "cell_type": "markdown",
   "metadata": {},
   "source": [
    "Найдем матрицу рассогласования:"
   ]
  },
  {
   "cell_type": "code",
   "execution_count": 73,
   "metadata": {},
   "outputs": [
    {
     "name": "stdout",
     "output_type": "stream",
     "text": [
      "[[60  5  2  1  0  0  0  5  0  5  0  3  0  1]\n",
      " [ 6 62  0  0  4  0  1 13  6  4  2  4  0  1]\n",
      " [ 7  7 77 20  0  9  0  9  8 16 19  2  0  2]\n",
      " [ 0  0  6 39  0  0  0  2  0  3  8  0  0  2]\n",
      " [ 0  1  0  0 81  0  2  0  0  0  0  2  2  0]\n",
      " [ 1  0  2  7  0 31  0  2  0  3  1  0  0  0]\n",
      " [ 0  2  2  0  3  0 29  0  0  0  0  1  0  0]\n",
      " [11  2  2 11  0  0  0 60  0  2  3  4  0  3]\n",
      " [ 2  7  0  0  0  0  3  2 74  5  0 15  1  0]\n",
      " [ 4  5  0  0  0  3  2  3  4 33  1  7  0  1]\n",
      " [ 0  0  4  3  0  0  0  2  0  1 56  0  0  0]\n",
      " [ 2  4  1  0  2  0  3  0  0  4  0 17  1  0]\n",
      " [ 0  2  0  0  3  0  0  0  7  0  0  1 30  0]\n",
      " [ 1  0  0  0  0  0  0  1  0  3  0  0  0 30]]\n"
     ]
    }
   ],
   "source": [
    "from sklearn.metrics import confusion_matrix\n",
    "print(confusion_matrix(y_test_pred, y_test))"
   ]
  },
  {
   "cell_type": "code",
   "execution_count": 74,
   "metadata": {},
   "outputs": [
    {
     "data": {
      "image/png": "[encoded data removed]",
      "text/plain": [
       "<matplotlib.figure.Figure at 0x252a0158400>"
      ]
     },
     "metadata": {},
     "output_type": "display_data"
    }
   ],
   "source": [
    "M = confusion_matrix(y_test_pred, y_test)\n",
    "M = np.sqrt(M)\n",
    "plt.figure(figsize = (5, 5))\n",
    "plt.imshow(M, interpolation = 'nearest')\n",
    "plt.set_cmap('binary')\n",
    "plt.xticks(range(5))\n",
    "plt.yticks(range(5))\n",
    "plt.xlabel(\"true label\")\n",
    "plt.ylabel(\"predicted label\")\n",
    "plt.colorbar()\n",
    "pass"
   ]
  },
  {
   "cell_type": "markdown",
   "metadata": {
    "collapsed": true
   },
   "source": [
    "# Random forests"
   ]
  },
  {
   "cell_type": "markdown",
   "metadata": {},
   "source": [
    "Решим задачу классификации (определение категории открытых данных) с помощью Random Forest."
   ]
  },
  {
   "cell_type": "markdown",
   "metadata": {},
   "source": [
    "Разобъем данные на тестовую и обучающую выборки:"
   ]
  },
  {
   "cell_type": "code",
   "execution_count": 75,
   "metadata": {
    "collapsed": true
   },
   "outputs": [],
   "source": [
    "X_train, X_test, y_train, y_test = train_test_split(X, y, test_size = 0.33, random_state = 5)"
   ]
  },
  {
   "cell_type": "markdown",
   "metadata": {},
   "source": [
    "Обучаем классификатор вида Random Forest. Число деревьев = 100:"
   ]
  },
  {
   "cell_type": "code",
   "execution_count": 76,
   "metadata": {},
   "outputs": [
    {
     "data": {
      "text/plain": [
       "RandomForestClassifier(bootstrap=True, class_weight=None, criterion='gini',\n",
       "            max_depth=None, max_features='auto', max_leaf_nodes=None,\n",
       "            min_impurity_decrease=0.0, min_impurity_split=None,\n",
       "            min_samples_leaf=1, min_samples_split=2,\n",
       "            min_weight_fraction_leaf=0.0, n_estimators=100, n_jobs=1,\n",
       "            oob_score=False, random_state=None, verbose=0,\n",
       "            warm_start=False)"
      ]
     },
     "execution_count": 76,
     "metadata": {},
     "output_type": "execute_result"
    }
   ],
   "source": [
    "from sklearn import ensemble\n",
    "rf = ensemble.RandomForestClassifier(n_estimators = 100)\n",
    "rf.fit(X_train, y_train)"
   ]
  },
  {
   "cell_type": "markdown",
   "metadata": {},
   "source": [
    "Проверим качество классификатора по величине ошибки на тестовой и обучающей выборках:"
   ]
  },
  {
   "cell_type": "code",
   "execution_count": 77,
   "metadata": {},
   "outputs": [
    {
     "name": "stdout",
     "output_type": "stream",
     "text": [
      "0.139678030303 0.328530259366\n"
     ]
    }
   ],
   "source": [
    "err_train = np.mean(y_train != rf.predict(X_train))\n",
    "err_test  = np.mean(y_test  != rf.predict(X_test))\n",
    "\n",
    "print(err_train, err_test)"
   ]
  },
  {
   "cell_type": "markdown",
   "metadata": {},
   "source": [
    "Наблюдается ситуация переобучения, т.к. ошибка на тестовой выборке оказалась выше, чем на обучающей. "
   ]
  },
  {
   "cell_type": "markdown",
   "metadata": {},
   "source": [
    "Построим график зависимости ошибки (на обучающей и тестовой выборке, oob) от количества используемых деревьев:"
   ]
  },
  {
   "cell_type": "code",
   "execution_count": 78,
   "metadata": {},
   "outputs": [
    {
     "data": {
      "image/png": "[encoded data removed]",
      "text/plain": [
       "<matplotlib.figure.Figure at 0x252a0131e80>"
      ]
     },
     "metadata": {},
     "output_type": "display_data"
    }
   ],
   "source": [
    "trees_arr = np.arange(25, 126, 5)\n",
    "test_err = []\n",
    "train_err = []\n",
    "oob_err = []\n",
    "for trees in trees_arr:\n",
    "    rf = ensemble.RandomForestClassifier(n_estimators = trees, oob_score=True)\n",
    "    rf.fit(X_train, y_train)\n",
    "    train_err.append(np.mean(y_train != rf.predict(X_train)))\n",
    "    test_err.append(np.mean(y_test  != rf.predict(X_test)))\n",
    "    oob_err.append(1 - rf.oob_score_)\n",
    "\n",
    "plt.plot(trees_arr, train_err, 'b-o', label = 'train')\n",
    "plt.plot(trees_arr, test_err, 'r-o', label = 'test')\n",
    "plt.plot(trees_arr, oob_err, 'g-o', label = 'oob')\n",
    "plt.xlim([np.max(trees_arr), np.min(trees_arr)])\n",
    "plt.title('Error vs. number of trees')\n",
    "plt.xlabel('trees')\n",
    "plt.ylabel('error')\n",
    "plt.legend()\n",
    "pass"
   ]
  },
  {
   "cell_type": "markdown",
   "metadata": {},
   "source": [
    "Переобучение наблюдается на всем экспериментальном множестве количества деревьев."
   ]
  },
  {
   "cell_type": "markdown",
   "metadata": {},
   "source": [
    "Минимальное значение ошибки:"
   ]
  },
  {
   "cell_type": "code",
   "execution_count": 79,
   "metadata": {},
   "outputs": [
    {
     "name": "stdout",
     "output_type": "stream",
     "text": [
      "0.139678030303 0.320845341018\n"
     ]
    }
   ],
   "source": [
    "min_train_err = np.min(train_err)\n",
    "min_test_err = np.min(test_err)\n",
    "print(min_train_err, min_test_err)"
   ]
  },
  {
   "cell_type": "markdown",
   "metadata": {},
   "source": [
    "Оптимальное количество деревьев:"
   ]
  },
  {
   "cell_type": "code",
   "execution_count": 81,
   "metadata": {},
   "outputs": [
    {
     "name": "stdout",
     "output_type": "stream",
     "text": [
      "115\n"
     ]
    }
   ],
   "source": [
    "trees_opt = trees_arr[test_err == min_test_err]\n",
    "trees_opt = trees_opt[0]\n",
    "print(trees_opt)"
   ]
  },
  {
   "cell_type": "markdown",
   "metadata": {},
   "source": [
    "# Extremely Randomized Trees"
   ]
  },
  {
   "cell_type": "markdown",
   "metadata": {},
   "source": [
    "Решим задачу классификации (определение категории открытых данных) с помощью Extremely Randomized Trees."
   ]
  },
  {
   "cell_type": "markdown",
   "metadata": {},
   "source": [
    "Разобъем данные на тестовую и обучающую выборки:"
   ]
  },
  {
   "cell_type": "code",
   "execution_count": 82,
   "metadata": {
    "collapsed": true
   },
   "outputs": [],
   "source": [
    "X_train, X_test, y_train, y_test = train_test_split(X, y, test_size = 0.33, random_state = 5)"
   ]
  },
  {
   "cell_type": "markdown",
   "metadata": {},
   "source": [
    "Обучаем классификатор вида Extremely Randomized Trees. Число деревьев = 100:"
   ]
  },
  {
   "cell_type": "code",
   "execution_count": 83,
   "metadata": {},
   "outputs": [
    {
     "data": {
      "text/plain": [
       "ExtraTreesClassifier(bootstrap=False, class_weight=None, criterion='gini',\n",
       "           max_depth=None, max_features='auto', max_leaf_nodes=None,\n",
       "           min_impurity_decrease=0.0, min_impurity_split=None,\n",
       "           min_samples_leaf=1, min_samples_split=2,\n",
       "           min_weight_fraction_leaf=0.0, n_estimators=100, n_jobs=1,\n",
       "           oob_score=False, random_state=None, verbose=0, warm_start=False)"
      ]
     },
     "execution_count": 83,
     "metadata": {},
     "output_type": "execute_result"
    }
   ],
   "source": [
    "ert = ensemble.ExtraTreesClassifier(n_estimators = 100)\n",
    "ert.fit(X_train, y_train)"
   ]
  },
  {
   "cell_type": "markdown",
   "metadata": {},
   "source": [
    "Проверим качество классификатора по величине ошибки на тестовой и обучающей выборках:"
   ]
  },
  {
   "cell_type": "code",
   "execution_count": 84,
   "metadata": {},
   "outputs": [
    {
     "name": "stdout",
     "output_type": "stream",
     "text": [
      "0.139678030303 0.326609029779\n"
     ]
    }
   ],
   "source": [
    "err_train = np.mean(y_train != ert.predict(X_train))\n",
    "err_test  = np.mean(y_test  != ert.predict(X_test))\n",
    "\n",
    "print(err_train, err_test)"
   ]
  },
  {
   "cell_type": "markdown",
   "metadata": {},
   "source": [
    "Наблюдается ситуация переобучения, т.к. ошибка на тестовой выборке оказалась выше, чем на обучающей."
   ]
  },
  {
   "cell_type": "markdown",
   "metadata": {},
   "source": [
    "Построим график зависимости ошибки (на обучающей и тестовой выборке, oob) от количества используемых деревьев:"
   ]
  },
  {
   "cell_type": "code",
   "execution_count": 85,
   "metadata": {},
   "outputs": [
    {
     "data": {
      "image/png": "[encoded data removed]",
      "text/plain": [
       "<matplotlib.figure.Figure at 0x252a3a70048>"
      ]
     },
     "metadata": {},
     "output_type": "display_data"
    }
   ],
   "source": [
    "trees_arr = np.arange(25, 126, 5)\n",
    "test_err = []\n",
    "train_err = []\n",
    "oob_err = []\n",
    "for trees in trees_arr:\n",
    "    ert = ensemble.ExtraTreesClassifier(n_estimators = trees, oob_score=True, bootstrap=True)\n",
    "    ert.fit(X_train, y_train)\n",
    "    train_err.append(np.mean(y_train != ert.predict(X_train)))\n",
    "    test_err.append(np.mean(y_test  != ert.predict(X_test)))\n",
    "    oob_err.append(1 - ert.oob_score_)\n",
    "\n",
    "plt.plot(trees_arr, train_err, 'b-o', label = 'train')\n",
    "plt.plot(trees_arr, test_err, 'r-o', label = 'test')\n",
    "plt.plot(trees_arr, oob_err, 'g-o', label = 'oob')\n",
    "plt.xlim([np.max(trees_arr), np.min(trees_arr)])\n",
    "plt.title('Error vs. number of trees')\n",
    "plt.xlabel('trees')\n",
    "plt.ylabel('error')\n",
    "plt.legend()\n",
    "pass"
   ]
  },
  {
   "cell_type": "markdown",
   "metadata": {},
   "source": [
    "Переобучение наблюдается на всем экспериментальном множестве количества деревьев."
   ]
  },
  {
   "cell_type": "markdown",
   "metadata": {},
   "source": [
    "Минимальное значение ошибки:"
   ]
  },
  {
   "cell_type": "code",
   "execution_count": 87,
   "metadata": {},
   "outputs": [
    {
     "name": "stdout",
     "output_type": "stream",
     "text": [
      "0.139678030303 0.321805955812\n"
     ]
    }
   ],
   "source": [
    "min_train_err = np.min(train_err)\n",
    "min_test_err = np.min(test_err)\n",
    "print(min_train_err, min_test_err)"
   ]
  },
  {
   "cell_type": "markdown",
   "metadata": {},
   "source": [
    "Оптимальное количество деревьев:"
   ]
  },
  {
   "cell_type": "code",
   "execution_count": 88,
   "metadata": {},
   "outputs": [
    {
     "name": "stdout",
     "output_type": "stream",
     "text": [
      "35\n"
     ]
    }
   ],
   "source": [
    "trees_opt = trees_arr[test_err == min_test_err]\n",
    "trees_opt = trees_opt[0]\n",
    "print(trees_opt)"
   ]
  },
  {
   "cell_type": "markdown",
   "metadata": {},
   "source": [
    "# AdaBoost"
   ]
  },
  {
   "cell_type": "markdown",
   "metadata": {},
   "source": [
    "Решим задачу классификации (определение категории открытых данных) с помощью AdaBoost."
   ]
  },
  {
   "cell_type": "markdown",
   "metadata": {},
   "source": [
    "Разобъем данные на тестовую и обучающую выборки:"
   ]
  },
  {
   "cell_type": "code",
   "execution_count": 89,
   "metadata": {
    "collapsed": true
   },
   "outputs": [],
   "source": [
    "X_train, X_test, y_train, y_test = train_test_split(X, y, test_size = 0.33, random_state = 5)"
   ]
  },
  {
   "cell_type": "markdown",
   "metadata": {},
   "source": [
    "Обучаем классификатор вида AdaBoost. Число классификаторов = 100:"
   ]
  },
  {
   "cell_type": "code",
   "execution_count": 90,
   "metadata": {},
   "outputs": [
    {
     "data": {
      "text/plain": [
       "AdaBoostClassifier(algorithm='SAMME.R', base_estimator=None,\n",
       "          learning_rate=1.0, n_estimators=100, random_state=None)"
      ]
     },
     "execution_count": 90,
     "metadata": {},
     "output_type": "execute_result"
    }
   ],
   "source": [
    "ab = ensemble.AdaBoostClassifier(n_estimators = 100)\n",
    "ab.fit(X_train, y_train)"
   ]
  },
  {
   "cell_type": "markdown",
   "metadata": {},
   "source": [
    "Проверим качество классификатора по величине ошибки на тестовой и обучающей выборках:"
   ]
  },
  {
   "cell_type": "code",
   "execution_count": 91,
   "metadata": {},
   "outputs": [
    {
     "name": "stdout",
     "output_type": "stream",
     "text": [
      "0.793087121212 0.831892411143\n"
     ]
    }
   ],
   "source": [
    "err_train = np.mean(y_train != ab.predict(X_train))\n",
    "err_test  = np.mean(y_test  != ab.predict(X_test))\n",
    "\n",
    "print(err_train, err_test)"
   ]
  },
  {
   "cell_type": "markdown",
   "metadata": {},
   "source": [
    "Наблюдается ситуация переобучения, т.к. ошибка на тестовой выборке оказалась выше, чем на обучающей."
   ]
  },
  {
   "cell_type": "markdown",
   "metadata": {},
   "source": [
    "Построим график зависимости ошибки на обучающей и тестовой выборках от количества классификаторов:"
   ]
  },
  {
   "cell_type": "code",
   "execution_count": 97,
   "metadata": {},
   "outputs": [
    {
     "data": {
      "image/png": "[encoded data removed]",
      "text/plain": [
       "<matplotlib.figure.Figure at 0x252a39e6470>"
      ]
     },
     "metadata": {},
     "output_type": "display_data"
    }
   ],
   "source": [
    "estim_arr = np.arange(25, 200, 5)\n",
    "test_err = []\n",
    "train_err = []\n",
    "for estim in estim_arr:\n",
    "    ab = ensemble.AdaBoostClassifier(n_estimators = estim)\n",
    "    ab.fit(X_train, y_train)\n",
    "    train_err.append(np.mean(y_train != ab.predict(X_train)))\n",
    "    test_err.append(np.mean(y_test  != ab.predict(X_test)))\n",
    "\n",
    "plt.plot(estim_arr, train_err, 'b-o', label = 'train')\n",
    "plt.plot(estim_arr, test_err, 'r-o', label = 'test')\n",
    "plt.xlim([np.max(estim_arr), np.min(estim_arr)])\n",
    "plt.title('Error vs. number of estimators')\n",
    "plt.xlabel('estimators')\n",
    "plt.ylabel('error')\n",
    "plt.legend()\n",
    "pass"
   ]
  },
  {
   "cell_type": "markdown",
   "metadata": {},
   "source": [
    "Переобучение наблюдается на всем экспериментальном множестве количества классификаторов."
   ]
  },
  {
   "cell_type": "markdown",
   "metadata": {},
   "source": [
    "Минимальное значение ошибки:"
   ]
  },
  {
   "cell_type": "code",
   "execution_count": 98,
   "metadata": {},
   "outputs": [
    {
     "name": "stdout",
     "output_type": "stream",
     "text": [
      "0.725378787879 0.756964457253\n"
     ]
    }
   ],
   "source": [
    "min_train_err = np.min(train_err)\n",
    "min_test_err = np.min(test_err)\n",
    "print(min_train_err, min_test_err)"
   ]
  },
  {
   "cell_type": "markdown",
   "metadata": {},
   "source": [
    "Оптимальное количество классификаторов:"
   ]
  },
  {
   "cell_type": "code",
   "execution_count": 99,
   "metadata": {},
   "outputs": [
    {
     "name": "stdout",
     "output_type": "stream",
     "text": [
      "195\n"
     ]
    }
   ],
   "source": [
    "estim_opt = estim_arr[test_err == min_test_err]\n",
    "estim_opt = estim_opt[0]\n",
    "print(estim_opt)"
   ]
  },
  {
   "cell_type": "markdown",
   "metadata": {},
   "source": [
    "# Gradient Boosted Trees"
   ]
  },
  {
   "cell_type": "markdown",
   "metadata": {},
   "source": [
    "Решим задачу классификации (определение категории открытых данных) с помощью Gradient Boosted Trees."
   ]
  },
  {
   "cell_type": "markdown",
   "metadata": {},
   "source": [
    "Разобъем данные на тестовую и обучающую выборки:"
   ]
  },
  {
   "cell_type": "code",
   "execution_count": 100,
   "metadata": {
    "collapsed": true
   },
   "outputs": [],
   "source": [
    "X_train, X_test, y_train, y_test = train_test_split(X, y, test_size = 0.33, random_state = 5)"
   ]
  },
  {
   "cell_type": "markdown",
   "metadata": {},
   "source": [
    "Обучаем классификатор вида Gradient Boosted Trees. Число деревьев = 100:"
   ]
  },
  {
   "cell_type": "code",
   "execution_count": 101,
   "metadata": {},
   "outputs": [
    {
     "data": {
      "text/plain": [
       "GradientBoostingClassifier(criterion='friedman_mse', init=None,\n",
       "              learning_rate=0.1, loss='deviance', max_depth=3,\n",
       "              max_features=None, max_leaf_nodes=None,\n",
       "              min_impurity_decrease=0.0, min_impurity_split=None,\n",
       "              min_samples_leaf=1, min_samples_split=2,\n",
       "              min_weight_fraction_leaf=0.0, n_estimators=100,\n",
       "              presort='auto', random_state=None, subsample=1.0, verbose=0,\n",
       "              warm_start=False)"
      ]
     },
     "execution_count": 101,
     "metadata": {},
     "output_type": "execute_result"
    }
   ],
   "source": [
    "gbt = ensemble.GradientBoostingClassifier(n_estimators = 100)\n",
    "gbt.fit(X_train, y_train)"
   ]
  },
  {
   "cell_type": "markdown",
   "metadata": {},
   "source": [
    "Проверим качество классификатора по величине ошибки на тестовой и обучающей выборках:"
   ]
  },
  {
   "cell_type": "code",
   "execution_count": 102,
   "metadata": {},
   "outputs": [
    {
     "name": "stdout",
     "output_type": "stream",
     "text": [
      "0.172348484848 0.286263208453\n"
     ]
    }
   ],
   "source": [
    "err_train = np.mean(y_train != gbt.predict(X_train))\n",
    "err_test  = np.mean(y_test  != gbt.predict(X_test))\n",
    "\n",
    "print(err_train, err_test)"
   ]
  },
  {
   "cell_type": "markdown",
   "metadata": {},
   "source": [
    "Наблюдается ситуация переобучения, т.к. ошибка на тестовой выборке оказалась выше, чем на обучающей."
   ]
  },
  {
   "cell_type": "markdown",
   "metadata": {},
   "source": [
    "Построим график зависимости ошибки (на обучающей и тестовой выборке) от количества используемых деревьев:"
   ]
  },
  {
   "cell_type": "code",
   "execution_count": 108,
   "metadata": {},
   "outputs": [
    {
     "data": {
      "image/png": "[encoded data removed]",
      "text/plain": [
       "<matplotlib.figure.Figure at 0x252a014a6d8>"
      ]
     },
     "metadata": {},
     "output_type": "display_data"
    }
   ],
   "source": [
    "trees_arr = np.arange(25, 126, 5)\n",
    "test_err = []\n",
    "train_err = []\n",
    "for trees in trees_arr:\n",
    "    gbt = ensemble.GradientBoostingClassifier(n_estimators = trees)\n",
    "    gbt.fit(X_train, y_train)\n",
    "    train_err.append(np.mean(y_train != gbt.predict(X_train)))\n",
    "    test_err.append(np.mean(y_test  != gbt.predict(X_test)))\n",
    "\n",
    "plt.plot(trees_arr, train_err, 'b-o', label = 'train')\n",
    "plt.plot(trees_arr, test_err, 'r-o', label = 'test')\n",
    "plt.xlim([np.max(trees_arr), np.min(trees_arr)])\n",
    "plt.title('Error vs. number of trees')\n",
    "plt.xlabel('trees')\n",
    "plt.ylabel('error')\n",
    "plt.legend()\n",
    "pass"
   ]
  },
  {
   "cell_type": "markdown",
   "metadata": {},
   "source": [
    "Переобучение наблюдается на всем экспериментальном множестве количества деревьев. При увеличении количества деревьев значение ошибки уменьшается."
   ]
  },
  {
   "cell_type": "markdown",
   "metadata": {},
   "source": [
    "Минимальное значение ошибки:"
   ]
  },
  {
   "cell_type": "code",
   "execution_count": 111,
   "metadata": {},
   "outputs": [
    {
     "name": "stdout",
     "output_type": "stream",
     "text": [
      "0.162878787879 0.277617675312\n"
     ]
    }
   ],
   "source": [
    "min_train_err = np.min(train_err)\n",
    "min_test_err = np.min(test_err)\n",
    "print(min_train_err, min_test_err)"
   ]
  },
  {
   "cell_type": "markdown",
   "metadata": {},
   "source": [
    "Оптимальное количество деревьев:"
   ]
  },
  {
   "cell_type": "code",
   "execution_count": 112,
   "metadata": {},
   "outputs": [
    {
     "name": "stdout",
     "output_type": "stream",
     "text": [
      "125\n"
     ]
    }
   ],
   "source": [
    "trees_opt = trees_arr[test_err == min_test_err]\n",
    "trees_opt = trees_opt[0]\n",
    "print(trees_opt)"
   ]
  },
  {
   "cell_type": "code",
   "execution_count": null,
   "metadata": {
    "collapsed": true
   },
   "outputs": [],
   "source": []
  }
 ],
 "metadata": {
  "kernelspec": {
   "display_name": "Python 3",
   "language": "python",
   "name": "python3"
  },
  "language_info": {
   "codemirror_mode": {
    "name": "ipython",
    "version": 3
   },
   "file_extension": ".py",
   "mimetype": "text/x-python",
   "name": "python",
   "nbconvert_exporter": "python",
   "pygments_lexer": "ipython3",
   "version": "3.6.2"
  }
 },
 "nbformat": 4,
 "nbformat_minor": 2
}
